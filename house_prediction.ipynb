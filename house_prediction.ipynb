{
 "cells": [
  {
   "cell_type": "markdown",
   "metadata": {},
   "source": [
    "### Import Library\n"
   ]
  },
  {
   "cell_type": "code",
   "execution_count": 3,
   "metadata": {},
   "outputs": [],
   "source": [
    "import numpy as np\n",
    "import pandas as pd\n",
    "\n",
    "import matplotlib.pyplot as plt\n",
    "import seaborn as sns\n",
    "import plotly.express as px\n",
    "from plotly.subplots import make_subplots\n",
    "import plotly.graph_objs as go\n",
    "\n",
    "from sklearn.preprocessing import LabelEncoder\n",
    "from sklearn.preprocessing import StandardScaler\n",
    "from sklearn.linear_model import LinearRegression\n",
    "\n",
    "from sklearn.metrics import mean_squared_error\n",
    "from sklearn.model_selection import GridSearchCV\n",
    "from sklearn.linear_model import Ridge\n",
    "from sklearn.preprocessing import PolynomialFeatures\n",
    "from sklearn.pipeline import make_pipeline\n",
    "\n",
    "import warnings\n",
    "warnings.filterwarnings('ignore')\n",
    "%matplotlib inline\n"
   ]
  },
  {
   "cell_type": "markdown",
   "metadata": {},
   "source": [
    "## Load Dataset\n"
   ]
  },
  {
   "cell_type": "code",
   "execution_count": 4,
   "metadata": {},
   "outputs": [
    {
     "name": "stdout",
     "output_type": "stream",
     "text": [
      "(14000, 6)\n"
     ]
    },
    {
     "data": {
      "text/html": [
       "<div>\n",
       "<style scoped>\n",
       "    .dataframe tbody tr th:only-of-type {\n",
       "        vertical-align: middle;\n",
       "    }\n",
       "\n",
       "    .dataframe tbody tr th {\n",
       "        vertical-align: top;\n",
       "    }\n",
       "\n",
       "    .dataframe thead th {\n",
       "        text-align: right;\n",
       "    }\n",
       "</style>\n",
       "<table border=\"1\" class=\"dataframe\">\n",
       "  <thead>\n",
       "    <tr style=\"text-align: right;\">\n",
       "      <th></th>\n",
       "      <th>loc</th>\n",
       "      <th>title</th>\n",
       "      <th>bedroom</th>\n",
       "      <th>bathroom</th>\n",
       "      <th>parking_space</th>\n",
       "      <th>price</th>\n",
       "    </tr>\n",
       "  </thead>\n",
       "  <tbody>\n",
       "    <tr>\n",
       "      <th>0</th>\n",
       "      <td>Katsina</td>\n",
       "      <td>Semi-detached duplex</td>\n",
       "      <td>2.0</td>\n",
       "      <td>2.0</td>\n",
       "      <td>1.0</td>\n",
       "      <td>1149999.565</td>\n",
       "    </tr>\n",
       "    <tr>\n",
       "      <th>1</th>\n",
       "      <td>Ondo</td>\n",
       "      <td>Apartment</td>\n",
       "      <td>NaN</td>\n",
       "      <td>2.0</td>\n",
       "      <td>4.0</td>\n",
       "      <td>1672416.689</td>\n",
       "    </tr>\n",
       "    <tr>\n",
       "      <th>2</th>\n",
       "      <td>Ekiti</td>\n",
       "      <td>NaN</td>\n",
       "      <td>7.0</td>\n",
       "      <td>5.0</td>\n",
       "      <td>NaN</td>\n",
       "      <td>3364799.814</td>\n",
       "    </tr>\n",
       "  </tbody>\n",
       "</table>\n",
       "</div>"
      ],
      "text/plain": [
       "       loc                 title  bedroom  bathroom  parking_space  \\\n",
       "0  Katsina  Semi-detached duplex      2.0       2.0            1.0   \n",
       "1     Ondo             Apartment      NaN       2.0            4.0   \n",
       "2    Ekiti                   NaN      7.0       5.0            NaN   \n",
       "\n",
       "         price  \n",
       "0  1149999.565  \n",
       "1  1672416.689  \n",
       "2  3364799.814  "
      ]
     },
     "execution_count": 4,
     "metadata": {},
     "output_type": "execute_result"
    }
   ],
   "source": [
    "df_train = pd.read_csv(\"data/Housing_dataset_train.csv\")\n",
    "df_train.drop('ID', axis=1, inplace=True)\n",
    "print(df_train.shape)\n",
    "df_train.head(3)\n"
   ]
  },
  {
   "cell_type": "code",
   "execution_count": 5,
   "metadata": {},
   "outputs": [
    {
     "name": "stdout",
     "output_type": "stream",
     "text": [
      "(6000, 5)\n"
     ]
    },
    {
     "data": {
      "text/html": [
       "<div>\n",
       "<style scoped>\n",
       "    .dataframe tbody tr th:only-of-type {\n",
       "        vertical-align: middle;\n",
       "    }\n",
       "\n",
       "    .dataframe tbody tr th {\n",
       "        vertical-align: top;\n",
       "    }\n",
       "\n",
       "    .dataframe thead th {\n",
       "        text-align: right;\n",
       "    }\n",
       "</style>\n",
       "<table border=\"1\" class=\"dataframe\">\n",
       "  <thead>\n",
       "    <tr style=\"text-align: right;\">\n",
       "      <th></th>\n",
       "      <th>loc</th>\n",
       "      <th>title</th>\n",
       "      <th>bedroom</th>\n",
       "      <th>bathroom</th>\n",
       "      <th>parking_space</th>\n",
       "    </tr>\n",
       "  </thead>\n",
       "  <tbody>\n",
       "    <tr>\n",
       "      <th>0</th>\n",
       "      <td>Kano</td>\n",
       "      <td>Penthouse</td>\n",
       "      <td>4</td>\n",
       "      <td>1</td>\n",
       "      <td>2</td>\n",
       "    </tr>\n",
       "    <tr>\n",
       "      <th>1</th>\n",
       "      <td>Adamawa</td>\n",
       "      <td>Apartment</td>\n",
       "      <td>2</td>\n",
       "      <td>2</td>\n",
       "      <td>4</td>\n",
       "    </tr>\n",
       "    <tr>\n",
       "      <th>2</th>\n",
       "      <td>Adamawa</td>\n",
       "      <td>Bungalow</td>\n",
       "      <td>2</td>\n",
       "      <td>7</td>\n",
       "      <td>2</td>\n",
       "    </tr>\n",
       "    <tr>\n",
       "      <th>3</th>\n",
       "      <td>Lagos</td>\n",
       "      <td>Mansion</td>\n",
       "      <td>9</td>\n",
       "      <td>5</td>\n",
       "      <td>2</td>\n",
       "    </tr>\n",
       "    <tr>\n",
       "      <th>4</th>\n",
       "      <td>Gombe</td>\n",
       "      <td>Semi-detached duplex</td>\n",
       "      <td>5</td>\n",
       "      <td>6</td>\n",
       "      <td>1</td>\n",
       "    </tr>\n",
       "  </tbody>\n",
       "</table>\n",
       "</div>"
      ],
      "text/plain": [
       "       loc                 title  bedroom  bathroom  parking_space\n",
       "0     Kano             Penthouse        4         1              2\n",
       "1  Adamawa             Apartment        2         2              4\n",
       "2  Adamawa              Bungalow        2         7              2\n",
       "3    Lagos               Mansion        9         5              2\n",
       "4    Gombe  Semi-detached duplex        5         6              1"
      ]
     },
     "execution_count": 5,
     "metadata": {},
     "output_type": "execute_result"
    }
   ],
   "source": [
    "df_test = pd.read_csv(\"data/Housing_dataset_test.csv\")\n",
    "df_test.drop('ID', axis=1, inplace=True)\n",
    "print(df_test.shape)\n",
    "df_test.head()\n"
   ]
  },
  {
   "cell_type": "code",
   "execution_count": 6,
   "metadata": {},
   "outputs": [],
   "source": [
    "df_test[\"price\"] = \"test\"\n"
   ]
  },
  {
   "cell_type": "code",
   "execution_count": 7,
   "metadata": {},
   "outputs": [
    {
     "data": {
      "text/html": [
       "<div>\n",
       "<style scoped>\n",
       "    .dataframe tbody tr th:only-of-type {\n",
       "        vertical-align: middle;\n",
       "    }\n",
       "\n",
       "    .dataframe tbody tr th {\n",
       "        vertical-align: top;\n",
       "    }\n",
       "\n",
       "    .dataframe thead th {\n",
       "        text-align: right;\n",
       "    }\n",
       "</style>\n",
       "<table border=\"1\" class=\"dataframe\">\n",
       "  <thead>\n",
       "    <tr style=\"text-align: right;\">\n",
       "      <th></th>\n",
       "      <th>loc</th>\n",
       "      <th>title</th>\n",
       "      <th>bedroom</th>\n",
       "      <th>bathroom</th>\n",
       "      <th>parking_space</th>\n",
       "      <th>price</th>\n",
       "    </tr>\n",
       "  </thead>\n",
       "  <tbody>\n",
       "    <tr>\n",
       "      <th>0</th>\n",
       "      <td>Katsina</td>\n",
       "      <td>Semi-detached duplex</td>\n",
       "      <td>2.0</td>\n",
       "      <td>2.0</td>\n",
       "      <td>1.0</td>\n",
       "      <td>1149999.565</td>\n",
       "    </tr>\n",
       "    <tr>\n",
       "      <th>1</th>\n",
       "      <td>Ondo</td>\n",
       "      <td>Apartment</td>\n",
       "      <td>NaN</td>\n",
       "      <td>2.0</td>\n",
       "      <td>4.0</td>\n",
       "      <td>1672416.689</td>\n",
       "    </tr>\n",
       "    <tr>\n",
       "      <th>2</th>\n",
       "      <td>Ekiti</td>\n",
       "      <td>NaN</td>\n",
       "      <td>7.0</td>\n",
       "      <td>5.0</td>\n",
       "      <td>NaN</td>\n",
       "      <td>3364799.814</td>\n",
       "    </tr>\n",
       "    <tr>\n",
       "      <th>3</th>\n",
       "      <td>Anambra</td>\n",
       "      <td>Detached duplex</td>\n",
       "      <td>5.0</td>\n",
       "      <td>2.0</td>\n",
       "      <td>4.0</td>\n",
       "      <td>2410306.756</td>\n",
       "    </tr>\n",
       "    <tr>\n",
       "      <th>4</th>\n",
       "      <td>Kogi</td>\n",
       "      <td>Terrace duplex</td>\n",
       "      <td>NaN</td>\n",
       "      <td>5.0</td>\n",
       "      <td>6.0</td>\n",
       "      <td>2600700.898</td>\n",
       "    </tr>\n",
       "  </tbody>\n",
       "</table>\n",
       "</div>"
      ],
      "text/plain": [
       "       loc                 title  bedroom  bathroom  parking_space  \\\n",
       "0  Katsina  Semi-detached duplex      2.0       2.0            1.0   \n",
       "1     Ondo             Apartment      NaN       2.0            4.0   \n",
       "2    Ekiti                   NaN      7.0       5.0            NaN   \n",
       "3  Anambra       Detached duplex      5.0       2.0            4.0   \n",
       "4     Kogi        Terrace duplex      NaN       5.0            6.0   \n",
       "\n",
       "         price  \n",
       "0  1149999.565  \n",
       "1  1672416.689  \n",
       "2  3364799.814  \n",
       "3  2410306.756  \n",
       "4  2600700.898  "
      ]
     },
     "execution_count": 7,
     "metadata": {},
     "output_type": "execute_result"
    }
   ],
   "source": [
    "# join test and train data\n",
    "df = pd.concat([df_train, df_test], axis=0, sort=False)\n",
    "df.head()\n"
   ]
  },
  {
   "cell_type": "code",
   "execution_count": 8,
   "metadata": {},
   "outputs": [
    {
     "data": {
      "text/plain": [
       "(20000, 6)"
      ]
     },
     "execution_count": 8,
     "metadata": {},
     "output_type": "execute_result"
    }
   ],
   "source": [
    "df.shape\n"
   ]
  },
  {
   "cell_type": "code",
   "execution_count": 9,
   "metadata": {},
   "outputs": [
    {
     "name": "stdout",
     "output_type": "stream",
     "text": [
      "<class 'pandas.core.frame.DataFrame'>\n",
      "Int64Index: 20000 entries, 0 to 5999\n",
      "Data columns (total 6 columns):\n",
      " #   Column         Non-Null Count  Dtype  \n",
      "---  ------         --------------  -----  \n",
      " 0   loc            18187 non-null  object \n",
      " 1   title          18278 non-null  object \n",
      " 2   bedroom        18201 non-null  float64\n",
      " 3   bathroom       18195 non-null  float64\n",
      " 4   parking_space  18189 non-null  float64\n",
      " 5   price          20000 non-null  object \n",
      "dtypes: float64(3), object(3)\n",
      "memory usage: 1.1+ MB\n"
     ]
    }
   ],
   "source": [
    "df.info()\n"
   ]
  },
  {
   "cell_type": "markdown",
   "metadata": {},
   "source": [
    "### Check for missing Values\n"
   ]
  },
  {
   "cell_type": "code",
   "execution_count": 10,
   "metadata": {},
   "outputs": [
    {
     "data": {
      "text/plain": [
       "loc              1813\n",
       "title            1722\n",
       "bedroom          1799\n",
       "bathroom         1805\n",
       "parking_space    1811\n",
       "price               0\n",
       "dtype: int64"
      ]
     },
     "execution_count": 10,
     "metadata": {},
     "output_type": "execute_result"
    }
   ],
   "source": [
    "df_train.isna().sum()"
   ]
  },
  {
   "cell_type": "code",
   "execution_count": 11,
   "metadata": {},
   "outputs": [
    {
     "data": {
      "text/plain": [
       "loc              1813\n",
       "title            1722\n",
       "bedroom          1799\n",
       "bathroom         1805\n",
       "parking_space    1811\n",
       "price               0\n",
       "dtype: int64"
      ]
     },
     "execution_count": 11,
     "metadata": {},
     "output_type": "execute_result"
    }
   ],
   "source": [
    "df.isna().sum()\n"
   ]
  },
  {
   "cell_type": "markdown",
   "metadata": {},
   "source": [
    "## Data Preprocessing"
   ]
  },
  {
   "cell_type": "markdown",
   "metadata": {},
   "source": [
    "### Train-test split"
   ]
  },
  {
   "cell_type": "code",
   "execution_count": 52,
   "metadata": {},
   "outputs": [],
   "source": [
    "# Divide the dataframe into train and test based on the 'price' column\n",
    "# df_train = df[~df[\"price\"].astype(str).str.contains(\"test\")]\n",
    "# df_test = df[df[\"price\"].astype(str).str.contains(\"test\")]\n",
    "\n",
    "# Reset the index of the dataframes\n",
    "# df_train = df_train.reset_index(drop=True)\n",
    "# df_test = df_test.reset_index(drop=True)\n"
   ]
  },
  {
   "cell_type": "markdown",
   "metadata": {},
   "source": [
    "### Label Encoding"
   ]
  },
  {
   "cell_type": "markdown",
   "metadata": {},
   "source": [
    "### Filling all missing values\n"
   ]
  },
  {
   "cell_type": "code",
   "execution_count": 53,
   "metadata": {},
   "outputs": [
    {
     "name": "stdout",
     "output_type": "stream",
     "text": [
      "4.0\n",
      "2\n",
      "2.0\n"
     ]
    }
   ],
   "source": [
    "print(df_train['parking_space'].mode()[0])\n",
    "print(df_test['parking_space'].mode()[0])\n",
    "print(df['parking_space'].mode()[0])"
   ]
  },
  {
   "cell_type": "code",
   "execution_count": 54,
   "metadata": {},
   "outputs": [
    {
     "data": {
      "text/plain": [
       "loc              12.950000\n",
       "title            12.300000\n",
       "bedroom          12.850000\n",
       "bathroom         12.892857\n",
       "parking_space    12.935714\n",
       "price             0.000000\n",
       "dtype: float64"
      ]
     },
     "execution_count": 54,
     "metadata": {},
     "output_type": "execute_result"
    }
   ],
   "source": [
    "df_train.isna().sum() / len(df_train) * 100\n"
   ]
  },
  {
   "cell_type": "code",
   "execution_count": 55,
   "metadata": {},
   "outputs": [],
   "source": [
    "from sklearn.impute import SimpleImputer\n",
    "\n",
    "imp_mode = SimpleImputer(missing_values=np.nan, strategy=\"most_frequent\")\n",
    "imp_mode.fit(df_train)\n",
    "\n",
    "df_train = pd.DataFrame(imp_mode.transform(df_train), columns=df.columns)\n",
    "df_test = pd.DataFrame(imp_mode.transform(df_test), columns=df.columns)\n"
   ]
  },
  {
   "cell_type": "code",
   "execution_count": 56,
   "metadata": {},
   "outputs": [
    {
     "name": "stdout",
     "output_type": "stream",
     "text": [
      "loc              0\n",
      "title            0\n",
      "bedroom          0\n",
      "bathroom         0\n",
      "parking_space    0\n",
      "price            0\n",
      "dtype: int64\n",
      "loc              0\n",
      "title            0\n",
      "bedroom          0\n",
      "bathroom         0\n",
      "parking_space    0\n",
      "price            0\n",
      "dtype: int64\n"
     ]
    }
   ],
   "source": [
    "print(df_train.isna().sum())\n",
    "print(df_test.isna().sum())"
   ]
  },
  {
   "cell_type": "code",
   "execution_count": 57,
   "metadata": {},
   "outputs": [],
   "source": [
    "# df[\"bedroom\"] = df[\"bedroom\"].fillna(df[\"bedroom\"].mode()[0])\n",
    "# df[\"bathroom\"] = df[\"bathroom\"].fillna(df[\"bathroom\"].mode()[0])\n",
    "# df[\"parking_space\"] = df[\"parking_space\"].fillna(df[\"parking_space\"].mode()[0])\n",
    "# df[\"loc\"] = df[\"loc\"].fillna(df[\"loc\"].mode()[0])\n",
    "# df[\"title\"] = df[\"title\"].fillna(df[\"title\"].mode()[0])\n"
   ]
  },
  {
   "cell_type": "markdown",
   "metadata": {},
   "source": [
    "### Label Encoding"
   ]
  },
  {
   "cell_type": "code",
   "execution_count": 58,
   "metadata": {},
   "outputs": [
    {
     "data": {
      "text/html": [
       "<div>\n",
       "<style scoped>\n",
       "    .dataframe tbody tr th:only-of-type {\n",
       "        vertical-align: middle;\n",
       "    }\n",
       "\n",
       "    .dataframe tbody tr th {\n",
       "        vertical-align: top;\n",
       "    }\n",
       "\n",
       "    .dataframe thead th {\n",
       "        text-align: right;\n",
       "    }\n",
       "</style>\n",
       "<table border=\"1\" class=\"dataframe\">\n",
       "  <thead>\n",
       "    <tr style=\"text-align: right;\">\n",
       "      <th></th>\n",
       "      <th>loc</th>\n",
       "      <th>title</th>\n",
       "      <th>bedroom</th>\n",
       "      <th>bathroom</th>\n",
       "      <th>parking_space</th>\n",
       "      <th>price</th>\n",
       "    </tr>\n",
       "  </thead>\n",
       "  <tbody>\n",
       "    <tr>\n",
       "      <th>0</th>\n",
       "      <td>19</td>\n",
       "      <td>7</td>\n",
       "      <td>2.0</td>\n",
       "      <td>2.0</td>\n",
       "      <td>1.0</td>\n",
       "      <td>1149999.565</td>\n",
       "    </tr>\n",
       "    <tr>\n",
       "      <th>1</th>\n",
       "      <td>27</td>\n",
       "      <td>0</td>\n",
       "      <td>5.0</td>\n",
       "      <td>2.0</td>\n",
       "      <td>4.0</td>\n",
       "      <td>1672416.689</td>\n",
       "    </tr>\n",
       "    <tr>\n",
       "      <th>2</th>\n",
       "      <td>12</td>\n",
       "      <td>4</td>\n",
       "      <td>7.0</td>\n",
       "      <td>5.0</td>\n",
       "      <td>4.0</td>\n",
       "      <td>3364799.814</td>\n",
       "    </tr>\n",
       "    <tr>\n",
       "      <th>3</th>\n",
       "      <td>3</td>\n",
       "      <td>3</td>\n",
       "      <td>5.0</td>\n",
       "      <td>2.0</td>\n",
       "      <td>4.0</td>\n",
       "      <td>2410306.756</td>\n",
       "    </tr>\n",
       "    <tr>\n",
       "      <th>4</th>\n",
       "      <td>21</td>\n",
       "      <td>8</td>\n",
       "      <td>5.0</td>\n",
       "      <td>5.0</td>\n",
       "      <td>6.0</td>\n",
       "      <td>2600700.898</td>\n",
       "    </tr>\n",
       "  </tbody>\n",
       "</table>\n",
       "</div>"
      ],
      "text/plain": [
       "   loc  title bedroom bathroom parking_space        price\n",
       "0   19      7     2.0      2.0           1.0  1149999.565\n",
       "1   27      0     5.0      2.0           4.0  1672416.689\n",
       "2   12      4     7.0      5.0           4.0  3364799.814\n",
       "3    3      3     5.0      2.0           4.0  2410306.756\n",
       "4   21      8     5.0      5.0           6.0  2600700.898"
      ]
     },
     "execution_count": 58,
     "metadata": {},
     "output_type": "execute_result"
    }
   ],
   "source": [
    "le = LabelEncoder()\n",
    "\n",
    "# encode location amd title\n",
    "for col in [\"loc\", \"title\"]:\n",
    "    le = le.fit(df_train[col])\n",
    "    df_train[col] = le.transform(df_train[col])\n",
    "    df_test[col] = le.transform(df_test[col])\n",
    "df_train.head()"
   ]
  },
  {
   "cell_type": "code",
   "execution_count": 59,
   "metadata": {},
   "outputs": [
    {
     "data": {
      "text/html": [
       "<div>\n",
       "<style scoped>\n",
       "    .dataframe tbody tr th:only-of-type {\n",
       "        vertical-align: middle;\n",
       "    }\n",
       "\n",
       "    .dataframe tbody tr th {\n",
       "        vertical-align: top;\n",
       "    }\n",
       "\n",
       "    .dataframe thead th {\n",
       "        text-align: right;\n",
       "    }\n",
       "</style>\n",
       "<table border=\"1\" class=\"dataframe\">\n",
       "  <thead>\n",
       "    <tr style=\"text-align: right;\">\n",
       "      <th></th>\n",
       "      <th>loc</th>\n",
       "      <th>title</th>\n",
       "      <th>bedroom</th>\n",
       "      <th>bathroom</th>\n",
       "      <th>parking_space</th>\n",
       "      <th>price</th>\n",
       "    </tr>\n",
       "  </thead>\n",
       "  <tbody>\n",
       "    <tr>\n",
       "      <th>0</th>\n",
       "      <td>18</td>\n",
       "      <td>6</td>\n",
       "      <td>4</td>\n",
       "      <td>1</td>\n",
       "      <td>2</td>\n",
       "      <td>test</td>\n",
       "    </tr>\n",
       "    <tr>\n",
       "      <th>1</th>\n",
       "      <td>1</td>\n",
       "      <td>0</td>\n",
       "      <td>2</td>\n",
       "      <td>2</td>\n",
       "      <td>4</td>\n",
       "      <td>test</td>\n",
       "    </tr>\n",
       "    <tr>\n",
       "      <th>2</th>\n",
       "      <td>1</td>\n",
       "      <td>1</td>\n",
       "      <td>2</td>\n",
       "      <td>7</td>\n",
       "      <td>2</td>\n",
       "      <td>test</td>\n",
       "    </tr>\n",
       "    <tr>\n",
       "      <th>3</th>\n",
       "      <td>23</td>\n",
       "      <td>5</td>\n",
       "      <td>9</td>\n",
       "      <td>5</td>\n",
       "      <td>2</td>\n",
       "      <td>test</td>\n",
       "    </tr>\n",
       "    <tr>\n",
       "      <th>4</th>\n",
       "      <td>14</td>\n",
       "      <td>7</td>\n",
       "      <td>5</td>\n",
       "      <td>6</td>\n",
       "      <td>1</td>\n",
       "      <td>test</td>\n",
       "    </tr>\n",
       "  </tbody>\n",
       "</table>\n",
       "</div>"
      ],
      "text/plain": [
       "   loc  title bedroom bathroom parking_space price\n",
       "0   18      6       4        1             2  test\n",
       "1    1      0       2        2             4  test\n",
       "2    1      1       2        7             2  test\n",
       "3   23      5       9        5             2  test\n",
       "4   14      7       5        6             1  test"
      ]
     },
     "execution_count": 59,
     "metadata": {},
     "output_type": "execute_result"
    }
   ],
   "source": [
    "df_test.head()"
   ]
  },
  {
   "cell_type": "markdown",
   "metadata": {},
   "source": [
    "## Model"
   ]
  },
  {
   "cell_type": "code",
   "execution_count": 60,
   "metadata": {},
   "outputs": [
    {
     "name": "stdout",
     "output_type": "stream",
     "text": [
      "(14000, 6) (6000, 6)\n"
     ]
    }
   ],
   "source": [
    "print(df_train.shape, df_test.shape)\n"
   ]
  },
  {
   "cell_type": "markdown",
   "metadata": {},
   "source": [
    "### Scaling of dataset\n"
   ]
  },
  {
   "cell_type": "code",
   "execution_count": 61,
   "metadata": {},
   "outputs": [],
   "source": [
    "X = df_train.drop(\"price\", axis=1)\n",
    "y = df_train[\"price\"].astype(float)\n",
    "X_test = df_test.drop(\"price\", axis=1)\n",
    "y_test = df_test[\"price\"]\n"
   ]
  },
  {
   "cell_type": "code",
   "execution_count": 62,
   "metadata": {},
   "outputs": [],
   "source": [
    "# scale the dataset with standard scaler\n",
    "\n",
    "scaler = StandardScaler()\n",
    "train_scaler = scaler.fit(X)\n",
    "X = train_scaler.transform(X)\n",
    "# scaler.fit(X_test)\n",
    "X_test = train_scaler.transform(X_test)\n"
   ]
  },
  {
   "cell_type": "code",
   "execution_count": 122,
   "metadata": {},
   "outputs": [
    {
     "name": "stdout",
     "output_type": "stream",
     "text": [
      "Index(['loc', 'title', 'bedroom', 'bathroom', 'parking_space'], dtype='object')\n"
     ]
    },
    {
     "data": {
      "text/html": [
       "<div>\n",
       "<style scoped>\n",
       "    .dataframe tbody tr th:only-of-type {\n",
       "        vertical-align: middle;\n",
       "    }\n",
       "\n",
       "    .dataframe tbody tr th {\n",
       "        vertical-align: top;\n",
       "    }\n",
       "\n",
       "    .dataframe thead th {\n",
       "        text-align: right;\n",
       "    }\n",
       "</style>\n",
       "<table border=\"1\" class=\"dataframe\">\n",
       "  <thead>\n",
       "    <tr style=\"text-align: right;\">\n",
       "      <th></th>\n",
       "      <th>loc</th>\n",
       "      <th>title</th>\n",
       "      <th>bedroom</th>\n",
       "      <th>bathroom</th>\n",
       "      <th>parking_space</th>\n",
       "    </tr>\n",
       "  </thead>\n",
       "  <tbody>\n",
       "    <tr>\n",
       "      <th>0</th>\n",
       "      <td>0.163812</td>\n",
       "      <td>0.892289</td>\n",
       "      <td>-1.046498</td>\n",
       "      <td>-0.423135</td>\n",
       "      <td>-1.500034</td>\n",
       "    </tr>\n",
       "    <tr>\n",
       "      <th>1</th>\n",
       "      <td>0.990773</td>\n",
       "      <td>-1.688331</td>\n",
       "      <td>0.263223</td>\n",
       "      <td>-0.423135</td>\n",
       "      <td>0.476110</td>\n",
       "    </tr>\n",
       "    <tr>\n",
       "      <th>2</th>\n",
       "      <td>-0.559779</td>\n",
       "      <td>-0.213691</td>\n",
       "      <td>1.136369</td>\n",
       "      <td>1.054513</td>\n",
       "      <td>0.476110</td>\n",
       "    </tr>\n",
       "    <tr>\n",
       "      <th>3</th>\n",
       "      <td>-1.490110</td>\n",
       "      <td>-0.582351</td>\n",
       "      <td>0.263223</td>\n",
       "      <td>-0.423135</td>\n",
       "      <td>0.476110</td>\n",
       "    </tr>\n",
       "    <tr>\n",
       "      <th>4</th>\n",
       "      <td>0.370552</td>\n",
       "      <td>1.260949</td>\n",
       "      <td>0.263223</td>\n",
       "      <td>1.054513</td>\n",
       "      <td>1.793539</td>\n",
       "    </tr>\n",
       "  </tbody>\n",
       "</table>\n",
       "</div>"
      ],
      "text/plain": [
       "        loc     title   bedroom  bathroom  parking_space\n",
       "0  0.163812  0.892289 -1.046498 -0.423135      -1.500034\n",
       "1  0.990773 -1.688331  0.263223 -0.423135       0.476110\n",
       "2 -0.559779 -0.213691  1.136369  1.054513       0.476110\n",
       "3 -1.490110 -0.582351  0.263223 -0.423135       0.476110\n",
       "4  0.370552  1.260949  0.263223  1.054513       1.793539"
      ]
     },
     "execution_count": 122,
     "metadata": {},
     "output_type": "execute_result"
    }
   ],
   "source": [
    "x_cols = df_train.columns[0:-1]\n",
    "print(x_cols)\n",
    "X = pd.DataFrame(X, columns=x_cols)\n",
    "X.head()"
   ]
  },
  {
   "cell_type": "code",
   "execution_count": 123,
   "metadata": {},
   "outputs": [
    {
     "name": "stdout",
     "output_type": "stream",
     "text": [
      "(10500, 5) (3500, 5)\n",
      "(10500,) (3500,)\n"
     ]
    }
   ],
   "source": [
    "# split dataset\n",
    "\n",
    "from sklearn.model_selection import train_test_split\n",
    "\n",
    "X_train, X_val, y_train, y_val = train_test_split(X, y, random_state=7)\n",
    "\n",
    "print(X_train.shape, X_val.shape)\n",
    "print(y_train.shape, y_val.shape)\n"
   ]
  },
  {
   "cell_type": "markdown",
   "metadata": {},
   "source": [
    "### Model Creation\n"
   ]
  },
  {
   "cell_type": "code",
   "execution_count": 64,
   "metadata": {},
   "outputs": [],
   "source": [
    "def fit_score(model, X, y):\n",
    "    X_train, X_val, y_train, y_val = train_test_split(X, y, random_state=7)\n",
    "    \n",
    "    model.fit(X_train, y_train)\n",
    "    y_pred = model.predict(X_val)\n",
    "    \n",
    "    rmse = round(mean_squared_error(y_val, y_pred, squared=False))\n",
    "    print(f\"RMSE: {rmse:,}\")\n",
    "    \n",
    "    model.fit(X,y)\n",
    "    return model"
   ]
  },
  {
   "cell_type": "markdown",
   "metadata": {},
   "source": [
    "### RandomForestRegressor"
   ]
  },
  {
   "cell_type": "code",
   "execution_count": 65,
   "metadata": {},
   "outputs": [],
   "source": [
    "# Create a linear regression model\n",
    "from sklearn.ensemble import RandomForestRegressor\n",
    "\n",
    "# model = RandomForestRegressor()\n",
    "\n",
    "# # Fit the model to the training data\n",
    "# model.fit(X_train, y_train)\n",
    "\n",
    "# # Predict the target variable for the test data\n",
    "# y_pred = model.predict(X_val)\n",
    "\n",
    "# rmse = round(mean_squared_error(y_val, y_pred, squared=False))\n",
    "# print(f\"RMSE: {rmse:,}\")\n"
   ]
  },
  {
   "cell_type": "code",
   "execution_count": 66,
   "metadata": {},
   "outputs": [
    {
     "name": "stdout",
     "output_type": "stream",
     "text": [
      "RMSE: 648,324\n"
     ]
    }
   ],
   "source": [
    "rf_model = fit_score(RandomForestRegressor(), X, y)\n",
    "predictions = rf_model.predict(X_test)"
   ]
  },
  {
   "cell_type": "code",
   "execution_count": 67,
   "metadata": {},
   "outputs": [
    {
     "name": "stdout",
     "output_type": "stream",
     "text": [
      "(6000, 1)\n"
     ]
    },
    {
     "data": {
      "text/html": [
       "<div>\n",
       "<style scoped>\n",
       "    .dataframe tbody tr th:only-of-type {\n",
       "        vertical-align: middle;\n",
       "    }\n",
       "\n",
       "    .dataframe tbody tr th {\n",
       "        vertical-align: top;\n",
       "    }\n",
       "\n",
       "    .dataframe thead th {\n",
       "        text-align: right;\n",
       "    }\n",
       "</style>\n",
       "<table border=\"1\" class=\"dataframe\">\n",
       "  <thead>\n",
       "    <tr style=\"text-align: right;\">\n",
       "      <th></th>\n",
       "      <th>ID</th>\n",
       "    </tr>\n",
       "  </thead>\n",
       "  <tbody>\n",
       "    <tr>\n",
       "      <th>0</th>\n",
       "      <td>845</td>\n",
       "    </tr>\n",
       "    <tr>\n",
       "      <th>1</th>\n",
       "      <td>1924</td>\n",
       "    </tr>\n",
       "    <tr>\n",
       "      <th>2</th>\n",
       "      <td>10718</td>\n",
       "    </tr>\n",
       "    <tr>\n",
       "      <th>3</th>\n",
       "      <td>12076</td>\n",
       "    </tr>\n",
       "    <tr>\n",
       "      <th>4</th>\n",
       "      <td>12254</td>\n",
       "    </tr>\n",
       "  </tbody>\n",
       "</table>\n",
       "</div>"
      ],
      "text/plain": [
       "      ID\n",
       "0    845\n",
       "1   1924\n",
       "2  10718\n",
       "3  12076\n",
       "4  12254"
      ]
     },
     "execution_count": 67,
     "metadata": {},
     "output_type": "execute_result"
    }
   ],
   "source": [
    "sample_sub = pd.read_csv('data/Sample_submission.csv')\n",
    "print(sample_sub.shape)\n",
    "sample_sub.head()"
   ]
  },
  {
   "cell_type": "code",
   "execution_count": 68,
   "metadata": {},
   "outputs": [
    {
     "data": {
      "text/html": [
       "<div>\n",
       "<style scoped>\n",
       "    .dataframe tbody tr th:only-of-type {\n",
       "        vertical-align: middle;\n",
       "    }\n",
       "\n",
       "    .dataframe tbody tr th {\n",
       "        vertical-align: top;\n",
       "    }\n",
       "\n",
       "    .dataframe thead th {\n",
       "        text-align: right;\n",
       "    }\n",
       "</style>\n",
       "<table border=\"1\" class=\"dataframe\">\n",
       "  <thead>\n",
       "    <tr style=\"text-align: right;\">\n",
       "      <th></th>\n",
       "      <th>ID</th>\n",
       "      <th>price</th>\n",
       "    </tr>\n",
       "  </thead>\n",
       "  <tbody>\n",
       "    <tr>\n",
       "      <th>0</th>\n",
       "      <td>845</td>\n",
       "      <td>2.395405e+06</td>\n",
       "    </tr>\n",
       "    <tr>\n",
       "      <th>1</th>\n",
       "      <td>1924</td>\n",
       "      <td>1.038551e+06</td>\n",
       "    </tr>\n",
       "    <tr>\n",
       "      <th>2</th>\n",
       "      <td>10718</td>\n",
       "      <td>1.357044e+06</td>\n",
       "    </tr>\n",
       "    <tr>\n",
       "      <th>3</th>\n",
       "      <td>12076</td>\n",
       "      <td>8.007182e+06</td>\n",
       "    </tr>\n",
       "    <tr>\n",
       "      <th>4</th>\n",
       "      <td>12254</td>\n",
       "      <td>1.974406e+06</td>\n",
       "    </tr>\n",
       "  </tbody>\n",
       "</table>\n",
       "</div>"
      ],
      "text/plain": [
       "      ID         price\n",
       "0    845  2.395405e+06\n",
       "1   1924  1.038551e+06\n",
       "2  10718  1.357044e+06\n",
       "3  12076  8.007182e+06\n",
       "4  12254  1.974406e+06"
      ]
     },
     "execution_count": 68,
     "metadata": {},
     "output_type": "execute_result"
    }
   ],
   "source": [
    "sample_sub['price'] = predictions\n",
    "sample_sub.to_csv('submissions/rf_regression_sub.csv', index=False)\n",
    "sample_sub.head()"
   ]
  },
  {
   "cell_type": "markdown",
   "metadata": {},
   "source": [
    "### Model Evaluation\n"
   ]
  },
  {
   "cell_type": "markdown",
   "metadata": {},
   "source": [
    "we evaluate the performance of the regression model by visually inspecting the predicted values and comparing them to the actual values in the training data since theres no test data.\n",
    "This will create a scatter plot of the predicted values versus the actual values in the training data.\n",
    "A good regression model will have the predicted values close to the actual values along the diagonal line.\n"
   ]
  },
  {
   "cell_type": "code",
   "execution_count": 69,
   "metadata": {},
   "outputs": [
    {
     "data": {
      "image/png": "[encoded data removed]",
      "text/plain": [
       "<Figure size 640x480 with 1 Axes>"
      ]
     },
     "metadata": {},
     "output_type": "display_data"
    }
   ],
   "source": [
    "# Create a scatter plot of the predicted vs actual values\n",
    "sns.scatterplot(x=df_train[\"price\"], y=rf_model.predict(df_train.drop(\"price\", axis=1)))\n",
    "plt.xlabel(\"Actual Price\")\n",
    "plt.ylabel(\"Predicted Price\")\n",
    "plt.show() \n"
   ]
  },
  {
   "cell_type": "markdown",
   "metadata": {},
   "source": [
    "### Improving model performance\n"
   ]
  },
  {
   "cell_type": "markdown",
   "metadata": {},
   "source": [
    "### Ridge regularization\n"
   ]
  },
  {
   "cell_type": "code",
   "execution_count": 70,
   "metadata": {},
   "outputs": [
    {
     "name": "stdout",
     "output_type": "stream",
     "text": [
      "RMSE: 919,332\n"
     ]
    }
   ],
   "source": [
    "from sklearn.linear_model import Ridge\n",
    "\n",
    "# Create a Ridge regression model with a regularization strength of 0.1\n",
    "model = Ridge(alpha=0.1)\n",
    "\n",
    "# Fit the model to the training data\n",
    "model.fit(X_train, y_train)\n",
    "\n",
    "# Predict the target variable for the test data\n",
    "y_pred = model.predict(X_val)\n",
    "\n",
    "# Calculate the RMSE of the model on the validation data\n",
    "rmse = round(mean_squared_error(y_val, y_pred, squared=False))\n",
    "print(f\"RMSE: {rmse:,}\")\n"
   ]
  },
  {
   "cell_type": "code",
   "execution_count": null,
   "metadata": {},
   "outputs": [],
   "source": []
  },
  {
   "cell_type": "markdown",
   "metadata": {},
   "source": [
    "### hyper parameter tuning\n"
   ]
  },
  {
   "cell_type": "code",
   "execution_count": 71,
   "metadata": {},
   "outputs": [],
   "source": [
    "# Define the hyperparameters to tune\n",
    "# param_grid = {\n",
    "#     \"ridge__alpha\": [0.1, 1, 10, 100],\n",
    "#     \"ridge__fit_intercept\": [True, False],\n",
    "#     \"polynomialfeatures__degree\": [1, 2, 3],\n",
    "# }\n",
    "\n",
    "# # Create a Ridge regression model\n",
    "# model = make_pipeline(PolynomialFeatures(), Ridge())\n",
    "\n",
    "# # Create a grid search object\n",
    "# grid_search = GridSearchCV(model, param_grid, cv=5, scoring=\"neg_root_mean_squared_error\")\n",
    "\n",
    "# # Fit the grid search object to the training data\n",
    "# grid_search.fit(X_train, y_train)\n",
    "\n",
    "# # Print the best hyperparameters and the corresponding score\n",
    "# print(\"Best hyperparameters:\", grid_search.best_params_)\n",
    "# print(\"Best score:\", f\"{-grid_search.best_score_:,.0f}\")\n"
   ]
  },
  {
   "cell_type": "code",
   "execution_count": 72,
   "metadata": {},
   "outputs": [],
   "source": [
    "# # Create a Ridge regression model with the best hyperparameters\n",
    "# model = make_pipeline(\n",
    "#     PolynomialFeatures(degree=grid_search.best_params_[\"polynomialfeatures__degree\"]),\n",
    "#     Ridge(\n",
    "#         alpha=grid_search.best_params_[\"ridge__alpha\"],\n",
    "#         fit_intercept=grid_search.best_params_[\"ridge__fit_intercept\"],\n",
    "#     ),\n",
    "# )\n",
    "\n",
    "# # Train the model on the entire training set\n",
    "# model.fit(X_train, y_train)\n",
    "\n",
    "# # Make predictions on the test set\n",
    "# y_pred = model.predict(X_val)\n",
    "\n",
    "# # Calculate the RMSE of the model on the test set\n",
    "# rmse = mean_squared_error(y_val, y_pred, squared=False)\n",
    "\n",
    "# print(\"RMSE:\", f\"{rmse:,.0f}\")\n"
   ]
  },
  {
   "cell_type": "markdown",
   "metadata": {},
   "source": [
    "### GradientBoostingRegressor"
   ]
  },
  {
   "cell_type": "code",
   "execution_count": 73,
   "metadata": {},
   "outputs": [
    {
     "name": "stdout",
     "output_type": "stream",
     "text": [
      "RMSE: 580,149\n"
     ]
    }
   ],
   "source": [
    "from sklearn.ensemble import GradientBoostingRegressor\n",
    "\n",
    "gb_model = fit_score(GradientBoostingRegressor(random_state=42), X, y)"
   ]
  },
  {
   "cell_type": "markdown",
   "metadata": {},
   "source": [
    "### Hyperparemeter tuning"
   ]
  },
  {
   "cell_type": "code",
   "execution_count": 74,
   "metadata": {},
   "outputs": [
    {
     "name": "stdout",
     "output_type": "stream",
     "text": [
      "Best hyperparameters: {'learning_rate': 0.1, 'max_depth': 5, 'n_estimators': 200}\n",
      "RMSE score: 548,323\n"
     ]
    }
   ],
   "source": [
    "# Define the hyperparameters to tune\n",
    "param_grid = {\n",
    "    \"n_estimators\": [100, 200, 300],\n",
    "    \"max_depth\": [3, 5, 7],\n",
    "    \"learning_rate\": [0.01, 0.1, 1],\n",
    "}\n",
    "\n",
    "# Create a Gradient Boosting model\n",
    "model = GradientBoostingRegressor()\n",
    "\n",
    "# Create a GridSearchCV object\n",
    "grid_search = GridSearchCV(\n",
    "    model, param_grid, cv=5, scoring=\"neg_root_mean_squared_error\", n_jobs=-1\n",
    ")\n",
    "\n",
    "# Fit the GridSearchCV object to the training data\n",
    "grid_search.fit(X_train, y_train)\n",
    "\n",
    "# Print the best hyperparameters and the corresponding RMSE score\n",
    "print(\"Best hyperparameters:\", grid_search.best_params_)\n",
    "print(\"RMSE score:\", f\"{ -grid_search.best_score_:,.0f}\")"
   ]
  },
  {
   "cell_type": "code",
   "execution_count": 75,
   "metadata": {},
   "outputs": [
    {
     "name": "stdout",
     "output_type": "stream",
     "text": [
      "Best hyperparameters: {'learning_rate': 0.1, 'max_depth': 5, 'n_estimators': 200}\n",
      "RMSE score: 545,088\n"
     ]
    }
   ],
   "source": [
    "# Define the hyperparameters to tune\n",
    "param_grid = {\n",
    "    \"n_estimators\": [150, 200, 125],\n",
    "    \"max_depth\": [4, 5, 6],\n",
    "    \"learning_rate\": [0.01, 0.1, 1],\n",
    "}\n",
    "\n",
    "# Create a Gradient Boosting model\n",
    "model = GradientBoostingRegressor()\n",
    "\n",
    "# Create a GridSearchCV object\n",
    "grid_search = GridSearchCV(\n",
    "    model, param_grid, cv=10, scoring=\"neg_root_mean_squared_error\", n_jobs=-1\n",
    ")\n",
    "\n",
    "# Fit the GridSearchCV object to the training data\n",
    "grid_search.fit(X_train, y_train)\n",
    "\n",
    "# Print the best hyperparameters and the corresponding RMSE score\n",
    "print(\"Best hyperparameters:\", grid_search.best_params_)\n",
    "print(\"RMSE score:\", f\"{ -grid_search.best_score_:,.0f}\")"
   ]
  },
  {
   "cell_type": "code",
   "execution_count": 77,
   "metadata": {},
   "outputs": [],
   "source": [
    "# def fn(**grid_search.best_params_):\n",
    "#     return grid_search.best_params_"
   ]
  },
  {
   "cell_type": "code",
   "execution_count": 78,
   "metadata": {},
   "outputs": [
    {
     "name": "stdout",
     "output_type": "stream",
     "text": [
      "RMSE: 541,897\n"
     ]
    }
   ],
   "source": [
    "gb_model = fit_score(\n",
    "    GradientBoostingRegressor(random_state=42, **grid_search.best_params_), X, y\n",
    ")\n"
   ]
  },
  {
   "cell_type": "code",
   "execution_count": 79,
   "metadata": {},
   "outputs": [
    {
     "data": {
      "text/html": [
       "<div>\n",
       "<style scoped>\n",
       "    .dataframe tbody tr th:only-of-type {\n",
       "        vertical-align: middle;\n",
       "    }\n",
       "\n",
       "    .dataframe tbody tr th {\n",
       "        vertical-align: top;\n",
       "    }\n",
       "\n",
       "    .dataframe thead th {\n",
       "        text-align: right;\n",
       "    }\n",
       "</style>\n",
       "<table border=\"1\" class=\"dataframe\">\n",
       "  <thead>\n",
       "    <tr style=\"text-align: right;\">\n",
       "      <th></th>\n",
       "      <th>ID</th>\n",
       "      <th>price</th>\n",
       "    </tr>\n",
       "  </thead>\n",
       "  <tbody>\n",
       "    <tr>\n",
       "      <th>0</th>\n",
       "      <td>845</td>\n",
       "      <td>2.384743e+06</td>\n",
       "    </tr>\n",
       "    <tr>\n",
       "      <th>1</th>\n",
       "      <td>1924</td>\n",
       "      <td>1.002625e+06</td>\n",
       "    </tr>\n",
       "    <tr>\n",
       "      <th>2</th>\n",
       "      <td>10718</td>\n",
       "      <td>1.137690e+06</td>\n",
       "    </tr>\n",
       "    <tr>\n",
       "      <th>3</th>\n",
       "      <td>12076</td>\n",
       "      <td>8.980261e+06</td>\n",
       "    </tr>\n",
       "    <tr>\n",
       "      <th>4</th>\n",
       "      <td>12254</td>\n",
       "      <td>1.851039e+06</td>\n",
       "    </tr>\n",
       "  </tbody>\n",
       "</table>\n",
       "</div>"
      ],
      "text/plain": [
       "      ID         price\n",
       "0    845  2.384743e+06\n",
       "1   1924  1.002625e+06\n",
       "2  10718  1.137690e+06\n",
       "3  12076  8.980261e+06\n",
       "4  12254  1.851039e+06"
      ]
     },
     "execution_count": 79,
     "metadata": {},
     "output_type": "execute_result"
    }
   ],
   "source": [
    "predictions = gb_model.predict(X_test)\n",
    "\n",
    "sample_sub['price'] = predictions\n",
    "sample_sub.to_csv('submissions/gb_regressor_tuned_sub.csv', index=False)\n",
    "sample_sub.head()\n",
    "\n",
    "# 362891.4090 on LB"
   ]
  },
  {
   "cell_type": "markdown",
   "metadata": {},
   "source": [
    "### KFold Cross Validation Gradient Boosting Regressor"
   ]
  },
  {
   "cell_type": "code",
   "execution_count": 99,
   "metadata": {},
   "outputs": [
    {
     "name": "stdout",
     "output_type": "stream",
     "text": [
      "Fold 1 RMSE: 586,193\n",
      "======================================================================\n",
      "Fold 2 RMSE: 603,470\n",
      "======================================================================\n",
      "Fold 3 RMSE: 506,458\n",
      "======================================================================\n",
      "Fold 4 RMSE: 494,880\n",
      "======================================================================\n",
      "Fold 5 RMSE: 473,286\n",
      "======================================================================\n",
      "Fold 6 RMSE: 587,637\n",
      "======================================================================\n",
      "Fold 7 RMSE: 637,414\n",
      "======================================================================\n",
      "Fold 8 RMSE: 482,357\n",
      "======================================================================\n",
      "Fold 9 RMSE: 553,161\n",
      "======================================================================\n",
      "Fold 10 RMSE: 519,910\n",
      "======================================================================\n",
      "Average RMSE: 544,477\n"
     ]
    }
   ],
   "source": [
    "from sklearn.model_selection import KFold\n",
    "\n",
    "rmse_list = []\n",
    "test_preds = []\n",
    "\n",
    "# create a StratifiedKFold object\n",
    "kf = KFold(n_splits=10, shuffle=True, random_state=200)\n",
    "\n",
    "# create a GradientBoostingRegressor object\n",
    "gbr = GradientBoostingRegressor(random_state=4220, **grid_search.best_params_)\n",
    "\n",
    "# iterate over the folds\n",
    "for i, (train_index, val_index) in enumerate(kf.split(X, y)):\n",
    "    # split the data into training and valing sets\n",
    "    X_train, X_val = X[train_index], X[val_index]\n",
    "    y_train, y_val = y[train_index], y[val_index]\n",
    "    \n",
    "    # fit the model on the training data\n",
    "    gbr.fit(X_train, y_train)\n",
    "    \n",
    "    y_pred = gbr.predict(X_val)\n",
    "    \n",
    "    # evaluate the model on the validation data\n",
    "    rmse = mean_squared_error(y_val, y_pred, squared=False)\n",
    "    rmse_list.append(rmse)\n",
    "    \n",
    "    # print the score for each fold\n",
    "    print(f\"Fold {i+1} RMSE: {rmse:,.0f}\")\n",
    "    print(\"=======\"*10)\n",
    "    \n",
    "    preds = gbr.predict(X_test)\n",
    "    test_preds.append(preds)\n",
    "    \n",
    "print(f\"Average RMSE: {np.mean(rmse_list):,.0f}\")"
   ]
  },
  {
   "cell_type": "code",
   "execution_count": 107,
   "metadata": {},
   "outputs": [
    {
     "data": {
      "text/plain": [
       "array([[ 0.06044198,  0.52362886, -0.17335081, -0.91568488, -0.84131972],\n",
       "       [-1.69684984, -1.68833112, -1.04649755, -0.42313528,  0.47610951],\n",
       "       [-1.69684984, -1.31967112, -1.04649755,  2.03961269, -0.84131972],\n",
       "       ...,\n",
       "       [ 1.19751316,  1.62960885, -0.17335081, -0.91568488,  0.47610951],\n",
       "       [-1.38673952, -0.21369113, -0.60992418,  2.03961269,  1.13482413],\n",
       "       [ 1.50762348,  0.15496886,  0.69979592, -0.91568488,  1.79353874]])"
      ]
     },
     "execution_count": 107,
     "metadata": {},
     "output_type": "execute_result"
    }
   ],
   "source": [
    "X_test"
   ]
  },
  {
   "cell_type": "code",
   "execution_count": 116,
   "metadata": {},
   "outputs": [
    {
     "data": {
      "text/plain": [
       "numpy.ndarray"
      ]
     },
     "execution_count": 116,
     "metadata": {},
     "output_type": "execute_result"
    }
   ],
   "source": [
    "type(X)"
   ]
  },
  {
   "cell_type": "code",
   "execution_count": 136,
   "metadata": {},
   "outputs": [],
   "source": [
    "from sklearn.model_selection import KFold\n",
    "from typing import List\n",
    "\n",
    "sns.set()\n",
    "\n",
    "def fold_fit_score(model, X: pd.DataFrame, y: pd.Series, n_folds: int, plot_feat_imp=False) -> List[list]:\n",
    "    rmse_list_transformed = []\n",
    "    test_preds_transformed = []\n",
    "\n",
    "    # create a StratifiedKFold object\n",
    "    kf = KFold(n_splits=n_folds, shuffle=True, random_state=20)\n",
    "\n",
    "    # iterate over the folds\n",
    "    for i, (train_index, val_index) in enumerate(kf.split(X, y)):\n",
    "        # split the data into training and valing sets\n",
    "        X_train, X_val = X.iloc[train_index], X.iloc[val_index]\n",
    "        y_train, y_val = np.log1p(y[train_index].astype(float)), y[val_index]\n",
    "\n",
    "        # fit the model on the training data\n",
    "        model.fit(X_train, y_train)\n",
    "\n",
    "        y_pred = model.predict(X_val)\n",
    "\n",
    "        # evaluate the model on the validation data\n",
    "        rmse = mean_squared_error(y_val, np.expm1(y_pred), squared=False)\n",
    "        rmse_list_transformed.append(rmse)\n",
    "\n",
    "        # print the score for each fold\n",
    "        print(f\"Fold {i+1} RMSE: {rmse:,.0f}\")\n",
    "        print(\"=======\" * 10)\n",
    "\n",
    "        preds = model.predict(X_test)\n",
    "        test_preds_transformed.append(np.expm1(preds))\n",
    "\n",
    "    print(f\"Average RMSE: {np.mean(rmse_list_transformed):,.0f}\")\n",
    "    \n",
    "    if plot_feat_imp:\n",
    "        # feature importance plot for model\n",
    "        feat_imp = pd.DataFrame({'Feature': X.columns, 'Importance': model.feature_importances_})\n",
    "        feat_imp = feat_imp.sort_values(by='Importance', ascending=False).reset_index(drop=True)\n",
    "        # feat_imp = feat_imp.iloc[:20]\n",
    "        plt.figure(figsize=(10, 8))\n",
    "        sns.barplot(x='Importance', y='Feature', data=feat_imp)\n",
    "        plt.title(f'Feature Importance for {type(model).__name__}')\n",
    "        plt.show()\n",
    "\n",
    "    return test_preds_transformed"
   ]
  },
  {
   "cell_type": "code",
   "execution_count": 138,
   "metadata": {},
   "outputs": [
    {
     "name": "stdout",
     "output_type": "stream",
     "text": [
      "Fold 1 RMSE: 470,504\n",
      "======================================================================\n",
      "Fold 2 RMSE: 538,007\n",
      "======================================================================\n",
      "Fold 3 RMSE: 632,338\n",
      "======================================================================\n",
      "Fold 4 RMSE: 498,295\n",
      "======================================================================\n",
      "Fold 5 RMSE: 518,676\n",
      "======================================================================\n",
      "Fold 6 RMSE: 591,267\n",
      "======================================================================\n",
      "Fold 7 RMSE: 573,258\n",
      "======================================================================\n",
      "Fold 8 RMSE: 566,018\n",
      "======================================================================\n",
      "Fold 9 RMSE: 482,011\n",
      "======================================================================\n",
      "Fold 10 RMSE: 606,466\n",
      "======================================================================\n",
      "Average RMSE: 547,684\n"
     ]
    },
    {
     "data": {
      "image/png": "[encoded data removed]",
      "text/plain": [
       "<Figure size 1000x800 with 1 Axes>"
      ]
     },
     "metadata": {},
     "output_type": "display_data"
    }
   ],
   "source": [
    "gbr_preds = fold_fit_score(gbr, X, y, 10, plot_feat_imp=True)"
   ]
  },
  {
   "cell_type": "code",
   "execution_count": 119,
   "metadata": {},
   "outputs": [
    {
     "data": {
      "text/plain": [
       "array([2390414.87903695, 1038576.69875783, 1148161.70946006, ...,\n",
       "       1972654.99697293, 1643041.10442364, 3280089.14013022])"
      ]
     },
     "execution_count": 119,
     "metadata": {},
     "output_type": "execute_result"
    }
   ],
   "source": [
    "gbr_preds[0]"
   ]
  },
  {
   "cell_type": "code",
   "execution_count": 114,
   "metadata": {},
   "outputs": [
    {
     "data": {
      "text/html": [
       "<div>\n",
       "<style scoped>\n",
       "    .dataframe tbody tr th:only-of-type {\n",
       "        vertical-align: middle;\n",
       "    }\n",
       "\n",
       "    .dataframe tbody tr th {\n",
       "        vertical-align: top;\n",
       "    }\n",
       "\n",
       "    .dataframe thead th {\n",
       "        text-align: right;\n",
       "    }\n",
       "</style>\n",
       "<table border=\"1\" class=\"dataframe\">\n",
       "  <thead>\n",
       "    <tr style=\"text-align: right;\">\n",
       "      <th></th>\n",
       "      <th>ID</th>\n",
       "      <th>price</th>\n",
       "    </tr>\n",
       "  </thead>\n",
       "  <tbody>\n",
       "    <tr>\n",
       "      <th>0</th>\n",
       "      <td>845</td>\n",
       "      <td>2.378471e+06</td>\n",
       "    </tr>\n",
       "    <tr>\n",
       "      <th>1</th>\n",
       "      <td>1924</td>\n",
       "      <td>1.037658e+06</td>\n",
       "    </tr>\n",
       "    <tr>\n",
       "      <th>2</th>\n",
       "      <td>10718</td>\n",
       "      <td>1.138872e+06</td>\n",
       "    </tr>\n",
       "    <tr>\n",
       "      <th>3</th>\n",
       "      <td>12076</td>\n",
       "      <td>8.519338e+06</td>\n",
       "    </tr>\n",
       "    <tr>\n",
       "      <th>4</th>\n",
       "      <td>12254</td>\n",
       "      <td>1.824303e+06</td>\n",
       "    </tr>\n",
       "  </tbody>\n",
       "</table>\n",
       "</div>"
      ],
      "text/plain": [
       "      ID         price\n",
       "0    845  2.378471e+06\n",
       "1   1924  1.037658e+06\n",
       "2  10718  1.138872e+06\n",
       "3  12076  8.519338e+06\n",
       "4  12254  1.824303e+06"
      ]
     },
     "execution_count": 114,
     "metadata": {},
     "output_type": "execute_result"
    }
   ],
   "source": [
    "sample_sub['price'] = np.mean(gbr_preds, axis=0)\n",
    "sample_sub.to_csv('submissions/gb_regressor_tuned_kfold_10_transformed.csv', index=False)\n",
    "sample_sub.head()"
   ]
  },
  {
   "cell_type": "markdown",
   "metadata": {},
   "source": [
    "### CatBoostRegressor"
   ]
  },
  {
   "cell_type": "code",
   "execution_count": 139,
   "metadata": {},
   "outputs": [
    {
     "name": "stdout",
     "output_type": "stream",
     "text": [
      "Fold 1 RMSE: 491,739\n",
      "======================================================================\n",
      "Fold 2 RMSE: 433,718\n",
      "======================================================================\n",
      "Fold 3 RMSE: 591,946\n",
      "======================================================================\n",
      "Fold 4 RMSE: 477,285\n",
      "======================================================================\n",
      "Fold 5 RMSE: 706,070\n",
      "======================================================================\n",
      "Fold 6 RMSE: 511,395\n",
      "======================================================================\n",
      "Fold 7 RMSE: 493,045\n",
      "======================================================================\n",
      "Fold 8 RMSE: 533,904\n",
      "======================================================================\n",
      "Fold 9 RMSE: 639,074\n",
      "======================================================================\n",
      "Fold 10 RMSE: 646,331\n",
      "======================================================================\n",
      "Fold 11 RMSE: 495,843\n",
      "======================================================================\n",
      "Fold 12 RMSE: 596,313\n",
      "======================================================================\n",
      "Fold 13 RMSE: 468,185\n",
      "======================================================================\n",
      "Fold 14 RMSE: 490,612\n",
      "======================================================================\n",
      "Fold 15 RMSE: 670,452\n",
      "======================================================================\n",
      "Average RMSE: 549,728\n"
     ]
    },
    {
     "data": {
      "image/png": "[encoded data removed]",
      "text/plain": [
       "<Figure size 1000x800 with 1 Axes>"
      ]
     },
     "metadata": {},
     "output_type": "display_data"
    }
   ],
   "source": [
    "from catboost import CatBoostRegressor\n",
    "\n",
    "cb = CatBoostRegressor(\n",
    "    iterations=1000,\n",
    "    learning_rate=0.05,\n",
    "    depth=10,\n",
    "    loss_function=\"RMSE\",\n",
    "    random_seed=419,\n",
    "    verbose=False,\n",
    ")\n",
    "\n",
    "cb_preds = fold_fit_score(cb, X, y, 15, plot_feat_imp=True)\n",
    "\n",
    "# LB Score: 370764.5299"
   ]
  },
  {
   "cell_type": "code",
   "execution_count": 140,
   "metadata": {},
   "outputs": [
    {
     "data": {
      "text/html": [
       "<div>\n",
       "<style scoped>\n",
       "    .dataframe tbody tr th:only-of-type {\n",
       "        vertical-align: middle;\n",
       "    }\n",
       "\n",
       "    .dataframe tbody tr th {\n",
       "        vertical-align: top;\n",
       "    }\n",
       "\n",
       "    .dataframe thead th {\n",
       "        text-align: right;\n",
       "    }\n",
       "</style>\n",
       "<table border=\"1\" class=\"dataframe\">\n",
       "  <thead>\n",
       "    <tr style=\"text-align: right;\">\n",
       "      <th></th>\n",
       "      <th>ID</th>\n",
       "      <th>price</th>\n",
       "    </tr>\n",
       "  </thead>\n",
       "  <tbody>\n",
       "    <tr>\n",
       "      <th>0</th>\n",
       "      <td>845</td>\n",
       "      <td>2.382314e+06</td>\n",
       "    </tr>\n",
       "    <tr>\n",
       "      <th>1</th>\n",
       "      <td>1924</td>\n",
       "      <td>1.020772e+06</td>\n",
       "    </tr>\n",
       "    <tr>\n",
       "      <th>2</th>\n",
       "      <td>10718</td>\n",
       "      <td>1.227334e+06</td>\n",
       "    </tr>\n",
       "    <tr>\n",
       "      <th>3</th>\n",
       "      <td>12076</td>\n",
       "      <td>8.286280e+06</td>\n",
       "    </tr>\n",
       "    <tr>\n",
       "      <th>4</th>\n",
       "      <td>12254</td>\n",
       "      <td>1.817707e+06</td>\n",
       "    </tr>\n",
       "  </tbody>\n",
       "</table>\n",
       "</div>"
      ],
      "text/plain": [
       "      ID         price\n",
       "0    845  2.382314e+06\n",
       "1   1924  1.020772e+06\n",
       "2  10718  1.227334e+06\n",
       "3  12076  8.286280e+06\n",
       "4  12254  1.817707e+06"
      ]
     },
     "execution_count": 140,
     "metadata": {},
     "output_type": "execute_result"
    }
   ],
   "source": [
    "sample_sub['price'] = np.mean(cb_preds, axis=0)\n",
    "sample_sub.to_csv('submissions/catboost_regressor_kfold_15_transformed.csv', index=False)\n",
    "sample_sub.head()"
   ]
  },
  {
   "cell_type": "code",
   "execution_count": null,
   "metadata": {},
   "outputs": [],
   "source": []
  },
  {
   "cell_type": "code",
   "execution_count": null,
   "metadata": {},
   "outputs": [],
   "source": []
  },
  {
   "cell_type": "code",
   "execution_count": 76,
   "metadata": {},
   "outputs": [],
   "source": [
    "# from sklearn.preprocessing import PolynomialFeatures\n",
    "\n",
    "# # Create polynomial features\n",
    "# poly = PolynomialFeatures(degree=4)\n",
    "# X_train_poly = poly.fit_transform(X_train)\n",
    "# X_val_poly = poly.transform(X_val)\n",
    "\n",
    "# # Define the hyperparameters to tune\n",
    "# param_grid = {\n",
    "#     \"n_estimators\": [150, 200, 125],\n",
    "#     \"max_depth\": [4, 5, 6],\n",
    "#     \"learning_rate\": [0.01, 0.1, 1],\n",
    "# }\n",
    "\n",
    "# # Create a Gradient Boosting model\n",
    "# model = GradientBoostingRegressor()\n",
    "\n",
    "# # Create a GridSearchCV object\n",
    "# grid_search = GridSearchCV(\n",
    "#     model, param_grid, cv=5, scoring=\"neg_root_mean_squared_error\", n_jobs=-1\n",
    "# )\n",
    "\n",
    "# # Fit the GridSearchCV object to the training data\n",
    "# grid_search.fit(X_train_poly, y_train)\n",
    "\n",
    "# # Print the best hyperparameters and the corresponding RMSE score\n",
    "# print(\"Best hyperparameters:\", grid_search.best_params_)\n",
    "# print(\"RMSE score:\", -grid_search.best_score_)"
   ]
  },
  {
   "cell_type": "markdown",
   "metadata": {},
   "source": [
    "### Cross Validation"
   ]
  },
  {
   "cell_type": "code",
   "execution_count": 80,
   "metadata": {},
   "outputs": [],
   "source": [
    "from sklearn.ensemble import GradientBoostingRegressor, BaggingRegressor\n",
    "from sklearn.preprocessing import PolynomialFeatures\n",
    "\n",
    "# Create polynomial features\n",
    "poly = PolynomialFeatures(degree=2)\n",
    "X_train_poly = poly.fit_transform(X_train)\n",
    "X_val_poly = poly.transform(X_val)\n",
    "\n",
    "# Create a Gradient Boosting model\n",
    "model = GradientBoostingRegressor()\n",
    "\n",
    "# Create a BaggingRegressor model with the Gradient Boosting model as the base estimator\n",
    "bagging_model = BaggingRegressor(base_estimator=model, n_estimators=10)\n",
    "\n",
    "# Fit the model to the training data\n",
    "bagging_model.fit(X_train_poly, y_train)\n",
    "\n",
    "# Predict the target variable for the test data\n",
    "y_pred = bagging_model.predict(X_val_poly)\n"
   ]
  },
  {
   "cell_type": "code",
   "execution_count": 81,
   "metadata": {},
   "outputs": [
    {
     "data": {
      "text/plain": [
       "561734.8952800276"
      ]
     },
     "execution_count": 81,
     "metadata": {},
     "output_type": "execute_result"
    }
   ],
   "source": [
    "mean_squared_error(y_val, y_pred, squared=False)"
   ]
  }
 ],
 "metadata": {
  "kernelspec": {
   "display_name": "Tess",
   "language": "python",
   "name": "python3"
  },
  "language_info": {
   "codemirror_mode": {
    "name": "ipython",
    "version": 3
   },
   "file_extension": ".py",
   "mimetype": "text/x-python",
   "name": "python",
   "nbconvert_exporter": "python",
   "pygments_lexer": "ipython3",
   "version": "3.10.9"
  },
  "orig_nbformat": 4
 },
 "nbformat": 4,
 "nbformat_minor": 2
}
