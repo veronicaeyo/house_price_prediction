{
 "cells": [
  {
   "cell_type": "markdown",
   "metadata": {},
   "source": [
    "### Import Library\n"
   ]
  },
  {
   "cell_type": "code",
   "execution_count": 27,
   "metadata": {},
   "outputs": [],
   "source": [
    "import numpy as np\n",
    "import pandas as pd\n",
    "\n",
    "import matplotlib.pyplot as plt\n",
    "import seaborn as sns\n",
    "import plotly.express as px\n",
    "from plotly.subplots import make_subplots\n",
    "import plotly.graph_objs as go\n",
    "\n",
    "from sklearn.preprocessing import LabelEncoder\n",
    "from sklearn.preprocessing import StandardScaler\n",
    "from sklearn.linear_model import LinearRegression\n",
    "\n",
    "from sklearn.metrics import mean_squared_error\n",
    "from sklearn.model_selection import GridSearchCV\n",
    "from sklearn.linear_model import Ridge\n",
    "from sklearn.preprocessing import PolynomialFeatures\n",
    "from sklearn.pipeline import make_pipeline\n",
    "\n",
    "import json\n",
    "import warnings\n",
    "warnings.filterwarnings('ignore')\n",
    "%matplotlib inline\n"
   ]
  },
  {
   "cell_type": "markdown",
   "metadata": {},
   "source": [
    "## Load Dataset\n"
   ]
  },
  {
   "cell_type": "code",
   "execution_count": 28,
   "metadata": {},
   "outputs": [
    {
     "name": "stdout",
     "output_type": "stream",
     "text": [
      "(14000, 6)\n"
     ]
    },
    {
     "data": {
      "text/html": [
       "<div>\n",
       "<style scoped>\n",
       "    .dataframe tbody tr th:only-of-type {\n",
       "        vertical-align: middle;\n",
       "    }\n",
       "\n",
       "    .dataframe tbody tr th {\n",
       "        vertical-align: top;\n",
       "    }\n",
       "\n",
       "    .dataframe thead th {\n",
       "        text-align: right;\n",
       "    }\n",
       "</style>\n",
       "<table border=\"1\" class=\"dataframe\">\n",
       "  <thead>\n",
       "    <tr style=\"text-align: right;\">\n",
       "      <th></th>\n",
       "      <th>loc</th>\n",
       "      <th>title</th>\n",
       "      <th>bedroom</th>\n",
       "      <th>bathroom</th>\n",
       "      <th>parking_space</th>\n",
       "      <th>price</th>\n",
       "    </tr>\n",
       "  </thead>\n",
       "  <tbody>\n",
       "    <tr>\n",
       "      <th>0</th>\n",
       "      <td>Katsina</td>\n",
       "      <td>Semi-detached duplex</td>\n",
       "      <td>2.0</td>\n",
       "      <td>2.0</td>\n",
       "      <td>1.0</td>\n",
       "      <td>1149999.565</td>\n",
       "    </tr>\n",
       "    <tr>\n",
       "      <th>1</th>\n",
       "      <td>Ondo</td>\n",
       "      <td>Apartment</td>\n",
       "      <td>NaN</td>\n",
       "      <td>2.0</td>\n",
       "      <td>4.0</td>\n",
       "      <td>1672416.689</td>\n",
       "    </tr>\n",
       "    <tr>\n",
       "      <th>2</th>\n",
       "      <td>Ekiti</td>\n",
       "      <td>NaN</td>\n",
       "      <td>7.0</td>\n",
       "      <td>5.0</td>\n",
       "      <td>NaN</td>\n",
       "      <td>3364799.814</td>\n",
       "    </tr>\n",
       "  </tbody>\n",
       "</table>\n",
       "</div>"
      ],
      "text/plain": [
       "       loc                 title  bedroom  bathroom  parking_space  \\\n",
       "0  Katsina  Semi-detached duplex      2.0       2.0            1.0   \n",
       "1     Ondo             Apartment      NaN       2.0            4.0   \n",
       "2    Ekiti                   NaN      7.0       5.0            NaN   \n",
       "\n",
       "         price  \n",
       "0  1149999.565  \n",
       "1  1672416.689  \n",
       "2  3364799.814  "
      ]
     },
     "execution_count": 28,
     "metadata": {},
     "output_type": "execute_result"
    }
   ],
   "source": [
    "df_train = pd.read_csv(\"data/Housing_dataset_train.csv\")\n",
    "df_train.drop('ID', axis=1, inplace=True)\n",
    "print(df_train.shape)\n",
    "df_train.head(3)\n"
   ]
  },
  {
   "cell_type": "code",
   "execution_count": 29,
   "metadata": {},
   "outputs": [
    {
     "name": "stdout",
     "output_type": "stream",
     "text": [
      "(6000, 5)\n"
     ]
    },
    {
     "data": {
      "text/html": [
       "<div>\n",
       "<style scoped>\n",
       "    .dataframe tbody tr th:only-of-type {\n",
       "        vertical-align: middle;\n",
       "    }\n",
       "\n",
       "    .dataframe tbody tr th {\n",
       "        vertical-align: top;\n",
       "    }\n",
       "\n",
       "    .dataframe thead th {\n",
       "        text-align: right;\n",
       "    }\n",
       "</style>\n",
       "<table border=\"1\" class=\"dataframe\">\n",
       "  <thead>\n",
       "    <tr style=\"text-align: right;\">\n",
       "      <th></th>\n",
       "      <th>loc</th>\n",
       "      <th>title</th>\n",
       "      <th>bedroom</th>\n",
       "      <th>bathroom</th>\n",
       "      <th>parking_space</th>\n",
       "    </tr>\n",
       "  </thead>\n",
       "  <tbody>\n",
       "    <tr>\n",
       "      <th>0</th>\n",
       "      <td>Kano</td>\n",
       "      <td>Penthouse</td>\n",
       "      <td>4</td>\n",
       "      <td>1</td>\n",
       "      <td>2</td>\n",
       "    </tr>\n",
       "    <tr>\n",
       "      <th>1</th>\n",
       "      <td>Adamawa</td>\n",
       "      <td>Apartment</td>\n",
       "      <td>2</td>\n",
       "      <td>2</td>\n",
       "      <td>4</td>\n",
       "    </tr>\n",
       "    <tr>\n",
       "      <th>2</th>\n",
       "      <td>Adamawa</td>\n",
       "      <td>Bungalow</td>\n",
       "      <td>2</td>\n",
       "      <td>7</td>\n",
       "      <td>2</td>\n",
       "    </tr>\n",
       "    <tr>\n",
       "      <th>3</th>\n",
       "      <td>Lagos</td>\n",
       "      <td>Mansion</td>\n",
       "      <td>9</td>\n",
       "      <td>5</td>\n",
       "      <td>2</td>\n",
       "    </tr>\n",
       "    <tr>\n",
       "      <th>4</th>\n",
       "      <td>Gombe</td>\n",
       "      <td>Semi-detached duplex</td>\n",
       "      <td>5</td>\n",
       "      <td>6</td>\n",
       "      <td>1</td>\n",
       "    </tr>\n",
       "  </tbody>\n",
       "</table>\n",
       "</div>"
      ],
      "text/plain": [
       "       loc                 title  bedroom  bathroom  parking_space\n",
       "0     Kano             Penthouse        4         1              2\n",
       "1  Adamawa             Apartment        2         2              4\n",
       "2  Adamawa              Bungalow        2         7              2\n",
       "3    Lagos               Mansion        9         5              2\n",
       "4    Gombe  Semi-detached duplex        5         6              1"
      ]
     },
     "execution_count": 29,
     "metadata": {},
     "output_type": "execute_result"
    }
   ],
   "source": [
    "df_test = pd.read_csv(\"data/Housing_dataset_test.csv\")\n",
    "df_test.drop('ID', axis=1, inplace=True)\n",
    "print(df_test.shape)\n",
    "df_test.head()\n"
   ]
  },
  {
   "cell_type": "code",
   "execution_count": 30,
   "metadata": {},
   "outputs": [],
   "source": [
    "df_test[\"price\"] = \"test\"\n"
   ]
  },
  {
   "cell_type": "code",
   "execution_count": 31,
   "metadata": {},
   "outputs": [
    {
     "data": {
      "text/html": [
       "<div>\n",
       "<style scoped>\n",
       "    .dataframe tbody tr th:only-of-type {\n",
       "        vertical-align: middle;\n",
       "    }\n",
       "\n",
       "    .dataframe tbody tr th {\n",
       "        vertical-align: top;\n",
       "    }\n",
       "\n",
       "    .dataframe thead th {\n",
       "        text-align: right;\n",
       "    }\n",
       "</style>\n",
       "<table border=\"1\" class=\"dataframe\">\n",
       "  <thead>\n",
       "    <tr style=\"text-align: right;\">\n",
       "      <th></th>\n",
       "      <th>loc</th>\n",
       "      <th>title</th>\n",
       "      <th>bedroom</th>\n",
       "      <th>bathroom</th>\n",
       "      <th>parking_space</th>\n",
       "      <th>price</th>\n",
       "    </tr>\n",
       "  </thead>\n",
       "  <tbody>\n",
       "    <tr>\n",
       "      <th>0</th>\n",
       "      <td>Katsina</td>\n",
       "      <td>Semi-detached duplex</td>\n",
       "      <td>2.0</td>\n",
       "      <td>2.0</td>\n",
       "      <td>1.0</td>\n",
       "      <td>1149999.565</td>\n",
       "    </tr>\n",
       "    <tr>\n",
       "      <th>1</th>\n",
       "      <td>Ondo</td>\n",
       "      <td>Apartment</td>\n",
       "      <td>NaN</td>\n",
       "      <td>2.0</td>\n",
       "      <td>4.0</td>\n",
       "      <td>1672416.689</td>\n",
       "    </tr>\n",
       "    <tr>\n",
       "      <th>2</th>\n",
       "      <td>Ekiti</td>\n",
       "      <td>NaN</td>\n",
       "      <td>7.0</td>\n",
       "      <td>5.0</td>\n",
       "      <td>NaN</td>\n",
       "      <td>3364799.814</td>\n",
       "    </tr>\n",
       "    <tr>\n",
       "      <th>3</th>\n",
       "      <td>Anambra</td>\n",
       "      <td>Detached duplex</td>\n",
       "      <td>5.0</td>\n",
       "      <td>2.0</td>\n",
       "      <td>4.0</td>\n",
       "      <td>2410306.756</td>\n",
       "    </tr>\n",
       "    <tr>\n",
       "      <th>4</th>\n",
       "      <td>Kogi</td>\n",
       "      <td>Terrace duplex</td>\n",
       "      <td>NaN</td>\n",
       "      <td>5.0</td>\n",
       "      <td>6.0</td>\n",
       "      <td>2600700.898</td>\n",
       "    </tr>\n",
       "  </tbody>\n",
       "</table>\n",
       "</div>"
      ],
      "text/plain": [
       "       loc                 title  bedroom  bathroom  parking_space  \\\n",
       "0  Katsina  Semi-detached duplex      2.0       2.0            1.0   \n",
       "1     Ondo             Apartment      NaN       2.0            4.0   \n",
       "2    Ekiti                   NaN      7.0       5.0            NaN   \n",
       "3  Anambra       Detached duplex      5.0       2.0            4.0   \n",
       "4     Kogi        Terrace duplex      NaN       5.0            6.0   \n",
       "\n",
       "         price  \n",
       "0  1149999.565  \n",
       "1  1672416.689  \n",
       "2  3364799.814  \n",
       "3  2410306.756  \n",
       "4  2600700.898  "
      ]
     },
     "execution_count": 31,
     "metadata": {},
     "output_type": "execute_result"
    }
   ],
   "source": [
    "# join test and train data\n",
    "df = pd.concat([df_train, df_test], axis=0, sort=False)\n",
    "df.head()\n"
   ]
  },
  {
   "cell_type": "code",
   "execution_count": 32,
   "metadata": {},
   "outputs": [
    {
     "data": {
      "text/plain": [
       "(20000, 6)"
      ]
     },
     "execution_count": 32,
     "metadata": {},
     "output_type": "execute_result"
    }
   ],
   "source": [
    "df.shape\n"
   ]
  },
  {
   "cell_type": "code",
   "execution_count": 33,
   "metadata": {},
   "outputs": [
    {
     "name": "stdout",
     "output_type": "stream",
     "text": [
      "<class 'pandas.core.frame.DataFrame'>\n",
      "Int64Index: 20000 entries, 0 to 5999\n",
      "Data columns (total 6 columns):\n",
      " #   Column         Non-Null Count  Dtype  \n",
      "---  ------         --------------  -----  \n",
      " 0   loc            18187 non-null  object \n",
      " 1   title          18278 non-null  object \n",
      " 2   bedroom        18201 non-null  float64\n",
      " 3   bathroom       18195 non-null  float64\n",
      " 4   parking_space  18189 non-null  float64\n",
      " 5   price          20000 non-null  object \n",
      "dtypes: float64(3), object(3)\n",
      "memory usage: 1.1+ MB\n"
     ]
    }
   ],
   "source": [
    "df.info()\n"
   ]
  },
  {
   "cell_type": "markdown",
   "metadata": {},
   "source": [
    "### Feature Engineering\n",
    "\n",
    "- Group `loc` (states) intpo regions \n",
    "- Calculate bedroom-bathroom ratio\n",
    "- Rank `title` by highest average price "
   ]
  },
  {
   "cell_type": "code",
   "execution_count": 34,
   "metadata": {},
   "outputs": [
    {
     "data": {
      "text/html": [
       "<div>\n",
       "<style scoped>\n",
       "    .dataframe tbody tr th:only-of-type {\n",
       "        vertical-align: middle;\n",
       "    }\n",
       "\n",
       "    .dataframe tbody tr th {\n",
       "        vertical-align: top;\n",
       "    }\n",
       "\n",
       "    .dataframe thead th {\n",
       "        text-align: right;\n",
       "    }\n",
       "</style>\n",
       "<table border=\"1\" class=\"dataframe\">\n",
       "  <thead>\n",
       "    <tr style=\"text-align: right;\">\n",
       "      <th></th>\n",
       "      <th>loc</th>\n",
       "      <th>title</th>\n",
       "      <th>bedroom</th>\n",
       "      <th>bathroom</th>\n",
       "      <th>parking_space</th>\n",
       "      <th>price</th>\n",
       "      <th>region</th>\n",
       "    </tr>\n",
       "  </thead>\n",
       "  <tbody>\n",
       "    <tr>\n",
       "      <th>0</th>\n",
       "      <td>Katsina</td>\n",
       "      <td>Semi-detached duplex</td>\n",
       "      <td>2.0</td>\n",
       "      <td>2.0</td>\n",
       "      <td>1.0</td>\n",
       "      <td>1149999.565</td>\n",
       "      <td>North West</td>\n",
       "    </tr>\n",
       "    <tr>\n",
       "      <th>1</th>\n",
       "      <td>Ondo</td>\n",
       "      <td>Apartment</td>\n",
       "      <td>NaN</td>\n",
       "      <td>2.0</td>\n",
       "      <td>4.0</td>\n",
       "      <td>1672416.689</td>\n",
       "      <td>South West</td>\n",
       "    </tr>\n",
       "    <tr>\n",
       "      <th>2</th>\n",
       "      <td>Ekiti</td>\n",
       "      <td>NaN</td>\n",
       "      <td>7.0</td>\n",
       "      <td>5.0</td>\n",
       "      <td>NaN</td>\n",
       "      <td>3364799.814</td>\n",
       "      <td>South West</td>\n",
       "    </tr>\n",
       "    <tr>\n",
       "      <th>3</th>\n",
       "      <td>Anambra</td>\n",
       "      <td>Detached duplex</td>\n",
       "      <td>5.0</td>\n",
       "      <td>2.0</td>\n",
       "      <td>4.0</td>\n",
       "      <td>2410306.756</td>\n",
       "      <td>South East</td>\n",
       "    </tr>\n",
       "    <tr>\n",
       "      <th>4</th>\n",
       "      <td>Kogi</td>\n",
       "      <td>Terrace duplex</td>\n",
       "      <td>NaN</td>\n",
       "      <td>5.0</td>\n",
       "      <td>6.0</td>\n",
       "      <td>2600700.898</td>\n",
       "      <td>North Central</td>\n",
       "    </tr>\n",
       "  </tbody>\n",
       "</table>\n",
       "</div>"
      ],
      "text/plain": [
       "       loc                 title  bedroom  bathroom  parking_space  \\\n",
       "0  Katsina  Semi-detached duplex      2.0       2.0            1.0   \n",
       "1     Ondo             Apartment      NaN       2.0            4.0   \n",
       "2    Ekiti                   NaN      7.0       5.0            NaN   \n",
       "3  Anambra       Detached duplex      5.0       2.0            4.0   \n",
       "4     Kogi        Terrace duplex      NaN       5.0            6.0   \n",
       "\n",
       "         price         region  \n",
       "0  1149999.565     North West  \n",
       "1  1672416.689     South West  \n",
       "2  3364799.814     South West  \n",
       "3  2410306.756     South East  \n",
       "4  2600700.898  North Central  "
      ]
     },
     "execution_count": 34,
     "metadata": {},
     "output_type": "execute_result"
    }
   ],
   "source": [
    "with open(\"state_to_region.json\", \"r\") as f:\n",
    "    state_to_region = json.load(f)\n",
    "\n",
    "# create a new column that maps states to regions\n",
    "df[\"region\"] = df[\"loc\"].map(state_to_region)\n",
    "df.head()"
   ]
  },
  {
   "cell_type": "code",
   "execution_count": 35,
   "metadata": {},
   "outputs": [
    {
     "data": {
      "text/html": [
       "<div>\n",
       "<style scoped>\n",
       "    .dataframe tbody tr th:only-of-type {\n",
       "        vertical-align: middle;\n",
       "    }\n",
       "\n",
       "    .dataframe tbody tr th {\n",
       "        vertical-align: top;\n",
       "    }\n",
       "\n",
       "    .dataframe thead th {\n",
       "        text-align: right;\n",
       "    }\n",
       "</style>\n",
       "<table border=\"1\" class=\"dataframe\">\n",
       "  <thead>\n",
       "    <tr style=\"text-align: right;\">\n",
       "      <th></th>\n",
       "      <th>loc</th>\n",
       "      <th>title</th>\n",
       "      <th>bedroom</th>\n",
       "      <th>bathroom</th>\n",
       "      <th>parking_space</th>\n",
       "      <th>price</th>\n",
       "      <th>region</th>\n",
       "      <th>bed_bath_ratio</th>\n",
       "    </tr>\n",
       "  </thead>\n",
       "  <tbody>\n",
       "    <tr>\n",
       "      <th>0</th>\n",
       "      <td>Katsina</td>\n",
       "      <td>Semi-detached duplex</td>\n",
       "      <td>2.0</td>\n",
       "      <td>2.0</td>\n",
       "      <td>1.0</td>\n",
       "      <td>1149999.565</td>\n",
       "      <td>North West</td>\n",
       "      <td>1.0</td>\n",
       "    </tr>\n",
       "    <tr>\n",
       "      <th>1</th>\n",
       "      <td>Ondo</td>\n",
       "      <td>Apartment</td>\n",
       "      <td>NaN</td>\n",
       "      <td>2.0</td>\n",
       "      <td>4.0</td>\n",
       "      <td>1672416.689</td>\n",
       "      <td>South West</td>\n",
       "      <td>NaN</td>\n",
       "    </tr>\n",
       "    <tr>\n",
       "      <th>2</th>\n",
       "      <td>Ekiti</td>\n",
       "      <td>NaN</td>\n",
       "      <td>7.0</td>\n",
       "      <td>5.0</td>\n",
       "      <td>NaN</td>\n",
       "      <td>3364799.814</td>\n",
       "      <td>South West</td>\n",
       "      <td>1.4</td>\n",
       "    </tr>\n",
       "    <tr>\n",
       "      <th>3</th>\n",
       "      <td>Anambra</td>\n",
       "      <td>Detached duplex</td>\n",
       "      <td>5.0</td>\n",
       "      <td>2.0</td>\n",
       "      <td>4.0</td>\n",
       "      <td>2410306.756</td>\n",
       "      <td>South East</td>\n",
       "      <td>2.5</td>\n",
       "    </tr>\n",
       "    <tr>\n",
       "      <th>4</th>\n",
       "      <td>Kogi</td>\n",
       "      <td>Terrace duplex</td>\n",
       "      <td>NaN</td>\n",
       "      <td>5.0</td>\n",
       "      <td>6.0</td>\n",
       "      <td>2600700.898</td>\n",
       "      <td>North Central</td>\n",
       "      <td>NaN</td>\n",
       "    </tr>\n",
       "  </tbody>\n",
       "</table>\n",
       "</div>"
      ],
      "text/plain": [
       "       loc                 title  bedroom  bathroom  parking_space  \\\n",
       "0  Katsina  Semi-detached duplex      2.0       2.0            1.0   \n",
       "1     Ondo             Apartment      NaN       2.0            4.0   \n",
       "2    Ekiti                   NaN      7.0       5.0            NaN   \n",
       "3  Anambra       Detached duplex      5.0       2.0            4.0   \n",
       "4     Kogi        Terrace duplex      NaN       5.0            6.0   \n",
       "\n",
       "         price         region  bed_bath_ratio  \n",
       "0  1149999.565     North West             1.0  \n",
       "1  1672416.689     South West             NaN  \n",
       "2  3364799.814     South West             1.4  \n",
       "3  2410306.756     South East             2.5  \n",
       "4  2600700.898  North Central             NaN  "
      ]
     },
     "execution_count": 35,
     "metadata": {},
     "output_type": "execute_result"
    }
   ],
   "source": [
    "df[\"bed_bath_ratio\"] = df[\"bedroom\"] / df[\"bathroom\"]\n",
    "df.head()"
   ]
  },
  {
   "cell_type": "code",
   "execution_count": 36,
   "metadata": {},
   "outputs": [
    {
     "data": {
      "text/plain": [
       "title\n",
       "Mansion                 10\n",
       "Penthouse                9\n",
       "Detached duplex          8\n",
       "Townhouse                7\n",
       "Terrace duplex           6\n",
       "Semi-detached duplex     5\n",
       "Bungalow                 4\n",
       "Flat                     3\n",
       "Apartment                2\n",
       "Cottage                  1\n",
       "Name: price, dtype: int64"
      ]
     },
     "execution_count": 36,
     "metadata": {},
     "output_type": "execute_result"
    }
   ],
   "source": [
    "# group the data by 'title' and calculate the mean price for each group\n",
    "title_mean_prices = df_train.groupby(\"title\")[\"price\"].mean()\n",
    "\n",
    "# sort the groups by mean price in descending order\n",
    "title_mean_prices_sorted = title_mean_prices.sort_values(ascending=False)\n",
    "\n",
    "# assign ranks to the groups based on their order\n",
    "title_ranks = title_mean_prices_sorted.rank(method=\"dense\").astype(int)\n",
    "\n",
    "title_ranks"
   ]
  },
  {
   "cell_type": "code",
   "execution_count": 37,
   "metadata": {},
   "outputs": [],
   "source": [
    "# create a new column 'title_rank' that contains the ranks of the 'title' column\n",
    "df['title_rank'] = df['title'].map(title_ranks)"
   ]
  },
  {
   "cell_type": "code",
   "execution_count": 38,
   "metadata": {},
   "outputs": [],
   "source": [
    "df.drop('title', axis=1, inplace=True)"
   ]
  },
  {
   "cell_type": "code",
   "execution_count": 39,
   "metadata": {},
   "outputs": [
    {
     "data": {
      "text/html": [
       "<div>\n",
       "<style scoped>\n",
       "    .dataframe tbody tr th:only-of-type {\n",
       "        vertical-align: middle;\n",
       "    }\n",
       "\n",
       "    .dataframe tbody tr th {\n",
       "        vertical-align: top;\n",
       "    }\n",
       "\n",
       "    .dataframe thead th {\n",
       "        text-align: right;\n",
       "    }\n",
       "</style>\n",
       "<table border=\"1\" class=\"dataframe\">\n",
       "  <thead>\n",
       "    <tr style=\"text-align: right;\">\n",
       "      <th></th>\n",
       "      <th>loc</th>\n",
       "      <th>bedroom</th>\n",
       "      <th>bathroom</th>\n",
       "      <th>parking_space</th>\n",
       "      <th>region</th>\n",
       "      <th>bed_bath_ratio</th>\n",
       "      <th>title_rank</th>\n",
       "      <th>price</th>\n",
       "    </tr>\n",
       "  </thead>\n",
       "  <tbody>\n",
       "    <tr>\n",
       "      <th>0</th>\n",
       "      <td>Katsina</td>\n",
       "      <td>2.0</td>\n",
       "      <td>2.0</td>\n",
       "      <td>1.0</td>\n",
       "      <td>North West</td>\n",
       "      <td>1.0</td>\n",
       "      <td>5.0</td>\n",
       "      <td>1149999.565</td>\n",
       "    </tr>\n",
       "    <tr>\n",
       "      <th>1</th>\n",
       "      <td>Ondo</td>\n",
       "      <td>NaN</td>\n",
       "      <td>2.0</td>\n",
       "      <td>4.0</td>\n",
       "      <td>South West</td>\n",
       "      <td>NaN</td>\n",
       "      <td>2.0</td>\n",
       "      <td>1672416.689</td>\n",
       "    </tr>\n",
       "    <tr>\n",
       "      <th>2</th>\n",
       "      <td>Ekiti</td>\n",
       "      <td>7.0</td>\n",
       "      <td>5.0</td>\n",
       "      <td>NaN</td>\n",
       "      <td>South West</td>\n",
       "      <td>1.4</td>\n",
       "      <td>NaN</td>\n",
       "      <td>3364799.814</td>\n",
       "    </tr>\n",
       "    <tr>\n",
       "      <th>3</th>\n",
       "      <td>Anambra</td>\n",
       "      <td>5.0</td>\n",
       "      <td>2.0</td>\n",
       "      <td>4.0</td>\n",
       "      <td>South East</td>\n",
       "      <td>2.5</td>\n",
       "      <td>8.0</td>\n",
       "      <td>2410306.756</td>\n",
       "    </tr>\n",
       "    <tr>\n",
       "      <th>4</th>\n",
       "      <td>Kogi</td>\n",
       "      <td>NaN</td>\n",
       "      <td>5.0</td>\n",
       "      <td>6.0</td>\n",
       "      <td>North Central</td>\n",
       "      <td>NaN</td>\n",
       "      <td>6.0</td>\n",
       "      <td>2600700.898</td>\n",
       "    </tr>\n",
       "  </tbody>\n",
       "</table>\n",
       "</div>"
      ],
      "text/plain": [
       "       loc  bedroom  bathroom  parking_space         region  bed_bath_ratio  \\\n",
       "0  Katsina      2.0       2.0            1.0     North West             1.0   \n",
       "1     Ondo      NaN       2.0            4.0     South West             NaN   \n",
       "2    Ekiti      7.0       5.0            NaN     South West             1.4   \n",
       "3  Anambra      5.0       2.0            4.0     South East             2.5   \n",
       "4     Kogi      NaN       5.0            6.0  North Central             NaN   \n",
       "\n",
       "   title_rank        price  \n",
       "0         5.0  1149999.565  \n",
       "1         2.0  1672416.689  \n",
       "2         NaN  3364799.814  \n",
       "3         8.0  2410306.756  \n",
       "4         6.0  2600700.898  "
      ]
     },
     "execution_count": 39,
     "metadata": {},
     "output_type": "execute_result"
    }
   ],
   "source": [
    "# remove the 'price' column from df and save it to a variable\n",
    "price_col = df.pop('price')\n",
    "\n",
    "# insert the 'price' column back into df at the last position\n",
    "df.insert(len(df.columns), 'price', price_col)\n",
    "\n",
    "df.head()"
   ]
  },
  {
   "cell_type": "code",
   "execution_count": null,
   "metadata": {},
   "outputs": [],
   "source": []
  },
  {
   "cell_type": "code",
   "execution_count": null,
   "metadata": {},
   "outputs": [],
   "source": []
  },
  {
   "cell_type": "code",
   "execution_count": null,
   "metadata": {},
   "outputs": [],
   "source": []
  },
  {
   "cell_type": "markdown",
   "metadata": {},
   "source": [
    "### Check for missing Values\n"
   ]
  },
  {
   "cell_type": "code",
   "execution_count": 40,
   "metadata": {},
   "outputs": [
    {
     "data": {
      "text/plain": [
       "loc              1813\n",
       "title            1722\n",
       "bedroom          1799\n",
       "bathroom         1805\n",
       "parking_space    1811\n",
       "price               0\n",
       "dtype: int64"
      ]
     },
     "execution_count": 40,
     "metadata": {},
     "output_type": "execute_result"
    }
   ],
   "source": [
    "df_train.isna().sum()"
   ]
  },
  {
   "cell_type": "code",
   "execution_count": 41,
   "metadata": {},
   "outputs": [
    {
     "data": {
      "text/plain": [
       "loc               1813\n",
       "bedroom           1799\n",
       "bathroom          1805\n",
       "parking_space     1811\n",
       "region            1813\n",
       "bed_bath_ratio    3531\n",
       "title_rank        1722\n",
       "price                0\n",
       "dtype: int64"
      ]
     },
     "execution_count": 41,
     "metadata": {},
     "output_type": "execute_result"
    }
   ],
   "source": [
    "df.isna().sum()\n"
   ]
  },
  {
   "cell_type": "markdown",
   "metadata": {},
   "source": [
    "## Data Preprocessing"
   ]
  },
  {
   "cell_type": "markdown",
   "metadata": {},
   "source": [
    "### Train-test split"
   ]
  },
  {
   "cell_type": "code",
   "execution_count": 42,
   "metadata": {},
   "outputs": [],
   "source": [
    "# Divide the dataframe into train and test based on the 'price' column\n",
    "df_train = df[~df[\"price\"].astype(str).str.contains(\"test\")]\n",
    "df_test = df[df[\"price\"].astype(str).str.contains(\"test\")]\n",
    "\n",
    "# Reset the index of the dataframes\n",
    "df_train = df_train.reset_index(drop=True)\n",
    "df_test = df_test.reset_index(drop=True)\n"
   ]
  },
  {
   "cell_type": "markdown",
   "metadata": {},
   "source": [
    "### Label Encoding"
   ]
  },
  {
   "cell_type": "markdown",
   "metadata": {},
   "source": [
    "### Filling all missing values\n"
   ]
  },
  {
   "cell_type": "code",
   "execution_count": 43,
   "metadata": {},
   "outputs": [
    {
     "name": "stdout",
     "output_type": "stream",
     "text": [
      "4.0\n",
      "2.0\n",
      "2.0\n"
     ]
    }
   ],
   "source": [
    "print(df_train['parking_space'].mode()[0])\n",
    "print(df_test['parking_space'].mode()[0])\n",
    "print(df['parking_space'].mode()[0])"
   ]
  },
  {
   "cell_type": "code",
   "execution_count": 44,
   "metadata": {},
   "outputs": [
    {
     "data": {
      "text/plain": [
       "loc               12.950000\n",
       "bedroom           12.850000\n",
       "bathroom          12.892857\n",
       "parking_space     12.935714\n",
       "region            12.950000\n",
       "bed_bath_ratio    25.221429\n",
       "title_rank        12.300000\n",
       "price              0.000000\n",
       "dtype: float64"
      ]
     },
     "execution_count": 44,
     "metadata": {},
     "output_type": "execute_result"
    }
   ],
   "source": [
    "df_train.isna().sum() / len(df_train) * 100\n"
   ]
  },
  {
   "cell_type": "code",
   "execution_count": 45,
   "metadata": {},
   "outputs": [],
   "source": [
    "from sklearn.impute import SimpleImputer\n",
    "\n",
    "imp_mode = SimpleImputer(missing_values=np.nan, strategy=\"most_frequent\")\n",
    "imp_mode.fit(df_train)\n",
    "\n",
    "df_train = pd.DataFrame(imp_mode.transform(df_train), columns=df.columns)\n",
    "df_test = pd.DataFrame(imp_mode.transform(df_test), columns=df.columns)\n"
   ]
  },
  {
   "cell_type": "code",
   "execution_count": 46,
   "metadata": {},
   "outputs": [
    {
     "data": {
      "text/plain": [
       "loc               object\n",
       "bedroom           object\n",
       "bathroom          object\n",
       "parking_space     object\n",
       "region            object\n",
       "bed_bath_ratio    object\n",
       "title_rank        object\n",
       "price             object\n",
       "dtype: object"
      ]
     },
     "execution_count": 46,
     "metadata": {},
     "output_type": "execute_result"
    }
   ],
   "source": [
    "df_train.dtypes"
   ]
  },
  {
   "cell_type": "code",
   "execution_count": 20,
   "metadata": {},
   "outputs": [
    {
     "name": "stdout",
     "output_type": "stream",
     "text": [
      "loc               0\n",
      "title             0\n",
      "bedroom           0\n",
      "bathroom          0\n",
      "parking_space     0\n",
      "region            0\n",
      "bed_bath_ratio    0\n",
      "title_rank        0\n",
      "price             0\n",
      "dtype: int64\n",
      "loc               0\n",
      "title             0\n",
      "bedroom           0\n",
      "bathroom          0\n",
      "parking_space     0\n",
      "region            0\n",
      "bed_bath_ratio    0\n",
      "title_rank        0\n",
      "price             0\n",
      "dtype: int64\n"
     ]
    }
   ],
   "source": [
    "print(df_train.isna().sum())\n",
    "print(df_test.isna().sum())"
   ]
  },
  {
   "cell_type": "code",
   "execution_count": 54,
   "metadata": {},
   "outputs": [
    {
     "data": {
      "text/html": [
       "<div>\n",
       "<style scoped>\n",
       "    .dataframe tbody tr th:only-of-type {\n",
       "        vertical-align: middle;\n",
       "    }\n",
       "\n",
       "    .dataframe tbody tr th {\n",
       "        vertical-align: top;\n",
       "    }\n",
       "\n",
       "    .dataframe thead th {\n",
       "        text-align: right;\n",
       "    }\n",
       "</style>\n",
       "<table border=\"1\" class=\"dataframe\">\n",
       "  <thead>\n",
       "    <tr style=\"text-align: right;\">\n",
       "      <th></th>\n",
       "      <th>loc</th>\n",
       "      <th>bedroom</th>\n",
       "      <th>bathroom</th>\n",
       "      <th>parking_space</th>\n",
       "      <th>region</th>\n",
       "      <th>bed_bath_ratio</th>\n",
       "      <th>title_rank</th>\n",
       "      <th>price</th>\n",
       "    </tr>\n",
       "  </thead>\n",
       "  <tbody>\n",
       "    <tr>\n",
       "      <th>0</th>\n",
       "      <td>Katsina</td>\n",
       "      <td>2.0</td>\n",
       "      <td>2.0</td>\n",
       "      <td>1.0</td>\n",
       "      <td>North West</td>\n",
       "      <td>1.0</td>\n",
       "      <td>5.0</td>\n",
       "      <td>1149999.565</td>\n",
       "    </tr>\n",
       "    <tr>\n",
       "      <th>1</th>\n",
       "      <td>Ondo</td>\n",
       "      <td>5.0</td>\n",
       "      <td>2.0</td>\n",
       "      <td>4.0</td>\n",
       "      <td>South West</td>\n",
       "      <td>1.0</td>\n",
       "      <td>2.0</td>\n",
       "      <td>1672416.689</td>\n",
       "    </tr>\n",
       "    <tr>\n",
       "      <th>2</th>\n",
       "      <td>Ekiti</td>\n",
       "      <td>7.0</td>\n",
       "      <td>5.0</td>\n",
       "      <td>4.0</td>\n",
       "      <td>South West</td>\n",
       "      <td>1.4</td>\n",
       "      <td>3.0</td>\n",
       "      <td>3364799.814</td>\n",
       "    </tr>\n",
       "    <tr>\n",
       "      <th>3</th>\n",
       "      <td>Anambra</td>\n",
       "      <td>5.0</td>\n",
       "      <td>2.0</td>\n",
       "      <td>4.0</td>\n",
       "      <td>South East</td>\n",
       "      <td>2.5</td>\n",
       "      <td>8.0</td>\n",
       "      <td>2410306.756</td>\n",
       "    </tr>\n",
       "    <tr>\n",
       "      <th>4</th>\n",
       "      <td>Kogi</td>\n",
       "      <td>5.0</td>\n",
       "      <td>5.0</td>\n",
       "      <td>6.0</td>\n",
       "      <td>North Central</td>\n",
       "      <td>1.0</td>\n",
       "      <td>6.0</td>\n",
       "      <td>2600700.898</td>\n",
       "    </tr>\n",
       "  </tbody>\n",
       "</table>\n",
       "</div>"
      ],
      "text/plain": [
       "       loc bedroom bathroom parking_space         region bed_bath_ratio  \\\n",
       "0  Katsina     2.0      2.0           1.0     North West            1.0   \n",
       "1     Ondo     5.0      2.0           4.0     South West            1.0   \n",
       "2    Ekiti     7.0      5.0           4.0     South West            1.4   \n",
       "3  Anambra     5.0      2.0           4.0     South East            2.5   \n",
       "4     Kogi     5.0      5.0           6.0  North Central            1.0   \n",
       "\n",
       "  title_rank        price  \n",
       "0        5.0  1149999.565  \n",
       "1        2.0  1672416.689  \n",
       "2        3.0  3364799.814  \n",
       "3        8.0  2410306.756  \n",
       "4        6.0  2600700.898  "
      ]
     },
     "execution_count": 54,
     "metadata": {},
     "output_type": "execute_result"
    }
   ],
   "source": [
    "df_train.head()"
   ]
  },
  {
   "cell_type": "code",
   "execution_count": null,
   "metadata": {},
   "outputs": [],
   "source": []
  },
  {
   "cell_type": "code",
   "execution_count": 22,
   "metadata": {},
   "outputs": [],
   "source": [
    "# df[\"bedroom\"] = df[\"bedroom\"].fillna(df[\"bedroom\"].mode()[0])\n",
    "# df[\"bathroom\"] = df[\"bathroom\"].fillna(df[\"bathroom\"].mode()[0])\n",
    "# df[\"parking_space\"] = df[\"parking_space\"].fillna(df[\"parking_space\"].mode()[0])\n",
    "# df[\"loc\"] = df[\"loc\"].fillna(df[\"loc\"].mode()[0])\n",
    "# df[\"title\"] = df[\"title\"].fillna(df[\"title\"].mode()[0])\n"
   ]
  },
  {
   "cell_type": "markdown",
   "metadata": {},
   "source": [
    "### Label Encoding"
   ]
  },
  {
   "cell_type": "code",
   "execution_count": 55,
   "metadata": {},
   "outputs": [
    {
     "data": {
      "text/html": [
       "<div>\n",
       "<style scoped>\n",
       "    .dataframe tbody tr th:only-of-type {\n",
       "        vertical-align: middle;\n",
       "    }\n",
       "\n",
       "    .dataframe tbody tr th {\n",
       "        vertical-align: top;\n",
       "    }\n",
       "\n",
       "    .dataframe thead th {\n",
       "        text-align: right;\n",
       "    }\n",
       "</style>\n",
       "<table border=\"1\" class=\"dataframe\">\n",
       "  <thead>\n",
       "    <tr style=\"text-align: right;\">\n",
       "      <th></th>\n",
       "      <th>loc</th>\n",
       "      <th>bedroom</th>\n",
       "      <th>bathroom</th>\n",
       "      <th>parking_space</th>\n",
       "      <th>region</th>\n",
       "      <th>bed_bath_ratio</th>\n",
       "      <th>title_rank</th>\n",
       "      <th>price</th>\n",
       "    </tr>\n",
       "  </thead>\n",
       "  <tbody>\n",
       "    <tr>\n",
       "      <th>0</th>\n",
       "      <td>19</td>\n",
       "      <td>2.0</td>\n",
       "      <td>2.0</td>\n",
       "      <td>1.0</td>\n",
       "      <td>2</td>\n",
       "      <td>1.0</td>\n",
       "      <td>5.0</td>\n",
       "      <td>1149999.565</td>\n",
       "    </tr>\n",
       "    <tr>\n",
       "      <th>1</th>\n",
       "      <td>27</td>\n",
       "      <td>5.0</td>\n",
       "      <td>2.0</td>\n",
       "      <td>4.0</td>\n",
       "      <td>5</td>\n",
       "      <td>1.0</td>\n",
       "      <td>2.0</td>\n",
       "      <td>1672416.689</td>\n",
       "    </tr>\n",
       "    <tr>\n",
       "      <th>2</th>\n",
       "      <td>12</td>\n",
       "      <td>7.0</td>\n",
       "      <td>5.0</td>\n",
       "      <td>4.0</td>\n",
       "      <td>5</td>\n",
       "      <td>1.4</td>\n",
       "      <td>3.0</td>\n",
       "      <td>3364799.814</td>\n",
       "    </tr>\n",
       "    <tr>\n",
       "      <th>3</th>\n",
       "      <td>3</td>\n",
       "      <td>5.0</td>\n",
       "      <td>2.0</td>\n",
       "      <td>4.0</td>\n",
       "      <td>3</td>\n",
       "      <td>2.5</td>\n",
       "      <td>8.0</td>\n",
       "      <td>2410306.756</td>\n",
       "    </tr>\n",
       "    <tr>\n",
       "      <th>4</th>\n",
       "      <td>21</td>\n",
       "      <td>5.0</td>\n",
       "      <td>5.0</td>\n",
       "      <td>6.0</td>\n",
       "      <td>0</td>\n",
       "      <td>1.0</td>\n",
       "      <td>6.0</td>\n",
       "      <td>2600700.898</td>\n",
       "    </tr>\n",
       "  </tbody>\n",
       "</table>\n",
       "</div>"
      ],
      "text/plain": [
       "   loc bedroom bathroom parking_space  region bed_bath_ratio title_rank  \\\n",
       "0   19     2.0      2.0           1.0       2            1.0        5.0   \n",
       "1   27     5.0      2.0           4.0       5            1.0        2.0   \n",
       "2   12     7.0      5.0           4.0       5            1.4        3.0   \n",
       "3    3     5.0      2.0           4.0       3            2.5        8.0   \n",
       "4   21     5.0      5.0           6.0       0            1.0        6.0   \n",
       "\n",
       "         price  \n",
       "0  1149999.565  \n",
       "1  1672416.689  \n",
       "2  3364799.814  \n",
       "3  2410306.756  \n",
       "4  2600700.898  "
      ]
     },
     "execution_count": 55,
     "metadata": {},
     "output_type": "execute_result"
    }
   ],
   "source": [
    "le = LabelEncoder()\n",
    "\n",
    "# encode location amd title\n",
    "for col in [\"loc\", \"region\"]:\n",
    "    le = le.fit(df_train[col])\n",
    "    df_train[col] = le.transform(df_train[col])\n",
    "    df_test[col] = le.transform(df_test[col])\n",
    "df_train.head()"
   ]
  },
  {
   "cell_type": "code",
   "execution_count": 24,
   "metadata": {},
   "outputs": [
    {
     "data": {
      "text/html": [
       "<div>\n",
       "<style scoped>\n",
       "    .dataframe tbody tr th:only-of-type {\n",
       "        vertical-align: middle;\n",
       "    }\n",
       "\n",
       "    .dataframe tbody tr th {\n",
       "        vertical-align: top;\n",
       "    }\n",
       "\n",
       "    .dataframe thead th {\n",
       "        text-align: right;\n",
       "    }\n",
       "</style>\n",
       "<table border=\"1\" class=\"dataframe\">\n",
       "  <thead>\n",
       "    <tr style=\"text-align: right;\">\n",
       "      <th></th>\n",
       "      <th>loc</th>\n",
       "      <th>title</th>\n",
       "      <th>bedroom</th>\n",
       "      <th>bathroom</th>\n",
       "      <th>parking_space</th>\n",
       "      <th>region</th>\n",
       "      <th>bed_bath_ratio</th>\n",
       "      <th>title_rank</th>\n",
       "      <th>price</th>\n",
       "    </tr>\n",
       "  </thead>\n",
       "  <tbody>\n",
       "    <tr>\n",
       "      <th>0</th>\n",
       "      <td>18</td>\n",
       "      <td>6</td>\n",
       "      <td>4.0</td>\n",
       "      <td>1.0</td>\n",
       "      <td>2.0</td>\n",
       "      <td>2</td>\n",
       "      <td>4.0</td>\n",
       "      <td>9.0</td>\n",
       "      <td>test</td>\n",
       "    </tr>\n",
       "    <tr>\n",
       "      <th>1</th>\n",
       "      <td>1</td>\n",
       "      <td>0</td>\n",
       "      <td>2.0</td>\n",
       "      <td>2.0</td>\n",
       "      <td>4.0</td>\n",
       "      <td>1</td>\n",
       "      <td>1.0</td>\n",
       "      <td>2.0</td>\n",
       "      <td>test</td>\n",
       "    </tr>\n",
       "    <tr>\n",
       "      <th>2</th>\n",
       "      <td>1</td>\n",
       "      <td>1</td>\n",
       "      <td>2.0</td>\n",
       "      <td>7.0</td>\n",
       "      <td>2.0</td>\n",
       "      <td>1</td>\n",
       "      <td>0.285714</td>\n",
       "      <td>4.0</td>\n",
       "      <td>test</td>\n",
       "    </tr>\n",
       "    <tr>\n",
       "      <th>3</th>\n",
       "      <td>23</td>\n",
       "      <td>5</td>\n",
       "      <td>9.0</td>\n",
       "      <td>5.0</td>\n",
       "      <td>2.0</td>\n",
       "      <td>5</td>\n",
       "      <td>1.8</td>\n",
       "      <td>10.0</td>\n",
       "      <td>test</td>\n",
       "    </tr>\n",
       "    <tr>\n",
       "      <th>4</th>\n",
       "      <td>14</td>\n",
       "      <td>7</td>\n",
       "      <td>5.0</td>\n",
       "      <td>6.0</td>\n",
       "      <td>1.0</td>\n",
       "      <td>1</td>\n",
       "      <td>0.833333</td>\n",
       "      <td>5.0</td>\n",
       "      <td>test</td>\n",
       "    </tr>\n",
       "  </tbody>\n",
       "</table>\n",
       "</div>"
      ],
      "text/plain": [
       "   loc  title bedroom bathroom parking_space  region bed_bath_ratio  \\\n",
       "0   18      6     4.0      1.0           2.0       2            4.0   \n",
       "1    1      0     2.0      2.0           4.0       1            1.0   \n",
       "2    1      1     2.0      7.0           2.0       1       0.285714   \n",
       "3   23      5     9.0      5.0           2.0       5            1.8   \n",
       "4   14      7     5.0      6.0           1.0       1       0.833333   \n",
       "\n",
       "  title_rank price  \n",
       "0        9.0  test  \n",
       "1        2.0  test  \n",
       "2        4.0  test  \n",
       "3       10.0  test  \n",
       "4        5.0  test  "
      ]
     },
     "execution_count": 24,
     "metadata": {},
     "output_type": "execute_result"
    }
   ],
   "source": [
    "df_test.head()"
   ]
  },
  {
   "cell_type": "markdown",
   "metadata": {},
   "source": [
    "## Model"
   ]
  },
  {
   "cell_type": "code",
   "execution_count": 25,
   "metadata": {},
   "outputs": [
    {
     "name": "stdout",
     "output_type": "stream",
     "text": [
      "(14000, 9) (6000, 9)\n"
     ]
    }
   ],
   "source": [
    "print(df_train.shape, df_test.shape)\n"
   ]
  },
  {
   "cell_type": "markdown",
   "metadata": {},
   "source": [
    "### Scaling of dataset\n"
   ]
  },
  {
   "cell_type": "code",
   "execution_count": 56,
   "metadata": {},
   "outputs": [],
   "source": [
    "X = df_train.drop(\"price\", axis=1)\n",
    "y = df_train[\"price\"].astype(float)\n",
    "X_test = df_test.drop(\"price\", axis=1)\n",
    "y_test = df_test[\"price\"]\n"
   ]
  },
  {
   "cell_type": "code",
   "execution_count": 57,
   "metadata": {},
   "outputs": [],
   "source": [
    "# scale the dataset with standard scaler\n",
    "\n",
    "scaler = StandardScaler()\n",
    "train_scaler = scaler.fit(X)\n",
    "X = train_scaler.transform(X)\n",
    "# scaler.fit(X_test)\n",
    "X_test = train_scaler.transform(X_test)\n"
   ]
  },
  {
   "cell_type": "code",
   "execution_count": 58,
   "metadata": {},
   "outputs": [
    {
     "name": "stdout",
     "output_type": "stream",
     "text": [
      "Index(['loc', 'bedroom', 'bathroom', 'parking_space', 'region',\n",
      "       'bed_bath_ratio', 'title_rank'],\n",
      "      dtype='object')\n"
     ]
    },
    {
     "data": {
      "text/html": [
       "<div>\n",
       "<style scoped>\n",
       "    .dataframe tbody tr th:only-of-type {\n",
       "        vertical-align: middle;\n",
       "    }\n",
       "\n",
       "    .dataframe tbody tr th {\n",
       "        vertical-align: top;\n",
       "    }\n",
       "\n",
       "    .dataframe thead th {\n",
       "        text-align: right;\n",
       "    }\n",
       "</style>\n",
       "<table border=\"1\" class=\"dataframe\">\n",
       "  <thead>\n",
       "    <tr style=\"text-align: right;\">\n",
       "      <th></th>\n",
       "      <th>loc</th>\n",
       "      <th>bedroom</th>\n",
       "      <th>bathroom</th>\n",
       "      <th>parking_space</th>\n",
       "      <th>region</th>\n",
       "      <th>bed_bath_ratio</th>\n",
       "      <th>title_rank</th>\n",
       "    </tr>\n",
       "  </thead>\n",
       "  <tbody>\n",
       "    <tr>\n",
       "      <th>0</th>\n",
       "      <td>0.163812</td>\n",
       "      <td>-1.046498</td>\n",
       "      <td>-0.423135</td>\n",
       "      <td>-1.500034</td>\n",
       "      <td>-0.251603</td>\n",
       "      <td>-0.484095</td>\n",
       "      <td>-0.169590</td>\n",
       "    </tr>\n",
       "    <tr>\n",
       "      <th>1</th>\n",
       "      <td>0.990773</td>\n",
       "      <td>0.263223</td>\n",
       "      <td>-0.423135</td>\n",
       "      <td>0.476110</td>\n",
       "      <td>1.626030</td>\n",
       "      <td>-0.484095</td>\n",
       "      <td>-1.279746</td>\n",
       "    </tr>\n",
       "    <tr>\n",
       "      <th>2</th>\n",
       "      <td>-0.559779</td>\n",
       "      <td>1.136369</td>\n",
       "      <td>1.054513</td>\n",
       "      <td>0.476110</td>\n",
       "      <td>1.626030</td>\n",
       "      <td>-0.223131</td>\n",
       "      <td>-0.909694</td>\n",
       "    </tr>\n",
       "    <tr>\n",
       "      <th>3</th>\n",
       "      <td>-1.490110</td>\n",
       "      <td>0.263223</td>\n",
       "      <td>-0.423135</td>\n",
       "      <td>0.476110</td>\n",
       "      <td>0.374275</td>\n",
       "      <td>0.494520</td>\n",
       "      <td>0.940567</td>\n",
       "    </tr>\n",
       "    <tr>\n",
       "      <th>4</th>\n",
       "      <td>0.370552</td>\n",
       "      <td>0.263223</td>\n",
       "      <td>1.054513</td>\n",
       "      <td>1.793539</td>\n",
       "      <td>-1.503358</td>\n",
       "      <td>-0.484095</td>\n",
       "      <td>0.200463</td>\n",
       "    </tr>\n",
       "  </tbody>\n",
       "</table>\n",
       "</div>"
      ],
      "text/plain": [
       "        loc   bedroom  bathroom  parking_space    region  bed_bath_ratio  \\\n",
       "0  0.163812 -1.046498 -0.423135      -1.500034 -0.251603       -0.484095   \n",
       "1  0.990773  0.263223 -0.423135       0.476110  1.626030       -0.484095   \n",
       "2 -0.559779  1.136369  1.054513       0.476110  1.626030       -0.223131   \n",
       "3 -1.490110  0.263223 -0.423135       0.476110  0.374275        0.494520   \n",
       "4  0.370552  0.263223  1.054513       1.793539 -1.503358       -0.484095   \n",
       "\n",
       "   title_rank  \n",
       "0   -0.169590  \n",
       "1   -1.279746  \n",
       "2   -0.909694  \n",
       "3    0.940567  \n",
       "4    0.200463  "
      ]
     },
     "execution_count": 58,
     "metadata": {},
     "output_type": "execute_result"
    }
   ],
   "source": [
    "x_cols = df_train.columns[0:-1]\n",
    "print(x_cols)\n",
    "X = pd.DataFrame(X, columns=x_cols)\n",
    "X.head()"
   ]
  },
  {
   "cell_type": "code",
   "execution_count": 29,
   "metadata": {},
   "outputs": [
    {
     "name": "stdout",
     "output_type": "stream",
     "text": [
      "(10500, 8) (3500, 8)\n",
      "(10500,) (3500,)\n"
     ]
    }
   ],
   "source": [
    "# split dataset\n",
    "\n",
    "from sklearn.model_selection import train_test_split\n",
    "\n",
    "X_train, X_val, y_train, y_val = train_test_split(X, y, random_state=7)\n",
    "\n",
    "print(X_train.shape, X_val.shape)\n",
    "print(y_train.shape, y_val.shape)\n"
   ]
  },
  {
   "cell_type": "markdown",
   "metadata": {},
   "source": [
    "### Model Creation\n"
   ]
  },
  {
   "cell_type": "code",
   "execution_count": 30,
   "metadata": {},
   "outputs": [],
   "source": [
    "def fit_score(model, X, y):\n",
    "    X_train, X_val, y_train, y_val = train_test_split(X, y, random_state=7)\n",
    "    \n",
    "    model.fit(X_train, y_train)\n",
    "    y_pred = model.predict(X_val)\n",
    "    \n",
    "    rmse = round(mean_squared_error(y_val, y_pred, squared=False))\n",
    "    print(f\"RMSE: {rmse:,}\")\n",
    "    \n",
    "    model.fit(X,y)\n",
    "    return model"
   ]
  },
  {
   "cell_type": "markdown",
   "metadata": {},
   "source": [
    "### RandomForestRegressor"
   ]
  },
  {
   "cell_type": "code",
   "execution_count": 32,
   "metadata": {},
   "outputs": [],
   "source": [
    "# Create a linear regression model\n",
    "from sklearn.ensemble import RandomForestRegressor"
   ]
  },
  {
   "cell_type": "code",
   "execution_count": 33,
   "metadata": {},
   "outputs": [
    {
     "name": "stdout",
     "output_type": "stream",
     "text": [
      "RMSE: 609,517\n"
     ]
    }
   ],
   "source": [
    "rf_model = fit_score(RandomForestRegressor(), X, y)\n",
    "predictions = rf_model.predict(X_test)"
   ]
  },
  {
   "cell_type": "code",
   "execution_count": 31,
   "metadata": {},
   "outputs": [
    {
     "name": "stdout",
     "output_type": "stream",
     "text": [
      "(6000, 1)\n"
     ]
    },
    {
     "data": {
      "text/html": [
       "<div>\n",
       "<style scoped>\n",
       "    .dataframe tbody tr th:only-of-type {\n",
       "        vertical-align: middle;\n",
       "    }\n",
       "\n",
       "    .dataframe tbody tr th {\n",
       "        vertical-align: top;\n",
       "    }\n",
       "\n",
       "    .dataframe thead th {\n",
       "        text-align: right;\n",
       "    }\n",
       "</style>\n",
       "<table border=\"1\" class=\"dataframe\">\n",
       "  <thead>\n",
       "    <tr style=\"text-align: right;\">\n",
       "      <th></th>\n",
       "      <th>ID</th>\n",
       "    </tr>\n",
       "  </thead>\n",
       "  <tbody>\n",
       "    <tr>\n",
       "      <th>0</th>\n",
       "      <td>845</td>\n",
       "    </tr>\n",
       "    <tr>\n",
       "      <th>1</th>\n",
       "      <td>1924</td>\n",
       "    </tr>\n",
       "    <tr>\n",
       "      <th>2</th>\n",
       "      <td>10718</td>\n",
       "    </tr>\n",
       "    <tr>\n",
       "      <th>3</th>\n",
       "      <td>12076</td>\n",
       "    </tr>\n",
       "    <tr>\n",
       "      <th>4</th>\n",
       "      <td>12254</td>\n",
       "    </tr>\n",
       "  </tbody>\n",
       "</table>\n",
       "</div>"
      ],
      "text/plain": [
       "      ID\n",
       "0    845\n",
       "1   1924\n",
       "2  10718\n",
       "3  12076\n",
       "4  12254"
      ]
     },
     "execution_count": 31,
     "metadata": {},
     "output_type": "execute_result"
    }
   ],
   "source": [
    "sample_sub = pd.read_csv('data/Sample_submission.csv')\n",
    "print(sample_sub.shape)\n",
    "sample_sub.head()"
   ]
  },
  {
   "cell_type": "code",
   "execution_count": 68,
   "metadata": {},
   "outputs": [
    {
     "data": {
      "text/html": [
       "<div>\n",
       "<style scoped>\n",
       "    .dataframe tbody tr th:only-of-type {\n",
       "        vertical-align: middle;\n",
       "    }\n",
       "\n",
       "    .dataframe tbody tr th {\n",
       "        vertical-align: top;\n",
       "    }\n",
       "\n",
       "    .dataframe thead th {\n",
       "        text-align: right;\n",
       "    }\n",
       "</style>\n",
       "<table border=\"1\" class=\"dataframe\">\n",
       "  <thead>\n",
       "    <tr style=\"text-align: right;\">\n",
       "      <th></th>\n",
       "      <th>ID</th>\n",
       "      <th>price</th>\n",
       "    </tr>\n",
       "  </thead>\n",
       "  <tbody>\n",
       "    <tr>\n",
       "      <th>0</th>\n",
       "      <td>845</td>\n",
       "      <td>2.395405e+06</td>\n",
       "    </tr>\n",
       "    <tr>\n",
       "      <th>1</th>\n",
       "      <td>1924</td>\n",
       "      <td>1.038551e+06</td>\n",
       "    </tr>\n",
       "    <tr>\n",
       "      <th>2</th>\n",
       "      <td>10718</td>\n",
       "      <td>1.357044e+06</td>\n",
       "    </tr>\n",
       "    <tr>\n",
       "      <th>3</th>\n",
       "      <td>12076</td>\n",
       "      <td>8.007182e+06</td>\n",
       "    </tr>\n",
       "    <tr>\n",
       "      <th>4</th>\n",
       "      <td>12254</td>\n",
       "      <td>1.974406e+06</td>\n",
       "    </tr>\n",
       "  </tbody>\n",
       "</table>\n",
       "</div>"
      ],
      "text/plain": [
       "      ID         price\n",
       "0    845  2.395405e+06\n",
       "1   1924  1.038551e+06\n",
       "2  10718  1.357044e+06\n",
       "3  12076  8.007182e+06\n",
       "4  12254  1.974406e+06"
      ]
     },
     "execution_count": 68,
     "metadata": {},
     "output_type": "execute_result"
    }
   ],
   "source": [
    "sample_sub['price'] = predictions\n",
    "sample_sub.to_csv('submissions/rf_regression_sub.csv', index=False)\n",
    "sample_sub.head()"
   ]
  },
  {
   "cell_type": "markdown",
   "metadata": {},
   "source": [
    "### Model Evaluation\n"
   ]
  },
  {
   "cell_type": "markdown",
   "metadata": {},
   "source": [
    "we evaluate the performance of the regression model by visually inspecting the predicted values and comparing them to the actual values in the training data since theres no test data.\n",
    "This will create a scatter plot of the predicted values versus the actual values in the training data.\n",
    "A good regression model will have the predicted values close to the actual values along the diagonal line.\n"
   ]
  },
  {
   "cell_type": "code",
   "execution_count": 34,
   "metadata": {},
   "outputs": [
    {
     "data": {
      "image/png": "[encoded data removed]",
      "text/plain": [
       "<Figure size 640x480 with 1 Axes>"
      ]
     },
     "metadata": {},
     "output_type": "display_data"
    }
   ],
   "source": [
    "# Create a scatter plot of the predicted vs actual values\n",
    "sns.scatterplot(x=df_train[\"price\"], y=rf_model.predict(df_train.drop(\"price\", axis=1)))\n",
    "plt.xlabel(\"Actual Price\")\n",
    "plt.ylabel(\"Predicted Price\")\n",
    "plt.show() \n"
   ]
  },
  {
   "cell_type": "markdown",
   "metadata": {},
   "source": [
    "### Improving model performance\n"
   ]
  },
  {
   "cell_type": "markdown",
   "metadata": {},
   "source": [
    "### Ridge regularization\n"
   ]
  },
  {
   "cell_type": "code",
   "execution_count": 70,
   "metadata": {},
   "outputs": [
    {
     "name": "stdout",
     "output_type": "stream",
     "text": [
      "RMSE: 919,332\n"
     ]
    }
   ],
   "source": [
    "from sklearn.linear_model import Ridge\n",
    "\n",
    "# Create a Ridge regression model with a regularization strength of 0.1\n",
    "model = Ridge(alpha=0.1)\n",
    "\n",
    "# Fit the model to the training data\n",
    "model.fit(X_train, y_train)\n",
    "\n",
    "# Predict the target variable for the test data\n",
    "y_pred = model.predict(X_val)\n",
    "\n",
    "# Calculate the RMSE of the model on the validation data\n",
    "rmse = round(mean_squared_error(y_val, y_pred, squared=False))\n",
    "print(f\"RMSE: {rmse:,}\")\n"
   ]
  },
  {
   "cell_type": "code",
   "execution_count": null,
   "metadata": {},
   "outputs": [],
   "source": []
  },
  {
   "cell_type": "markdown",
   "metadata": {},
   "source": [
    "### hyper parameter tuning\n"
   ]
  },
  {
   "cell_type": "code",
   "execution_count": 71,
   "metadata": {},
   "outputs": [],
   "source": [
    "# Define the hyperparameters to tune\n",
    "# param_grid = {\n",
    "#     \"ridge__alpha\": [0.1, 1, 10, 100],\n",
    "#     \"ridge__fit_intercept\": [True, False],\n",
    "#     \"polynomialfeatures__degree\": [1, 2, 3],\n",
    "# }\n",
    "\n",
    "# # Create a Ridge regression model\n",
    "# model = make_pipeline(PolynomialFeatures(), Ridge())\n",
    "\n",
    "# # Create a grid search object\n",
    "# grid_search = GridSearchCV(model, param_grid, cv=5, scoring=\"neg_root_mean_squared_error\")\n",
    "\n",
    "# # Fit the grid search object to the training data\n",
    "# grid_search.fit(X_train, y_train)\n",
    "\n",
    "# # Print the best hyperparameters and the corresponding score\n",
    "# print(\"Best hyperparameters:\", grid_search.best_params_)\n",
    "# print(\"Best score:\", f\"{-grid_search.best_score_:,.0f}\")\n"
   ]
  },
  {
   "cell_type": "code",
   "execution_count": 72,
   "metadata": {},
   "outputs": [],
   "source": [
    "# # Create a Ridge regression model with the best hyperparameters\n",
    "# model = make_pipeline(\n",
    "#     PolynomialFeatures(degree=grid_search.best_params_[\"polynomialfeatures__degree\"]),\n",
    "#     Ridge(\n",
    "#         alpha=grid_search.best_params_[\"ridge__alpha\"],\n",
    "#         fit_intercept=grid_search.best_params_[\"ridge__fit_intercept\"],\n",
    "#     ),\n",
    "# )\n",
    "\n",
    "# # Train the model on the entire training set\n",
    "# model.fit(X_train, y_train)\n",
    "\n",
    "# # Make predictions on the test set\n",
    "# y_pred = model.predict(X_val)\n",
    "\n",
    "# # Calculate the RMSE of the model on the test set\n",
    "# rmse = mean_squared_error(y_val, y_pred, squared=False)\n",
    "\n",
    "# print(\"RMSE:\", f\"{rmse:,.0f}\")\n"
   ]
  },
  {
   "cell_type": "markdown",
   "metadata": {},
   "source": [
    "### GradientBoostingRegressor"
   ]
  },
  {
   "cell_type": "code",
   "execution_count": 35,
   "metadata": {},
   "outputs": [
    {
     "name": "stdout",
     "output_type": "stream",
     "text": [
      "RMSE: 549,329\n"
     ]
    }
   ],
   "source": [
    "from sklearn.ensemble import GradientBoostingRegressor\n",
    "\n",
    "gb_model = fit_score(GradientBoostingRegressor(random_state=42), X, y)"
   ]
  },
  {
   "cell_type": "markdown",
   "metadata": {},
   "source": [
    "### Hyperparemeter tuning"
   ]
  },
  {
   "cell_type": "code",
   "execution_count": 36,
   "metadata": {},
   "outputs": [],
   "source": [
    "# # Define the hyperparameters to tune\n",
    "# param_grid = {\n",
    "#     \"n_estimators\": [100, 200, 300],\n",
    "#     \"max_depth\": [3, 5, 7],\n",
    "#     \"learning_rate\": [0.01, 0.1, 1],\n",
    "# }\n",
    "\n",
    "# # Create a Gradient Boosting model\n",
    "# model = GradientBoostingRegressor()\n",
    "\n",
    "# # Create a GridSearchCV object\n",
    "# grid_search = GridSearchCV(\n",
    "#     model, param_grid, cv=5, scoring=\"neg_root_mean_squared_error\", n_jobs=-1\n",
    "# )\n",
    "\n",
    "# # Fit the GridSearchCV object to the training data\n",
    "# grid_search.fit(X_train, y_train)\n",
    "\n",
    "# # Print the best hyperparameters and the corresponding RMSE score\n",
    "# print(\"Best hyperparameters:\", grid_search.best_params_)\n",
    "# print(\"RMSE score:\", f\"{ -grid_search.best_score_:,.0f}\")"
   ]
  },
  {
   "cell_type": "code",
   "execution_count": 37,
   "metadata": {},
   "outputs": [
    {
     "name": "stdout",
     "output_type": "stream",
     "text": [
      "Best hyperparameters: {'learning_rate': 0.1, 'max_depth': 4, 'n_estimators': 150}\n",
      "RMSE score: 542,796\n"
     ]
    }
   ],
   "source": [
    "# Define the hyperparameters to tune\n",
    "param_grid = {\n",
    "    \"n_estimators\": [150, 200, 125],\n",
    "    \"max_depth\": [4, 5, 6],\n",
    "    \"learning_rate\": [0.01, 0.1, 1],\n",
    "}\n",
    "\n",
    "# Create a Gradient Boosting model\n",
    "model = GradientBoostingRegressor()\n",
    "\n",
    "# Create a GridSearchCV object\n",
    "grid_search = GridSearchCV(\n",
    "    model, param_grid, cv=10, scoring=\"neg_root_mean_squared_error\", n_jobs=-1\n",
    ")\n",
    "\n",
    "# Fit the GridSearchCV object to the training data\n",
    "grid_search.fit(X_train, y_train)\n",
    "\n",
    "# Print the best hyperparameters and the corresponding RMSE score\n",
    "print(\"Best hyperparameters:\", grid_search.best_params_)\n",
    "print(\"RMSE score:\", f\"{ -grid_search.best_score_:,.0f}\")"
   ]
  },
  {
   "cell_type": "code",
   "execution_count": 77,
   "metadata": {},
   "outputs": [],
   "source": [
    "# def fn(**grid_search.best_params_):\n",
    "#     return grid_search.best_params_"
   ]
  },
  {
   "cell_type": "code",
   "execution_count": 40,
   "metadata": {},
   "outputs": [
    {
     "name": "stdout",
     "output_type": "stream",
     "text": [
      "RMSE: 537,421\n"
     ]
    }
   ],
   "source": [
    "gb_model = fit_score(\n",
    "    GradientBoostingRegressor(random_state=42, **grid_search.best_params_), X, y\n",
    ")\n"
   ]
  },
  {
   "cell_type": "code",
   "execution_count": 41,
   "metadata": {},
   "outputs": [
    {
     "data": {
      "text/html": [
       "<div>\n",
       "<style scoped>\n",
       "    .dataframe tbody tr th:only-of-type {\n",
       "        vertical-align: middle;\n",
       "    }\n",
       "\n",
       "    .dataframe tbody tr th {\n",
       "        vertical-align: top;\n",
       "    }\n",
       "\n",
       "    .dataframe thead th {\n",
       "        text-align: right;\n",
       "    }\n",
       "</style>\n",
       "<table border=\"1\" class=\"dataframe\">\n",
       "  <thead>\n",
       "    <tr style=\"text-align: right;\">\n",
       "      <th></th>\n",
       "      <th>ID</th>\n",
       "      <th>price</th>\n",
       "    </tr>\n",
       "  </thead>\n",
       "  <tbody>\n",
       "    <tr>\n",
       "      <th>0</th>\n",
       "      <td>845</td>\n",
       "      <td>2.335170e+06</td>\n",
       "    </tr>\n",
       "    <tr>\n",
       "      <th>1</th>\n",
       "      <td>1924</td>\n",
       "      <td>9.771873e+05</td>\n",
       "    </tr>\n",
       "    <tr>\n",
       "      <th>2</th>\n",
       "      <td>10718</td>\n",
       "      <td>1.208809e+06</td>\n",
       "    </tr>\n",
       "    <tr>\n",
       "      <th>3</th>\n",
       "      <td>12076</td>\n",
       "      <td>9.056497e+06</td>\n",
       "    </tr>\n",
       "    <tr>\n",
       "      <th>4</th>\n",
       "      <td>12254</td>\n",
       "      <td>1.874817e+06</td>\n",
       "    </tr>\n",
       "  </tbody>\n",
       "</table>\n",
       "</div>"
      ],
      "text/plain": [
       "      ID         price\n",
       "0    845  2.335170e+06\n",
       "1   1924  9.771873e+05\n",
       "2  10718  1.208809e+06\n",
       "3  12076  9.056497e+06\n",
       "4  12254  1.874817e+06"
      ]
     },
     "execution_count": 41,
     "metadata": {},
     "output_type": "execute_result"
    }
   ],
   "source": [
    "predictions = gb_model.predict(X_test)\n",
    "\n",
    "sample_sub['price'] = predictions\n",
    "sample_sub.to_csv('submissions/gb_regressor_tuned_feat_engineering.csv', index=False)\n",
    "sample_sub.head()\n",
    "\n",
    "# 362891.4090 on LB\n",
    "# 358028.1369 on LB with feature engeneering\n"
   ]
  },
  {
   "cell_type": "markdown",
   "metadata": {},
   "source": [
    "### KFold Cross Validation Gradient Boosting Regressor"
   ]
  },
  {
   "cell_type": "code",
   "execution_count": 44,
   "metadata": {},
   "outputs": [],
   "source": [
    "gbr = GradientBoostingRegressor(random_state=4220, **grid_search.best_params_)"
   ]
  },
  {
   "cell_type": "code",
   "execution_count": 45,
   "metadata": {},
   "outputs": [],
   "source": [
    "# from sklearn.model_selection import KFold\n",
    "\n",
    "# rmse_list = []\n",
    "# test_preds = []\n",
    "\n",
    "# # create a StratifiedKFold object\n",
    "# kf = KFold(n_splits=10, shuffle=True, random_state=200)\n",
    "\n",
    "# # create a GradientBoostingRegressor object\n",
    "\n",
    "\n",
    "# # iterate over the folds\n",
    "# for i, (train_index, val_index) in enumerate(kf.split(X, y)):\n",
    "#     # split the data into training and valing sets\n",
    "#     X_train, X_val = X[train_index], X[val_index]\n",
    "#     y_train, y_val = y[train_index], y[val_index]\n",
    "\n",
    "#     # fit the model on the training data\n",
    "#     gbr.fit(X_train, y_train)\n",
    "\n",
    "#     y_pred = gbr.predict(X_val)\n",
    "\n",
    "#     # evaluate the model on the validation data\n",
    "#     rmse = mean_squared_error(y_val, y_pred, squared=False)\n",
    "#     rmse_list.append(rmse)\n",
    "\n",
    "#     # print the score for each fold\n",
    "#     print(f\"Fold {i+1} RMSE: {rmse:,.0f}\")\n",
    "#     print(\"=======\" * 10)\n",
    "\n",
    "#     preds = gbr.predict(X_test)\n",
    "#     test_preds.append(preds)\n",
    "\n",
    "# print(f\"Average RMSE: {np.mean(rmse_list):,.0f}\")"
   ]
  },
  {
   "cell_type": "code",
   "execution_count": null,
   "metadata": {},
   "outputs": [],
   "source": []
  },
  {
   "cell_type": "code",
   "execution_count": 68,
   "metadata": {},
   "outputs": [],
   "source": [
    "from sklearn.model_selection import KFold\n",
    "from typing import List, Callable\n",
    "\n",
    "sns.set(style=\"darkgrid\")\n",
    "\n",
    "\n",
    "def fold_fit_score(\n",
    "    model,\n",
    "    X: pd.DataFrame,\n",
    "    y: pd.Series,\n",
    "    n_folds: int,\n",
    "    transform_func: Callable,\n",
    "    inverse_transform_func: Callable,\n",
    "    plot_feat_imp=False,\n",
    ") -> List[list]:\n",
    "    rmse_list_transformed = []\n",
    "    test_preds_transformed = []\n",
    "\n",
    "    # create a StratifiedKFold object\n",
    "    kf = KFold(n_splits=n_folds, shuffle=True, random_state=20)\n",
    "\n",
    "    # iterate over the folds\n",
    "    for i, (train_index, val_index) in enumerate(kf.split(X, y)):\n",
    "        # split the data into training and valing sets\n",
    "        X_train, X_val = X.iloc[train_index], X.iloc[val_index]\n",
    "        y_train, y_val = transform_func(y[train_index].astype(float)), y[val_index]\n",
    "\n",
    "        # fit the model on the training data\n",
    "        model.fit(X_train, y_train)\n",
    "\n",
    "        y_pred = model.predict(X_val)\n",
    "\n",
    "        # evaluate the model on the validation data\n",
    "        rmse = mean_squared_error(y_val, inverse_transform_func(y_pred), squared=False)\n",
    "        rmse_list_transformed.append(rmse)\n",
    "\n",
    "        # print the score for each fold\n",
    "        print(f\"Fold {i+1} RMSE: {rmse:,.0f}\")\n",
    "        print(\"=======\" * 10)\n",
    "\n",
    "        preds = model.predict(X_test)\n",
    "        test_preds_transformed.append(inverse_transform_func(preds))\n",
    "\n",
    "    print(f\"Average RMSE: {np.mean(rmse_list_transformed):,.0f}\")\n",
    "\n",
    "    if plot_feat_imp:\n",
    "        # feature importance plot for model\n",
    "        feat_imp = pd.DataFrame(\n",
    "            {\"Feature\": X.columns, \"Importance\": model.feature_importances_}\n",
    "        )\n",
    "        feat_imp = feat_imp.sort_values(by=\"Importance\", ascending=False).reset_index(\n",
    "            drop=True\n",
    "        )\n",
    "        plt.figure(figsize=(10, 8))\n",
    "        sns.barplot(x=\"Importance\", y=\"Feature\", data=feat_imp)\n",
    "        plt.title(f\"Feature Importance for {type(model).__name__}\")\n",
    "        plt.show()\n",
    "\n",
    "    return test_preds_transformed"
   ]
  },
  {
   "cell_type": "code",
   "execution_count": 77,
   "metadata": {},
   "outputs": [
    {
     "name": "stdout",
     "output_type": "stream",
     "text": [
      "Fold 1 RMSE: 478,509\n",
      "======================================================================\n",
      "Fold 2 RMSE: 413,078\n",
      "======================================================================\n",
      "Fold 3 RMSE: 598,088\n",
      "======================================================================\n",
      "Fold 4 RMSE: 469,592\n",
      "======================================================================\n",
      "Fold 5 RMSE: 708,021\n",
      "======================================================================\n",
      "Fold 6 RMSE: 490,800\n",
      "======================================================================\n",
      "Fold 7 RMSE: 506,013\n",
      "======================================================================\n",
      "Fold 8 RMSE: 553,900\n",
      "======================================================================\n",
      "Fold 9 RMSE: 610,759\n",
      "======================================================================\n",
      "Fold 10 RMSE: 633,652\n",
      "======================================================================\n",
      "Fold 11 RMSE: 477,879\n",
      "======================================================================\n",
      "Fold 12 RMSE: 606,643\n",
      "======================================================================\n",
      "Fold 13 RMSE: 476,420\n",
      "======================================================================\n",
      "Fold 14 RMSE: 475,316\n",
      "======================================================================\n",
      "Fold 15 RMSE: 683,765\n",
      "======================================================================\n",
      "Average RMSE: 545,496\n"
     ]
    },
    {
     "data": {
      "image/png": "[encoded data removed]",
      "text/plain": [
       "<Figure size 1000x800 with 1 Axes>"
      ]
     },
     "metadata": {},
     "output_type": "display_data"
    }
   ],
   "source": [
    "gbr_preds = fold_fit_score(\n",
    "    gbr,\n",
    "    X,\n",
    "    y,\n",
    "    15,\n",
    "    transform_func=np.log1p,\n",
    "    inverse_transform_func=np.expm1,\n",
    "    plot_feat_imp=True,\n",
    ")\n",
    "\n",
    "# 543,978"
   ]
  },
  {
   "cell_type": "code",
   "execution_count": 71,
   "metadata": {},
   "outputs": [
    {
     "data": {
      "text/plain": [
       "array([2301717.17925198, 1002790.24698098, 1271937.24527206, ...,\n",
       "       2074485.4389203 , 1697706.35096222, 3488121.85616951])"
      ]
     },
     "execution_count": 71,
     "metadata": {},
     "output_type": "execute_result"
    }
   ],
   "source": [
    "gbr_preds[0]"
   ]
  },
  {
   "cell_type": "code",
   "execution_count": 72,
   "metadata": {},
   "outputs": [
    {
     "data": {
      "text/html": [
       "<div>\n",
       "<style scoped>\n",
       "    .dataframe tbody tr th:only-of-type {\n",
       "        vertical-align: middle;\n",
       "    }\n",
       "\n",
       "    .dataframe tbody tr th {\n",
       "        vertical-align: top;\n",
       "    }\n",
       "\n",
       "    .dataframe thead th {\n",
       "        text-align: right;\n",
       "    }\n",
       "</style>\n",
       "<table border=\"1\" class=\"dataframe\">\n",
       "  <thead>\n",
       "    <tr style=\"text-align: right;\">\n",
       "      <th></th>\n",
       "      <th>ID</th>\n",
       "      <th>price</th>\n",
       "    </tr>\n",
       "  </thead>\n",
       "  <tbody>\n",
       "    <tr>\n",
       "      <th>0</th>\n",
       "      <td>845</td>\n",
       "      <td>2.285318e+06</td>\n",
       "    </tr>\n",
       "    <tr>\n",
       "      <th>1</th>\n",
       "      <td>1924</td>\n",
       "      <td>1.016355e+06</td>\n",
       "    </tr>\n",
       "    <tr>\n",
       "      <th>2</th>\n",
       "      <td>10718</td>\n",
       "      <td>1.238927e+06</td>\n",
       "    </tr>\n",
       "    <tr>\n",
       "      <th>3</th>\n",
       "      <td>12076</td>\n",
       "      <td>8.885165e+06</td>\n",
       "    </tr>\n",
       "    <tr>\n",
       "      <th>4</th>\n",
       "      <td>12254</td>\n",
       "      <td>1.826053e+06</td>\n",
       "    </tr>\n",
       "  </tbody>\n",
       "</table>\n",
       "</div>"
      ],
      "text/plain": [
       "      ID         price\n",
       "0    845  2.285318e+06\n",
       "1   1924  1.016355e+06\n",
       "2  10718  1.238927e+06\n",
       "3  12076  8.885165e+06\n",
       "4  12254  1.826053e+06"
      ]
     },
     "execution_count": 72,
     "metadata": {},
     "output_type": "execute_result"
    }
   ],
   "source": [
    "sample_sub[\"price\"] = np.mean(gbr_preds, axis=0)\n",
    "sample_sub.to_csv(\n",
    "    \"submissions/gb_regressor_tuned_kfold_15_sqrt_transformed_feat_eng.csv\", index=False\n",
    ")\n",
    "sample_sub.head()\n",
    "\n",
    "# LB Score: 344462.8593\n",
    "# LB Score: 346061.0930 with sqrt transformation\n"
   ]
  },
  {
   "cell_type": "markdown",
   "metadata": {},
   "source": [
    "### CatBoostRegressor"
   ]
  },
  {
   "cell_type": "code",
   "execution_count": 78,
   "metadata": {},
   "outputs": [
    {
     "name": "stdout",
     "output_type": "stream",
     "text": [
      "Fold 1 RMSE: 495,032\n",
      "======================================================================\n",
      "Fold 2 RMSE: 416,099\n",
      "======================================================================\n",
      "Fold 3 RMSE: 583,445\n",
      "======================================================================\n",
      "Fold 4 RMSE: 461,724\n",
      "======================================================================\n",
      "Fold 5 RMSE: 710,396\n",
      "======================================================================\n",
      "Fold 6 RMSE: 486,502\n",
      "======================================================================\n",
      "Fold 7 RMSE: 500,443\n",
      "======================================================================\n",
      "Fold 8 RMSE: 561,403\n",
      "======================================================================\n",
      "Fold 9 RMSE: 620,617\n",
      "======================================================================\n",
      "Fold 10 RMSE: 637,708\n",
      "======================================================================\n",
      "Fold 11 RMSE: 474,128\n",
      "======================================================================\n",
      "Fold 12 RMSE: 606,004\n",
      "======================================================================\n",
      "Fold 13 RMSE: 466,947\n",
      "======================================================================\n",
      "Fold 14 RMSE: 473,833\n",
      "======================================================================\n",
      "Fold 15 RMSE: 680,747\n",
      "======================================================================\n",
      "Average RMSE: 545,002\n"
     ]
    },
    {
     "data": {
      "image/png": "[encoded data removed]",
      "text/plain": [
       "<Figure size 1000x800 with 1 Axes>"
      ]
     },
     "metadata": {},
     "output_type": "display_data"
    }
   ],
   "source": [
    "from catboost import CatBoostRegressor\n",
    "\n",
    "cb = CatBoostRegressor(\n",
    "    loss_function=\"RMSE\",\n",
    "    random_seed=419,\n",
    "    verbose=False,\n",
    ")\n",
    "\n",
    "cb_preds = fold_fit_score(\n",
    "    cb,\n",
    "    X,\n",
    "    y,\n",
    "    15,\n",
    "    transform_func=np.log1p,\n",
    "    inverse_transform_func=np.expm1,\n",
    "    plot_feat_imp=True,\n",
    ")"
   ]
  },
  {
   "cell_type": "code",
   "execution_count": 74,
   "metadata": {},
   "outputs": [
    {
     "data": {
      "text/html": [
       "<div>\n",
       "<style scoped>\n",
       "    .dataframe tbody tr th:only-of-type {\n",
       "        vertical-align: middle;\n",
       "    }\n",
       "\n",
       "    .dataframe tbody tr th {\n",
       "        vertical-align: top;\n",
       "    }\n",
       "\n",
       "    .dataframe thead th {\n",
       "        text-align: right;\n",
       "    }\n",
       "</style>\n",
       "<table border=\"1\" class=\"dataframe\">\n",
       "  <thead>\n",
       "    <tr style=\"text-align: right;\">\n",
       "      <th></th>\n",
       "      <th>ID</th>\n",
       "      <th>price</th>\n",
       "    </tr>\n",
       "  </thead>\n",
       "  <tbody>\n",
       "    <tr>\n",
       "      <th>0</th>\n",
       "      <td>845</td>\n",
       "      <td>2.392023e+06</td>\n",
       "    </tr>\n",
       "    <tr>\n",
       "      <th>1</th>\n",
       "      <td>1924</td>\n",
       "      <td>1.069272e+06</td>\n",
       "    </tr>\n",
       "    <tr>\n",
       "      <th>2</th>\n",
       "      <td>10718</td>\n",
       "      <td>1.224225e+06</td>\n",
       "    </tr>\n",
       "    <tr>\n",
       "      <th>3</th>\n",
       "      <td>12076</td>\n",
       "      <td>8.872981e+06</td>\n",
       "    </tr>\n",
       "    <tr>\n",
       "      <th>4</th>\n",
       "      <td>12254</td>\n",
       "      <td>1.839018e+06</td>\n",
       "    </tr>\n",
       "  </tbody>\n",
       "</table>\n",
       "</div>"
      ],
      "text/plain": [
       "      ID         price\n",
       "0    845  2.392023e+06\n",
       "1   1924  1.069272e+06\n",
       "2  10718  1.224225e+06\n",
       "3  12076  8.872981e+06\n",
       "4  12254  1.839018e+06"
      ]
     },
     "execution_count": 74,
     "metadata": {},
     "output_type": "execute_result"
    }
   ],
   "source": [
    "sample_sub['price'] = np.mean(cb_preds, axis=0)\n",
    "sample_sub.to_csv('submissions/catboost_regressor_kfold_15_sqrt_transformed_feat_eng.csv', index=False)\n",
    "sample_sub.head()\n",
    "\n",
    "# LB Score: 370764.5299"
   ]
  },
  {
   "cell_type": "code",
   "execution_count": 79,
   "metadata": {},
   "outputs": [
    {
     "name": "stdout",
     "output_type": "stream",
     "text": [
      "Fold 1 RMSE: 486,773\n",
      "======================================================================\n",
      "Fold 2 RMSE: 415,899\n",
      "======================================================================\n",
      "Fold 3 RMSE: 589,673\n",
      "======================================================================\n",
      "Fold 4 RMSE: 471,539\n",
      "======================================================================\n",
      "Fold 5 RMSE: 704,003\n",
      "======================================================================\n",
      "Fold 6 RMSE: 489,031\n",
      "======================================================================\n",
      "Fold 7 RMSE: 502,358\n",
      "======================================================================\n",
      "Fold 8 RMSE: 558,769\n",
      "======================================================================\n",
      "Fold 9 RMSE: 615,405\n",
      "======================================================================\n",
      "Fold 10 RMSE: 636,448\n",
      "======================================================================\n",
      "Fold 11 RMSE: 473,217\n",
      "======================================================================\n",
      "Fold 12 RMSE: 603,160\n",
      "======================================================================\n",
      "Fold 13 RMSE: 470,375\n",
      "======================================================================\n",
      "Fold 14 RMSE: 476,275\n",
      "======================================================================\n",
      "Fold 15 RMSE: 666,489\n",
      "======================================================================\n",
      "Average RMSE: 543,961\n"
     ]
    },
    {
     "data": {
      "image/png": "[encoded data removed]",
      "text/plain": [
       "<Figure size 1000x800 with 1 Axes>"
      ]
     },
     "metadata": {},
     "output_type": "display_data"
    }
   ],
   "source": [
    "from lightgbm import LGBMRegressor\n",
    "\n",
    "params = {\n",
    "    \"n_estimators\": 500,\n",
    "    \"colsample_bytree\": 0.86,\n",
    "    \"learning_rate\": 0.032,\n",
    "    \"max_depth\": 7,\n",
    "    \"subsample\": 0.85,\n",
    "}\n",
    "\n",
    "lgbm_reg = LGBMRegressor(**params, random_state=2023, objective=\"rmse\", verbosity=-1)\n",
    "\n",
    "lgbm_preds = fold_fit_score(\n",
    "    lgbm_reg,\n",
    "    X,\n",
    "    y,\n",
    "    15,\n",
    "    transform_func=np.log1p,\n",
    "    inverse_transform_func=np.expm1,\n",
    "    plot_feat_imp=True,\n",
    ")"
   ]
  },
  {
   "cell_type": "code",
   "execution_count": 76,
   "metadata": {},
   "outputs": [
    {
     "data": {
      "text/html": [
       "<div>\n",
       "<style scoped>\n",
       "    .dataframe tbody tr th:only-of-type {\n",
       "        vertical-align: middle;\n",
       "    }\n",
       "\n",
       "    .dataframe tbody tr th {\n",
       "        vertical-align: top;\n",
       "    }\n",
       "\n",
       "    .dataframe thead th {\n",
       "        text-align: right;\n",
       "    }\n",
       "</style>\n",
       "<table border=\"1\" class=\"dataframe\">\n",
       "  <thead>\n",
       "    <tr style=\"text-align: right;\">\n",
       "      <th></th>\n",
       "      <th>ID</th>\n",
       "      <th>price</th>\n",
       "    </tr>\n",
       "  </thead>\n",
       "  <tbody>\n",
       "    <tr>\n",
       "      <th>0</th>\n",
       "      <td>845</td>\n",
       "      <td>2.338481e+06</td>\n",
       "    </tr>\n",
       "    <tr>\n",
       "      <th>1</th>\n",
       "      <td>1924</td>\n",
       "      <td>1.065296e+06</td>\n",
       "    </tr>\n",
       "    <tr>\n",
       "      <th>2</th>\n",
       "      <td>10718</td>\n",
       "      <td>1.200931e+06</td>\n",
       "    </tr>\n",
       "    <tr>\n",
       "      <th>3</th>\n",
       "      <td>12076</td>\n",
       "      <td>8.532945e+06</td>\n",
       "    </tr>\n",
       "    <tr>\n",
       "      <th>4</th>\n",
       "      <td>12254</td>\n",
       "      <td>1.881348e+06</td>\n",
       "    </tr>\n",
       "  </tbody>\n",
       "</table>\n",
       "</div>"
      ],
      "text/plain": [
       "      ID         price\n",
       "0    845  2.338481e+06\n",
       "1   1924  1.065296e+06\n",
       "2  10718  1.200931e+06\n",
       "3  12076  8.532945e+06\n",
       "4  12254  1.881348e+06"
      ]
     },
     "execution_count": 76,
     "metadata": {},
     "output_type": "execute_result"
    }
   ],
   "source": [
    "sample_sub['price'] = np.mean(lgbm_preds, axis=0)\n",
    "sample_sub.to_csv('submissions/lgbm_regressor_kfold_15_sqrt_transformed_feat_eng.csv', index=False)\n",
    "sample_sub.head()"
   ]
  },
  {
   "cell_type": "code",
   "execution_count": 82,
   "metadata": {},
   "outputs": [
    {
     "data": {
      "text/html": [
       "<div>\n",
       "<style scoped>\n",
       "    .dataframe tbody tr th:only-of-type {\n",
       "        vertical-align: middle;\n",
       "    }\n",
       "\n",
       "    .dataframe tbody tr th {\n",
       "        vertical-align: top;\n",
       "    }\n",
       "\n",
       "    .dataframe thead th {\n",
       "        text-align: right;\n",
       "    }\n",
       "</style>\n",
       "<table border=\"1\" class=\"dataframe\">\n",
       "  <thead>\n",
       "    <tr style=\"text-align: right;\">\n",
       "      <th></th>\n",
       "      <th>ID</th>\n",
       "      <th>price</th>\n",
       "    </tr>\n",
       "  </thead>\n",
       "  <tbody>\n",
       "    <tr>\n",
       "      <th>0</th>\n",
       "      <td>845</td>\n",
       "      <td>2.340911e+06</td>\n",
       "    </tr>\n",
       "    <tr>\n",
       "      <th>1</th>\n",
       "      <td>1924</td>\n",
       "      <td>1.042749e+06</td>\n",
       "    </tr>\n",
       "    <tr>\n",
       "      <th>2</th>\n",
       "      <td>10718</td>\n",
       "      <td>1.227455e+06</td>\n",
       "    </tr>\n",
       "    <tr>\n",
       "      <th>3</th>\n",
       "      <td>12076</td>\n",
       "      <td>9.137489e+06</td>\n",
       "    </tr>\n",
       "    <tr>\n",
       "      <th>4</th>\n",
       "      <td>12254</td>\n",
       "      <td>1.813196e+06</td>\n",
       "    </tr>\n",
       "  </tbody>\n",
       "</table>\n",
       "</div>"
      ],
      "text/plain": [
       "      ID         price\n",
       "0    845  2.340911e+06\n",
       "1   1924  1.042749e+06\n",
       "2  10718  1.227455e+06\n",
       "3  12076  9.137489e+06\n",
       "4  12254  1.813196e+06"
      ]
     },
     "execution_count": 82,
     "metadata": {},
     "output_type": "execute_result"
    }
   ],
   "source": [
    "# 0.45 * gb_preds + 0.35 * lgbm_preds + 0.2 * cb_preds\n",
    "\n",
    "sample_sub[\"price\"] = (\n",
    "    0.45 * np.mean(gbr_preds, axis=0)\n",
    "    + 0.35 * np.mean(lgbm_preds, axis=0)\n",
    "    + 0.2 * np.mean(cb_preds, axis=0)\n",
    ")\n",
    "\n",
    "sample_sub.to_csv(\"submissions/ensemble.csv\", index=False)\n",
    "sample_sub.head()"
   ]
  },
  {
   "cell_type": "code",
   "execution_count": null,
   "metadata": {},
   "outputs": [],
   "source": []
  },
  {
   "cell_type": "code",
   "execution_count": null,
   "metadata": {},
   "outputs": [],
   "source": []
  },
  {
   "cell_type": "code",
   "execution_count": 76,
   "metadata": {},
   "outputs": [],
   "source": [
    "# from sklearn.preprocessing import PolynomialFeatures\n",
    "\n",
    "# # Create polynomial features\n",
    "# poly = PolynomialFeatures(degree=4)\n",
    "# X_train_poly = poly.fit_transform(X_train)\n",
    "# X_val_poly = poly.transform(X_val)\n",
    "\n",
    "# # Define the hyperparameters to tune\n",
    "# param_grid = {\n",
    "#     \"n_estimators\": [150, 200, 125],\n",
    "#     \"max_depth\": [4, 5, 6],\n",
    "#     \"learning_rate\": [0.01, 0.1, 1],\n",
    "# }\n",
    "\n",
    "# # Create a Gradient Boosting model\n",
    "# model = GradientBoostingRegressor()\n",
    "\n",
    "# # Create a GridSearchCV object\n",
    "# grid_search = GridSearchCV(\n",
    "#     model, param_grid, cv=5, scoring=\"neg_root_mean_squared_error\", n_jobs=-1\n",
    "# )\n",
    "\n",
    "# # Fit the GridSearchCV object to the training data\n",
    "# grid_search.fit(X_train_poly, y_train)\n",
    "\n",
    "# # Print the best hyperparameters and the corresponding RMSE score\n",
    "# print(\"Best hyperparameters:\", grid_search.best_params_)\n",
    "# print(\"RMSE score:\", -grid_search.best_score_)"
   ]
  },
  {
   "cell_type": "markdown",
   "metadata": {},
   "source": [
    "### Cross Validation"
   ]
  },
  {
   "cell_type": "code",
   "execution_count": 80,
   "metadata": {},
   "outputs": [],
   "source": [
    "from sklearn.ensemble import GradientBoostingRegressor, BaggingRegressor\n",
    "from sklearn.preprocessing import PolynomialFeatures\n",
    "\n",
    "# Create polynomial features\n",
    "poly = PolynomialFeatures(degree=2)\n",
    "X_train_poly = poly.fit_transform(X_train)\n",
    "X_val_poly = poly.transform(X_val)\n",
    "\n",
    "# Create a Gradient Boosting model\n",
    "model = GradientBoostingRegressor()\n",
    "\n",
    "# Create a BaggingRegressor model with the Gradient Boosting model as the base estimator\n",
    "bagging_model = BaggingRegressor(base_estimator=model, n_estimators=10)\n",
    "\n",
    "# Fit the model to the training data\n",
    "bagging_model.fit(X_train_poly, y_train)\n",
    "\n",
    "# Predict the target variable for the test data\n",
    "y_pred = bagging_model.predict(X_val_poly)\n"
   ]
  },
  {
   "cell_type": "code",
   "execution_count": 81,
   "metadata": {},
   "outputs": [
    {
     "data": {
      "text/plain": [
       "561734.8952800276"
      ]
     },
     "execution_count": 81,
     "metadata": {},
     "output_type": "execute_result"
    }
   ],
   "source": [
    "mean_squared_error(y_val, y_pred, squared=False)"
   ]
  }
 ],
 "metadata": {
  "kernelspec": {
   "display_name": "Tess",
   "language": "python",
   "name": "python3"
  },
  "language_info": {
   "codemirror_mode": {
    "name": "ipython",
    "version": 3
   },
   "file_extension": ".py",
   "mimetype": "text/x-python",
   "name": "python",
   "nbconvert_exporter": "python",
   "pygments_lexer": "ipython3",
   "version": "3.10.9"
  },
  "orig_nbformat": 4
 },
 "nbformat": 4,
 "nbformat_minor": 2
}
