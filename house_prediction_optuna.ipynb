{
 "cells": [
  {
   "cell_type": "code",
   "execution_count": 13,
   "metadata": {},
   "outputs": [],
   "source": [
    "import pandas as pd\n",
    "import numpy as np\n",
    "import optuna \n",
    "\n",
    "from sklearn.metrics import mean_squared_error\n",
    "import lightgbm as lgbm\n",
    "\n",
    "from scripts.preprocess import preprocess\n",
    "\n",
    "import warnings\n",
    "warnings.filterwarnings('ignore')"
   ]
  },
  {
   "cell_type": "markdown",
   "metadata": {},
   "source": [
    "## Data Preprocessing"
   ]
  },
  {
   "cell_type": "code",
   "execution_count": 11,
   "metadata": {},
   "outputs": [
    {
     "name": "stdout",
     "output_type": "stream",
     "text": [
      "(10500, 7) (3500, 7)\n",
      "(10500,) (3500,)\n"
     ]
    }
   ],
   "source": [
    "X_train, X_val, y_train, y_val = preprocess(\n",
    "    \"data/Housing_dataset_train.csv\",\n",
    "    \"data/Housing_dataset_test.csv\",\n",
    "    \"state_to_region.json\",\n",
    ")\n",
    "\n",
    "print(X_train.shape, X_val.shape)\n",
    "print(y_train.shape, y_val.shape)"
   ]
  },
  {
   "cell_type": "code",
   "execution_count": null,
   "metadata": {},
   "outputs": [],
   "source": []
  },
  {
   "cell_type": "code",
   "execution_count": 14,
   "metadata": {},
   "outputs": [
    {
     "name": "stderr",
     "output_type": "stream",
     "text": [
      "[I 2023-08-08 23:01:29,598] A new study created in memory with name: no-name-06449c2f-ef1f-4a79-b0b1-82b2510c784a\n"
     ]
    },
    {
     "name": "stdout",
     "output_type": "stream",
     "text": [
      "[LightGBM] [Warning] min_data_in_leaf is set=75, min_child_samples=20 will be ignored. Current value: min_data_in_leaf=75\n",
      "[LightGBM] [Warning] bagging_freq is set=1, subsample_freq=0 will be ignored. Current value: bagging_freq=1\n",
      "Training until validation scores don't improve for 100 rounds\n"
     ]
    },
    {
     "name": "stderr",
     "output_type": "stream",
     "text": [
      "[I 2023-08-08 23:01:30,944] Trial 0 finished with value: 853307.7085793996 and parameters: {'learning_rate': 0.001393985510556157, 'num_leaves': 416, 'subsample': 0.08448618483187993, 'colsample_bytree': 0.44060011208511013, 'min_data_in_leaf': 75}. Best is trial 0 with value: 853307.7085793996.\n"
     ]
    },
    {
     "name": "stdout",
     "output_type": "stream",
     "text": [
      "Did not meet early stopping. Best iteration is:\n",
      "[1000]\tvalid_0's rmse: 2.382e+06\n",
      "[LightGBM] [Warning] min_data_in_leaf is set=36, min_child_samples=20 will be ignored. Current value: min_data_in_leaf=36\n",
      "[LightGBM] [Warning] bagging_freq is set=1, subsample_freq=0 will be ignored. Current value: bagging_freq=1\n",
      "Training until validation scores don't improve for 100 rounds\n",
      "Did not meet early stopping. Best iteration is:\n",
      "[1000]\tvalid_0's rmse: 2.382e+06\n"
     ]
    },
    {
     "name": "stderr",
     "output_type": "stream",
     "text": [
      "[I 2023-08-08 23:01:35,498] Trial 1 finished with value: 665129.160374735 and parameters: {'learning_rate': 0.0038350743889421883, 'num_leaves': 347, 'subsample': 0.6738327145150824, 'colsample_bytree': 0.2441937291335825, 'min_data_in_leaf': 36}. Best is trial 1 with value: 665129.160374735.\n"
     ]
    },
    {
     "name": "stdout",
     "output_type": "stream",
     "text": [
      "[LightGBM] [Warning] min_data_in_leaf is set=45, min_child_samples=20 will be ignored. Current value: min_data_in_leaf=45\n",
      "[LightGBM] [Warning] bagging_freq is set=1, subsample_freq=0 will be ignored. Current value: bagging_freq=1\n",
      "Training until validation scores don't improve for 100 rounds\n"
     ]
    },
    {
     "name": "stderr",
     "output_type": "stream",
     "text": [
      "[I 2023-08-08 23:01:37,899] Trial 2 finished with value: 553814.9216273047 and parameters: {'learning_rate': 0.0293077981731368, 'num_leaves': 902, 'subsample': 0.20266707544440327, 'colsample_bytree': 0.12853705727890677, 'min_data_in_leaf': 45}. Best is trial 2 with value: 553814.9216273047.\n"
     ]
    },
    {
     "name": "stdout",
     "output_type": "stream",
     "text": [
      "Did not meet early stopping. Best iteration is:\n",
      "[970]\tvalid_0's rmse: 2.382e+06\n",
      "[LightGBM] [Warning] min_data_in_leaf is set=47, min_child_samples=20 will be ignored. Current value: min_data_in_leaf=47\n",
      "[LightGBM] [Warning] bagging_freq is set=1, subsample_freq=0 will be ignored. Current value: bagging_freq=1\n",
      "Training until validation scores don't improve for 100 rounds\n"
     ]
    },
    {
     "name": "stderr",
     "output_type": "stream",
     "text": [
      "[I 2023-08-08 23:01:39,597] Trial 3 finished with value: 540013.538552373 and parameters: {'learning_rate': 0.08028218624421499, 'num_leaves': 612, 'subsample': 0.1723567495230023, 'colsample_bytree': 0.7265436107343063, 'min_data_in_leaf': 47}. Best is trial 3 with value: 540013.538552373.\n"
     ]
    },
    {
     "name": "stdout",
     "output_type": "stream",
     "text": [
      "Early stopping, best iteration is:\n",
      "[196]\tvalid_0's rmse: 2.382e+06\n",
      "[LightGBM] [Warning] min_data_in_leaf is set=65, min_child_samples=20 will be ignored. Current value: min_data_in_leaf=65\n",
      "[LightGBM] [Warning] bagging_freq is set=1, subsample_freq=0 will be ignored. Current value: bagging_freq=1\n",
      "Training until validation scores don't improve for 100 rounds\n"
     ]
    },
    {
     "name": "stderr",
     "output_type": "stream",
     "text": [
      "[I 2023-08-08 23:01:42,901] Trial 4 finished with value: 705161.7697628671 and parameters: {'learning_rate': 0.0032038718871657524, 'num_leaves': 932, 'subsample': 0.5952971638929704, 'colsample_bytree': 0.27869306054916454, 'min_data_in_leaf': 65}. Best is trial 3 with value: 540013.538552373.\n"
     ]
    },
    {
     "name": "stdout",
     "output_type": "stream",
     "text": [
      "Did not meet early stopping. Best iteration is:\n",
      "[1000]\tvalid_0's rmse: 2.382e+06\n"
     ]
    }
   ],
   "source": [
    "def objective(trial):\n",
    "    params = {\n",
    "        \"objective\": \"regression\",\n",
    "        \"metric\": \"rmse\",\n",
    "        \"n_estimators\": 1000,\n",
    "        \"verbosity\": -1,\n",
    "        \"bagging_freq\": 1,\n",
    "        \"learning_rate\": trial.suggest_float(\"learning_rate\", 1e-3, 0.1, log=True),\n",
    "        \"num_leaves\": trial.suggest_int(\"num_leaves\", 2, 2**10),\n",
    "        \"subsample\": trial.suggest_float(\"subsample\", 0.05, 1.0),\n",
    "        \"colsample_bytree\": trial.suggest_float(\"colsample_bytree\", 0.05, 1.0),\n",
    "        \"min_data_in_leaf\": trial.suggest_int(\"min_data_in_leaf\", 1, 100),\n",
    "    }\n",
    "\n",
    "    model = lgbm.LGBMRegressor(**params)\n",
    "    model.fit(\n",
    "        X_train,\n",
    "        y_train,\n",
    "        eval_set=[(X_val, y_val)],\n",
    "        callbacks=[lgbm.callback.early_stopping(stopping_rounds=100)],\n",
    "        verbose=False,\n",
    "    )\n",
    "\n",
    "    preds = model.predict(X_val)\n",
    "    rmse = mean_squared_error(y_val, preds, squared=False)\n",
    "\n",
    "    return rmse\n",
    "\n",
    "\n",
    "study = optuna.create_study(direction=\"minimize\")\n",
    "study.optimize(objective, n_trials=5)"
   ]
  }
 ],
 "metadata": {
  "kernelspec": {
   "display_name": "base",
   "language": "python",
   "name": "python3"
  },
  "language_info": {
   "codemirror_mode": {
    "name": "ipython",
    "version": 3
   },
   "file_extension": ".py",
   "mimetype": "text/x-python",
   "name": "python",
   "nbconvert_exporter": "python",
   "pygments_lexer": "ipython3",
   "version": "3.10.9"
  },
  "orig_nbformat": 4
 },
 "nbformat": 4,
 "nbformat_minor": 2
}
