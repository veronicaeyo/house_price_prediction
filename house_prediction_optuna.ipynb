{
 "cells": [
  {
   "cell_type": "code",
   "execution_count": 1,
   "metadata": {},
   "outputs": [],
   "source": [
    "from pprint import pprint\n",
    "\n",
    "import pandas as pd\n",
    "import numpy as np\n",
    "import optuna \n",
    "\n",
    "from sklearn.metrics import mean_squared_error\n",
    "import lightgbm as lgbm\n",
    "\n",
    "from scripts.preprocess import preprocess\n",
    "from sklearn.model_selection import train_test_split\n",
    "from scripts.model import fold_fit_score\n",
    "\n",
    "import warnings\n",
    "warnings.filterwarnings('ignore')"
   ]
  },
  {
   "cell_type": "markdown",
   "metadata": {},
   "source": [
    "## Data Preprocessing"
   ]
  },
  {
   "cell_type": "code",
   "execution_count": 2,
   "metadata": {},
   "outputs": [
    {
     "name": "stdout",
     "output_type": "stream",
     "text": [
      "(14000, 7) (14000,) (6000, 7)\n"
     ]
    }
   ],
   "source": [
    "X, y, X_test = preprocess(\n",
    "    \"data/Housing_dataset_train.csv\",\n",
    "    \"data/Housing_dataset_test.csv\",\n",
    "    \"state_to_region.json\",\n",
    ")\n",
    "\n",
    "print(X.shape, y.shape, X_test.shape)"
   ]
  },
  {
   "cell_type": "code",
   "execution_count": 3,
   "metadata": {},
   "outputs": [
    {
     "data": {
      "text/plain": [
       "loc               float64\n",
       "bedroom           float64\n",
       "bathroom          float64\n",
       "parking_space     float64\n",
       "region            float64\n",
       "bed_bath_ratio    float64\n",
       "title_rank        float64\n",
       "dtype: object"
      ]
     },
     "execution_count": 3,
     "metadata": {},
     "output_type": "execute_result"
    }
   ],
   "source": [
    "X.dtypes"
   ]
  },
  {
   "cell_type": "code",
   "execution_count": 4,
   "metadata": {},
   "outputs": [
    {
     "name": "stdout",
     "output_type": "stream",
     "text": [
      "(10500, 7) (3500, 7)\n",
      "(10500,) (3500,)\n"
     ]
    }
   ],
   "source": [
    "# split into train and validation set\n",
    "X_train, X_val, y_train, y_val = train_test_split(X, y, random_state=7)\n",
    "\n",
    "print(X_train.shape, X_val.shape)\n",
    "print(y_train.shape, y_val.shape)"
   ]
  },
  {
   "cell_type": "code",
   "execution_count": 5,
   "metadata": {},
   "outputs": [
    {
     "name": "stderr",
     "output_type": "stream",
     "text": [
      "[I 2023-08-15 14:43:50,853] A new study created in RDB with name: lgbm-sqlite-dashboard\n"
     ]
    },
    {
     "name": "stdout",
     "output_type": "stream",
     "text": [
      "[LightGBM] [Warning] min_data_in_leaf is set=40, min_child_samples=20 will be ignored. Current value: min_data_in_leaf=40\n",
      "[LightGBM] [Warning] bagging_freq is set=1, subsample_freq=0 will be ignored. Current value: bagging_freq=1\n",
      "Training until validation scores don't improve for 100 rounds\n"
     ]
    },
    {
     "name": "stderr",
     "output_type": "stream",
     "text": [
      "[I 2023-08-15 14:44:08,265] Trial 0 finished with value: 572343.1252353289 and parameters: {'learning_rate': 0.013387383719886304, 'num_leaves': 243, 'subsample': 0.26612699936732404, 'colsample_bytree': 0.15338495515232314, 'min_data_in_leaf': 40}. Best is trial 0 with value: 572343.1252353289.\n"
     ]
    },
    {
     "name": "stdout",
     "output_type": "stream",
     "text": [
      "Did not meet early stopping. Best iteration is:\n",
      "[1000]\tvalid_0's rmse: 572343\n",
      "[LightGBM] [Warning] min_data_in_leaf is set=40, min_child_samples=20 will be ignored. Current value: min_data_in_leaf=40\n",
      "[LightGBM] [Warning] bagging_freq is set=1, subsample_freq=0 will be ignored. Current value: bagging_freq=1\n",
      "Training until validation scores don't improve for 100 rounds\n",
      "Did not meet early stopping. Best iteration is:\n",
      "[1000]\tvalid_0's rmse: 571805\n"
     ]
    },
    {
     "name": "stderr",
     "output_type": "stream",
     "text": [
      "[I 2023-08-15 14:44:26,085] Trial 1 finished with value: 571804.6959091442 and parameters: {'learning_rate': 0.013890798707066016, 'num_leaves': 562, 'subsample': 0.7788247981201644, 'colsample_bytree': 0.10798465341535805, 'min_data_in_leaf': 40}. Best is trial 1 with value: 571804.6959091442.\n"
     ]
    },
    {
     "name": "stdout",
     "output_type": "stream",
     "text": [
      "[LightGBM] [Warning] min_data_in_leaf is set=17, min_child_samples=20 will be ignored. Current value: min_data_in_leaf=17\n",
      "[LightGBM] [Warning] bagging_freq is set=1, subsample_freq=0 will be ignored. Current value: bagging_freq=1\n",
      "Training until validation scores don't improve for 100 rounds\n"
     ]
    },
    {
     "name": "stderr",
     "output_type": "stream",
     "text": [
      "[I 2023-08-15 14:45:27,776] Trial 2 finished with value: 542737.2189351728 and parameters: {'learning_rate': 0.024718562293985172, 'num_leaves': 163, 'subsample': 0.7191905833011688, 'colsample_bytree': 0.8989963124519793, 'min_data_in_leaf': 17}. Best is trial 2 with value: 542737.2189351728.\n"
     ]
    },
    {
     "name": "stdout",
     "output_type": "stream",
     "text": [
      "Early stopping, best iteration is:\n",
      "[175]\tvalid_0's rmse: 542737\n",
      "[LightGBM] [Warning] min_data_in_leaf is set=41, min_child_samples=20 will be ignored. Current value: min_data_in_leaf=41\n",
      "[LightGBM] [Warning] bagging_freq is set=1, subsample_freq=0 will be ignored. Current value: bagging_freq=1\n",
      "Training until validation scores don't improve for 100 rounds\n",
      "Did not meet early stopping. Best iteration is:\n",
      "[1000]\tvalid_0's rmse: 692359\n"
     ]
    },
    {
     "name": "stderr",
     "output_type": "stream",
     "text": [
      "[I 2023-08-15 14:47:09,466] Trial 3 finished with value: 692358.9603868603 and parameters: {'learning_rate': 0.00117292443808028, 'num_leaves': 992, 'subsample': 0.6901621009404127, 'colsample_bytree': 0.6720413894291358, 'min_data_in_leaf': 41}. Best is trial 2 with value: 542737.2189351728.\n"
     ]
    },
    {
     "name": "stdout",
     "output_type": "stream",
     "text": [
      "[LightGBM] [Warning] min_data_in_leaf is set=94, min_child_samples=20 will be ignored. Current value: min_data_in_leaf=94\n",
      "[LightGBM] [Warning] bagging_freq is set=1, subsample_freq=0 will be ignored. Current value: bagging_freq=1\n",
      "Training until validation scores don't improve for 100 rounds\n"
     ]
    },
    {
     "name": "stderr",
     "output_type": "stream",
     "text": [
      "[I 2023-08-15 14:47:31,594] Trial 4 finished with value: 620122.1031986857 and parameters: {'learning_rate': 0.006272028156910085, 'num_leaves': 673, 'subsample': 0.1146567754935825, 'colsample_bytree': 0.573817471546058, 'min_data_in_leaf': 94}. Best is trial 2 with value: 542737.2189351728.\n"
     ]
    },
    {
     "name": "stdout",
     "output_type": "stream",
     "text": [
      "Did not meet early stopping. Best iteration is:\n",
      "[1000]\tvalid_0's rmse: 620122\n",
      "[LightGBM] [Warning] min_data_in_leaf is set=81, min_child_samples=20 will be ignored. Current value: min_data_in_leaf=81\n",
      "[LightGBM] [Warning] bagging_freq is set=1, subsample_freq=0 will be ignored. Current value: bagging_freq=1\n",
      "Training until validation scores don't improve for 100 rounds\n",
      "Did not meet early stopping. Best iteration is:\n",
      "[1000]\tvalid_0's rmse: 630512\n"
     ]
    },
    {
     "name": "stderr",
     "output_type": "stream",
     "text": [
      "[I 2023-08-15 14:47:49,540] Trial 5 finished with value: 630511.940028516 and parameters: {'learning_rate': 0.006748976925894898, 'num_leaves': 350, 'subsample': 0.4013636859419865, 'colsample_bytree': 0.19257485620852327, 'min_data_in_leaf': 81}. Best is trial 2 with value: 542737.2189351728.\n"
     ]
    },
    {
     "name": "stdout",
     "output_type": "stream",
     "text": [
      "[LightGBM] [Warning] min_data_in_leaf is set=60, min_child_samples=20 will be ignored. Current value: min_data_in_leaf=60\n",
      "[LightGBM] [Warning] bagging_freq is set=1, subsample_freq=0 will be ignored. Current value: bagging_freq=1\n",
      "Training until validation scores don't improve for 100 rounds\n"
     ]
    },
    {
     "name": "stderr",
     "output_type": "stream",
     "text": [
      "[I 2023-08-15 14:48:35,635] Trial 6 finished with value: 537417.0224901205 and parameters: {'learning_rate': 0.06557303678578777, 'num_leaves': 775, 'subsample': 0.8091970028656846, 'colsample_bytree': 0.5425179328988707, 'min_data_in_leaf': 60}. Best is trial 6 with value: 537417.0224901205.\n"
     ]
    },
    {
     "name": "stdout",
     "output_type": "stream",
     "text": [
      "Early stopping, best iteration is:\n",
      "[170]\tvalid_0's rmse: 537417\n",
      "[LightGBM] [Warning] min_data_in_leaf is set=93, min_child_samples=20 will be ignored. Current value: min_data_in_leaf=93\n",
      "[LightGBM] [Warning] bagging_freq is set=1, subsample_freq=0 will be ignored. Current value: bagging_freq=1\n",
      "Training until validation scores don't improve for 100 rounds\n",
      "Did not meet early stopping. Best iteration is:\n",
      "[1000]\tvalid_0's rmse: 536735\n"
     ]
    },
    {
     "name": "stderr",
     "output_type": "stream",
     "text": [
      "[I 2023-08-15 14:48:57,008] Trial 7 finished with value: 536735.2366714696 and parameters: {'learning_rate': 0.013124704613603213, 'num_leaves': 435, 'subsample': 0.7195235930663942, 'colsample_bytree': 0.43329298992824355, 'min_data_in_leaf': 93}. Best is trial 7 with value: 536735.2366714696.\n"
     ]
    },
    {
     "name": "stdout",
     "output_type": "stream",
     "text": [
      "[LightGBM] [Warning] min_data_in_leaf is set=6, min_child_samples=20 will be ignored. Current value: min_data_in_leaf=6\n",
      "[LightGBM] [Warning] bagging_freq is set=1, subsample_freq=0 will be ignored. Current value: bagging_freq=1\n",
      "Training until validation scores don't improve for 100 rounds\n",
      "Did not meet early stopping. Best iteration is:\n",
      "[1000]\tvalid_0's rmse: 545667\n"
     ]
    },
    {
     "name": "stderr",
     "output_type": "stream",
     "text": [
      "[I 2023-08-15 14:50:53,339] Trial 8 finished with value: 545666.591596468 and parameters: {'learning_rate': 0.005670641889779678, 'num_leaves': 466, 'subsample': 0.27145626210390267, 'colsample_bytree': 0.37115247281373426, 'min_data_in_leaf': 6}. Best is trial 7 with value: 536735.2366714696.\n"
     ]
    },
    {
     "name": "stdout",
     "output_type": "stream",
     "text": [
      "[LightGBM] [Warning] min_data_in_leaf is set=80, min_child_samples=20 will be ignored. Current value: min_data_in_leaf=80\n",
      "[LightGBM] [Warning] bagging_freq is set=1, subsample_freq=0 will be ignored. Current value: bagging_freq=1\n",
      "Training until validation scores don't improve for 100 rounds\n",
      "Did not meet early stopping. Best iteration is:\n",
      "[1000]\tvalid_0's rmse: 554452\n"
     ]
    },
    {
     "name": "stderr",
     "output_type": "stream",
     "text": [
      "[I 2023-08-15 14:51:17,880] Trial 9 finished with value: 554452.4321069141 and parameters: {'learning_rate': 0.01405122537465944, 'num_leaves': 475, 'subsample': 0.5952119605371743, 'colsample_bytree': 0.2411932454205436, 'min_data_in_leaf': 80}. Best is trial 7 with value: 536735.2366714696.\n"
     ]
    },
    {
     "name": "stdout",
     "output_type": "stream",
     "text": [
      "[LightGBM] [Warning] min_data_in_leaf is set=100, min_child_samples=20 will be ignored. Current value: min_data_in_leaf=100\n",
      "[LightGBM] [Warning] bagging_freq is set=1, subsample_freq=0 will be ignored. Current value: bagging_freq=1\n",
      "Training until validation scores don't improve for 100 rounds\n"
     ]
    },
    {
     "name": "stderr",
     "output_type": "stream",
     "text": [
      "[I 2023-08-15 14:51:29,879] Trial 10 finished with value: 531513.8746313928 and parameters: {'learning_rate': 0.09117564942203059, 'num_leaves': 9, 'subsample': 0.924889019539922, 'colsample_bytree': 0.3849301274714246, 'min_data_in_leaf': 100}. Best is trial 10 with value: 531513.8746313928.\n"
     ]
    },
    {
     "name": "stdout",
     "output_type": "stream",
     "text": [
      "Early stopping, best iteration is:\n",
      "[513]\tvalid_0's rmse: 531514\n",
      "[LightGBM] [Warning] min_data_in_leaf is set=100, min_child_samples=20 will be ignored. Current value: min_data_in_leaf=100\n",
      "[LightGBM] [Warning] bagging_freq is set=1, subsample_freq=0 will be ignored. Current value: bagging_freq=1\n",
      "Training until validation scores don't improve for 100 rounds\n"
     ]
    },
    {
     "name": "stderr",
     "output_type": "stream",
     "text": [
      "[I 2023-08-15 14:51:35,907] Trial 11 finished with value: 551192.7232577201 and parameters: {'learning_rate': 0.0745724046150723, 'num_leaves': 17, 'subsample': 0.9550121495969813, 'colsample_bytree': 0.3470292172975061, 'min_data_in_leaf': 100}. Best is trial 10 with value: 531513.8746313928.\n"
     ]
    },
    {
     "name": "stdout",
     "output_type": "stream",
     "text": [
      "Early stopping, best iteration is:\n",
      "[506]\tvalid_0's rmse: 551193\n",
      "[LightGBM] [Warning] min_data_in_leaf is set=71, min_child_samples=20 will be ignored. Current value: min_data_in_leaf=71\n",
      "[LightGBM] [Warning] bagging_freq is set=1, subsample_freq=0 will be ignored. Current value: bagging_freq=1\n",
      "Training until validation scores don't improve for 100 rounds\n"
     ]
    },
    {
     "name": "stderr",
     "output_type": "stream",
     "text": [
      "[I 2023-08-15 14:51:46,317] Trial 12 finished with value: 531924.9501306467 and parameters: {'learning_rate': 0.038881966523088056, 'num_leaves': 12, 'subsample': 0.980637239884532, 'colsample_bytree': 0.38794772449916015, 'min_data_in_leaf': 71}. Best is trial 10 with value: 531513.8746313928.\n"
     ]
    },
    {
     "name": "stdout",
     "output_type": "stream",
     "text": [
      "Did not meet early stopping. Best iteration is:\n",
      "[985]\tvalid_0's rmse: 531925\n",
      "[LightGBM] [Warning] min_data_in_leaf is set=65, min_child_samples=20 will be ignored. Current value: min_data_in_leaf=65\n",
      "[LightGBM] [Warning] bagging_freq is set=1, subsample_freq=0 will be ignored. Current value: bagging_freq=1\n",
      "Training until validation scores don't improve for 100 rounds\n"
     ]
    },
    {
     "name": "stderr",
     "output_type": "stream",
     "text": [
      "[I 2023-08-15 14:52:04,984] Trial 13 finished with value: 550503.4471418414 and parameters: {'learning_rate': 0.08534644904438332, 'num_leaves': 7, 'subsample': 0.9937022070738485, 'colsample_bytree': 0.3098533076843088, 'min_data_in_leaf': 65}. Best is trial 10 with value: 531513.8746313928.\n"
     ]
    },
    {
     "name": "stdout",
     "output_type": "stream",
     "text": [
      "Did not meet early stopping. Best iteration is:\n",
      "[987]\tvalid_0's rmse: 550503\n",
      "[LightGBM] [Warning] min_data_in_leaf is set=75, min_child_samples=20 will be ignored. Current value: min_data_in_leaf=75\n",
      "[LightGBM] [Warning] bagging_freq is set=1, subsample_freq=0 will be ignored. Current value: bagging_freq=1\n",
      "Training until validation scores don't improve for 100 rounds\n",
      "Early stopping, best iteration is:\n",
      "[488]\tvalid_0's rmse: 535085\n"
     ]
    },
    {
     "name": "stderr",
     "output_type": "stream",
     "text": [
      "[I 2023-08-15 14:52:28,554] Trial 14 finished with value: 535085.2955428981 and parameters: {'learning_rate': 0.03671228710272042, 'num_leaves': 136, 'subsample': 0.896466659750563, 'colsample_bytree': 0.45068536169470974, 'min_data_in_leaf': 75}. Best is trial 10 with value: 531513.8746313928.\n"
     ]
    },
    {
     "name": "stdout",
     "output_type": "stream",
     "text": [
      "[LightGBM] [Warning] min_data_in_leaf is set=58, min_child_samples=20 will be ignored. Current value: min_data_in_leaf=58\n",
      "[LightGBM] [Warning] bagging_freq is set=1, subsample_freq=0 will be ignored. Current value: bagging_freq=1\n",
      "Training until validation scores don't improve for 100 rounds\n",
      "Did not meet early stopping. Best iteration is:\n",
      "[975]\tvalid_0's rmse: 558492\n"
     ]
    },
    {
     "name": "stderr",
     "output_type": "stream",
     "text": [
      "[I 2023-08-15 14:52:53,918] Trial 15 finished with value: 558491.5700782485 and parameters: {'learning_rate': 0.09793256252755382, 'num_leaves': 265, 'subsample': 0.8889438897982678, 'colsample_bytree': 0.08104457913553165, 'min_data_in_leaf': 58}. Best is trial 10 with value: 531513.8746313928.\n"
     ]
    },
    {
     "name": "stdout",
     "output_type": "stream",
     "text": [
      "[LightGBM] [Warning] min_data_in_leaf is set=72, min_child_samples=20 will be ignored. Current value: min_data_in_leaf=72\n",
      "[LightGBM] [Warning] bagging_freq is set=1, subsample_freq=0 will be ignored. Current value: bagging_freq=1\n",
      "Training until validation scores don't improve for 100 rounds\n"
     ]
    },
    {
     "name": "stderr",
     "output_type": "stream",
     "text": [
      "[I 2023-08-15 14:53:15,666] Trial 16 finished with value: 553141.286657038 and parameters: {'learning_rate': 0.04518949614836112, 'num_leaves': 108, 'subsample': 0.990312979497071, 'colsample_bytree': 0.2567114581701935, 'min_data_in_leaf': 72}. Best is trial 10 with value: 531513.8746313928.\n"
     ]
    },
    {
     "name": "stdout",
     "output_type": "stream",
     "text": [
      "Early stopping, best iteration is:\n",
      "[583]\tvalid_0's rmse: 553141\n",
      "[LightGBM] [Warning] min_data_in_leaf is set=87, min_child_samples=20 will be ignored. Current value: min_data_in_leaf=87\n",
      "[LightGBM] [Warning] bagging_freq is set=1, subsample_freq=0 will be ignored. Current value: bagging_freq=1\n",
      "Training until validation scores don't improve for 100 rounds\n",
      "Early stopping, best iteration is:\n",
      "[357]\tvalid_0's rmse: 535877\n"
     ]
    },
    {
     "name": "stderr",
     "output_type": "stream",
     "text": [
      "[I 2023-08-15 14:53:31,461] Trial 17 finished with value: 535877.2606192263 and parameters: {'learning_rate': 0.04335459910132294, 'num_leaves': 281, 'subsample': 0.8532606528345678, 'colsample_bytree': 0.6491206777858041, 'min_data_in_leaf': 87}. Best is trial 10 with value: 531513.8746313928.\n"
     ]
    },
    {
     "name": "stdout",
     "output_type": "stream",
     "text": [
      "[LightGBM] [Warning] min_data_in_leaf is set=20, min_child_samples=20 will be ignored. Current value: min_data_in_leaf=20\n",
      "[LightGBM] [Warning] bagging_freq is set=1, subsample_freq=0 will be ignored. Current value: bagging_freq=1\n",
      "Training until validation scores don't improve for 100 rounds\n"
     ]
    },
    {
     "name": "stderr",
     "output_type": "stream",
     "text": [
      "[I 2023-08-15 14:53:49,627] Trial 18 finished with value: 536970.4678755624 and parameters: {'learning_rate': 0.02718388375414969, 'num_leaves': 96, 'subsample': 0.8821698257240136, 'colsample_bytree': 0.42797207318542463, 'min_data_in_leaf': 20}. Best is trial 10 with value: 531513.8746313928.\n"
     ]
    },
    {
     "name": "stdout",
     "output_type": "stream",
     "text": [
      "Early stopping, best iteration is:\n",
      "[328]\tvalid_0's rmse: 536970\n",
      "[LightGBM] [Warning] min_data_in_leaf is set=51, min_child_samples=20 will be ignored. Current value: min_data_in_leaf=51\n",
      "[LightGBM] [Warning] bagging_freq is set=1, subsample_freq=0 will be ignored. Current value: bagging_freq=1\n",
      "Training until validation scores don't improve for 100 rounds\n",
      "Early stopping, best iteration is:\n",
      "[364]\tvalid_0's rmse: 552131\n"
     ]
    },
    {
     "name": "stderr",
     "output_type": "stream",
     "text": [
      "[I 2023-08-15 14:54:10,581] Trial 19 finished with value: 552131.3085654643 and parameters: {'learning_rate': 0.06642577904240611, 'num_leaves': 988, 'subsample': 0.6056564053950444, 'colsample_bytree': 0.27909993704755515, 'min_data_in_leaf': 51}. Best is trial 10 with value: 531513.8746313928.\n"
     ]
    }
   ],
   "source": [
    "def objective(trial):\n",
    "    params = {\n",
    "        \"objective\": \"regression\",\n",
    "        \"metric\": \"rmse\",\n",
    "        \"n_estimators\": 1000,\n",
    "        \"verbosity\": -1,\n",
    "        \"bagging_freq\": 1,\n",
    "        \"learning_rate\": trial.suggest_float(\"learning_rate\", 1e-3, 0.1, log=True),\n",
    "        \"num_leaves\": trial.suggest_int(\"num_leaves\", 2, 2**10),\n",
    "        \"subsample\": trial.suggest_float(\"subsample\", 0.05, 1.0),\n",
    "        \"colsample_bytree\": trial.suggest_float(\"colsample_bytree\", 0.05, 1.0),\n",
    "        \"min_data_in_leaf\": trial.suggest_int(\"min_data_in_leaf\", 1, 100),\n",
    "    }\n",
    "\n",
    "    model = lgbm.LGBMRegressor(**params)\n",
    "    model.fit(\n",
    "        X_train,\n",
    "        y_train,\n",
    "        eval_set=[(X_val, y_val)],\n",
    "        callbacks=[lgbm.callback.early_stopping(stopping_rounds=100)],\n",
    "        verbose=False,\n",
    "    )\n",
    "\n",
    "    preds = model.predict(X_val)\n",
    "    rmse = mean_squared_error(y_val, preds, squared=False)\n",
    "\n",
    "    return rmse\n",
    "\n",
    "\n",
    "study_name = \"lgbm-house-prediction\"\n",
    "storage_name = f\"sqlite:///{study_name}.db\"\n",
    "study = optuna.create_study(\n",
    "    direction=\"minimize\", storage=storage_name, study_name=\"lgbm-sqlite-dashboard\"\n",
    ")\n",
    "study.optimize(objective, n_trials=20)"
   ]
  },
  {
   "cell_type": "code",
   "execution_count": 6,
   "metadata": {},
   "outputs": [
    {
     "name": "stdout",
     "output_type": "stream",
     "text": [
      "(\"Best hyperparameters: {'learning_rate': 0.09117564942203059, 'num_leaves': \"\n",
      " \"9, 'subsample': 0.924889019539922, 'colsample_bytree': 0.3849301274714246, \"\n",
      " \"'min_data_in_leaf': 100}\")\n",
      "\n",
      "\n",
      "'Best RMSE: 531513.8746313928'\n"
     ]
    }
   ],
   "source": [
    "pprint(f'Best hyperparameters: {study.best_params}')\n",
    "print('\\n')\n",
    "pprint(f'Best RMSE: {study.best_value}')"
   ]
  },
  {
   "cell_type": "code",
   "execution_count": 7,
   "metadata": {},
   "outputs": [],
   "source": [
    "other_params = {\n",
    "    \"objective\": \"regression\",\n",
    "    \"metric\": \"rmse\",\n",
    "    \"n_estimators\": 1000,\n",
    "    \"verbosity\": -1,\n",
    "    \"bagging_freq\": 1,\n",
    "}\n",
    "\n",
    "lgb_model = lgbm.LGBMRegressor(**study.best_params, **other_params, random_state=42)"
   ]
  },
  {
   "cell_type": "code",
   "execution_count": 8,
   "metadata": {},
   "outputs": [],
   "source": [
    "# lgb_model = lgbm.LGBMRegressor(\n",
    "#     objective=\"regression\",\n",
    "#     metric=\"rmse\",\n",
    "#     n_estimators=1000,\n",
    "#     verbosity=-1,\n",
    "#     bagging_freq=1,\n",
    "#     learning_rate=0.019978591523029308,\n",
    "#     num_leaves=613,\n",
    "#     subsample=0.8391699325392805,\n",
    "#     colsample_bytree=0.47702158866088945,\n",
    "#     min_data_in_leaf=99,\n",
    "# )"
   ]
  },
  {
   "cell_type": "code",
   "execution_count": 9,
   "metadata": {},
   "outputs": [
    {
     "name": "stdout",
     "output_type": "stream",
     "text": [
      "[LightGBM] [Warning] bagging_freq is set=1, subsample_freq=0 will be ignored. Current value: bagging_freq=1\n",
      "[LightGBM] [Warning] min_data_in_leaf is set=100, min_child_samples=20 will be ignored. Current value: min_data_in_leaf=100\n"
     ]
    },
    {
     "name": "stdout",
     "output_type": "stream",
     "text": [
      "Fold 1 RMSE: 471,812\n",
      "======================================================================\n",
      "[LightGBM] [Warning] bagging_freq is set=1, subsample_freq=0 will be ignored. Current value: bagging_freq=1\n",
      "[LightGBM] [Warning] min_data_in_leaf is set=100, min_child_samples=20 will be ignored. Current value: min_data_in_leaf=100\n",
      "Fold 2 RMSE: 409,749\n",
      "======================================================================\n",
      "[LightGBM] [Warning] bagging_freq is set=1, subsample_freq=0 will be ignored. Current value: bagging_freq=1\n",
      "[LightGBM] [Warning] min_data_in_leaf is set=100, min_child_samples=20 will be ignored. Current value: min_data_in_leaf=100\n",
      "Fold 3 RMSE: 584,274\n",
      "======================================================================\n",
      "[LightGBM] [Warning] bagging_freq is set=1, subsample_freq=0 will be ignored. Current value: bagging_freq=1\n",
      "[LightGBM] [Warning] min_data_in_leaf is set=100, min_child_samples=20 will be ignored. Current value: min_data_in_leaf=100\n",
      "Fold 4 RMSE: 466,844\n",
      "======================================================================\n",
      "[LightGBM] [Warning] bagging_freq is set=1, subsample_freq=0 will be ignored. Current value: bagging_freq=1\n",
      "[LightGBM] [Warning] min_data_in_leaf is set=100, min_child_samples=20 will be ignored. Current value: min_data_in_leaf=100\n",
      "Fold 5 RMSE: 703,042\n",
      "======================================================================\n",
      "[LightGBM] [Warning] bagging_freq is set=1, subsample_freq=0 will be ignored. Current value: bagging_freq=1\n",
      "[LightGBM] [Warning] min_data_in_leaf is set=100, min_child_samples=20 will be ignored. Current value: min_data_in_leaf=100\n",
      "Fold 6 RMSE: 486,490\n",
      "======================================================================\n",
      "[LightGBM] [Warning] bagging_freq is set=1, subsample_freq=0 will be ignored. Current value: bagging_freq=1\n",
      "[LightGBM] [Warning] min_data_in_leaf is set=100, min_child_samples=20 will be ignored. Current value: min_data_in_leaf=100\n",
      "Fold 7 RMSE: 501,260\n",
      "======================================================================\n",
      "[LightGBM] [Warning] bagging_freq is set=1, subsample_freq=0 will be ignored. Current value: bagging_freq=1\n",
      "[LightGBM] [Warning] min_data_in_leaf is set=100, min_child_samples=20 will be ignored. Current value: min_data_in_leaf=100\n",
      "Fold 8 RMSE: 554,446\n",
      "======================================================================\n",
      "[LightGBM] [Warning] bagging_freq is set=1, subsample_freq=0 will be ignored. Current value: bagging_freq=1\n",
      "[LightGBM] [Warning] min_data_in_leaf is set=100, min_child_samples=20 will be ignored. Current value: min_data_in_leaf=100\n",
      "Fold 9 RMSE: 602,930\n",
      "======================================================================\n",
      "[LightGBM] [Warning] bagging_freq is set=1, subsample_freq=0 will be ignored. Current value: bagging_freq=1\n",
      "[LightGBM] [Warning] min_data_in_leaf is set=100, min_child_samples=20 will be ignored. Current value: min_data_in_leaf=100\n",
      "Fold 10 RMSE: 624,692\n",
      "======================================================================\n",
      "[LightGBM] [Warning] bagging_freq is set=1, subsample_freq=0 will be ignored. Current value: bagging_freq=1\n",
      "[LightGBM] [Warning] min_data_in_leaf is set=100, min_child_samples=20 will be ignored. Current value: min_data_in_leaf=100\n",
      "Fold 11 RMSE: 471,679\n",
      "======================================================================\n",
      "[LightGBM] [Warning] bagging_freq is set=1, subsample_freq=0 will be ignored. Current value: bagging_freq=1\n",
      "[LightGBM] [Warning] min_data_in_leaf is set=100, min_child_samples=20 will be ignored. Current value: min_data_in_leaf=100\n",
      "Fold 12 RMSE: 599,998\n",
      "======================================================================\n",
      "[LightGBM] [Warning] bagging_freq is set=1, subsample_freq=0 will be ignored. Current value: bagging_freq=1\n",
      "[LightGBM] [Warning] min_data_in_leaf is set=100, min_child_samples=20 will be ignored. Current value: min_data_in_leaf=100\n",
      "Fold 13 RMSE: 470,954\n",
      "======================================================================\n",
      "[LightGBM] [Warning] bagging_freq is set=1, subsample_freq=0 will be ignored. Current value: bagging_freq=1\n",
      "[LightGBM] [Warning] min_data_in_leaf is set=100, min_child_samples=20 will be ignored. Current value: min_data_in_leaf=100\n",
      "Fold 14 RMSE: 473,119\n",
      "======================================================================\n",
      "[LightGBM] [Warning] bagging_freq is set=1, subsample_freq=0 will be ignored. Current value: bagging_freq=1\n",
      "[LightGBM] [Warning] min_data_in_leaf is set=100, min_child_samples=20 will be ignored. Current value: min_data_in_leaf=100\n",
      "Fold 15 RMSE: 674,955\n",
      "======================================================================\n",
      "Average RMSE: 539,750\n"
     ]
    },
    {
     "data": {
      "image/png": "[encoded data removed]",
      "text/plain": [
       "<Figure size 1000x800 with 1 Axes>"
      ]
     },
     "metadata": {},
     "output_type": "display_data"
    }
   ],
   "source": [
    "lgbm_preds = fold_fit_score(\n",
    "    lgb_model,\n",
    "    X,\n",
    "    y,\n",
    "    X_test,\n",
    "    15,\n",
    "    transform_func=np.log1p,\n",
    "    inverse_transform_func=np.expm1,\n",
    "    plot_feat_imp=True,\n",
    ")"
   ]
  },
  {
   "cell_type": "code",
   "execution_count": 10,
   "metadata": {},
   "outputs": [
    {
     "name": "stdout",
     "output_type": "stream",
     "text": [
      "(6000, 1)\n"
     ]
    },
    {
     "data": {
      "text/html": [
       "<div>\n",
       "<style scoped>\n",
       "    .dataframe tbody tr th:only-of-type {\n",
       "        vertical-align: middle;\n",
       "    }\n",
       "\n",
       "    .dataframe tbody tr th {\n",
       "        vertical-align: top;\n",
       "    }\n",
       "\n",
       "    .dataframe thead th {\n",
       "        text-align: right;\n",
       "    }\n",
       "</style>\n",
       "<table border=\"1\" class=\"dataframe\">\n",
       "  <thead>\n",
       "    <tr style=\"text-align: right;\">\n",
       "      <th></th>\n",
       "      <th>ID</th>\n",
       "      <th>price</th>\n",
       "    </tr>\n",
       "  </thead>\n",
       "  <tbody>\n",
       "    <tr>\n",
       "      <th>0</th>\n",
       "      <td>845</td>\n",
       "      <td>2.354066e+06</td>\n",
       "    </tr>\n",
       "    <tr>\n",
       "      <th>1</th>\n",
       "      <td>1924</td>\n",
       "      <td>1.033344e+06</td>\n",
       "    </tr>\n",
       "    <tr>\n",
       "      <th>2</th>\n",
       "      <td>10718</td>\n",
       "      <td>1.185431e+06</td>\n",
       "    </tr>\n",
       "    <tr>\n",
       "      <th>3</th>\n",
       "      <td>12076</td>\n",
       "      <td>9.472772e+06</td>\n",
       "    </tr>\n",
       "    <tr>\n",
       "      <th>4</th>\n",
       "      <td>12254</td>\n",
       "      <td>1.833892e+06</td>\n",
       "    </tr>\n",
       "  </tbody>\n",
       "</table>\n",
       "</div>"
      ],
      "text/plain": [
       "      ID         price\n",
       "0    845  2.354066e+06\n",
       "1   1924  1.033344e+06\n",
       "2  10718  1.185431e+06\n",
       "3  12076  9.472772e+06\n",
       "4  12254  1.833892e+06"
      ]
     },
     "execution_count": 10,
     "metadata": {},
     "output_type": "execute_result"
    }
   ],
   "source": [
    "sample_sub = pd.read_csv('data/Sample_submission.csv')\n",
    "print(sample_sub.shape)\n",
    "\n",
    "sample_sub[\"price\"] = np.mean(lgbm_preds, axis=0)\n",
    "sample_sub.to_csv(\n",
    "    \"submissions/lgbm_regressor_tuned_kfold_15_log_transformed_feat_eng_optuna.csv\", index=False\n",
    ")\n",
    "sample_sub.head()"
   ]
  }
 ],
 "metadata": {
  "kernelspec": {
   "display_name": "base",
   "language": "python",
   "name": "python3"
  },
  "language_info": {
   "codemirror_mode": {
    "name": "ipython",
    "version": 3
   },
   "file_extension": ".py",
   "mimetype": "text/x-python",
   "name": "python",
   "nbconvert_exporter": "python",
   "pygments_lexer": "ipython3",
   "version": "3.10.9"
  },
  "orig_nbformat": 4
 },
 "nbformat": 4,
 "nbformat_minor": 2
}
